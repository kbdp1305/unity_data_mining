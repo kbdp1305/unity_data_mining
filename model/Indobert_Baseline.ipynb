{
  "cells": [
    {
      "cell_type": "code",
      "execution_count": 1,
      "metadata": {
        "execution": {
          "iopub.execute_input": "2023-09-08T13:08:00.005428Z",
          "iopub.status.busy": "2023-09-08T13:08:00.005123Z",
          "iopub.status.idle": "2023-09-08T13:08:16.000071Z",
          "shell.execute_reply": "2023-09-08T13:08:15.999030Z",
          "shell.execute_reply.started": "2023-09-08T13:08:00.005400Z"
        },
        "id": "0VNmzsimSx3T",
        "outputId": "5c640411-699e-47b3-b9d0-d68eedb7886f",
        "trusted": true
      },
      "outputs": [],
      "source": [
        "import pandas as pd\n",
        "import re\n",
        "import matplotlib.pyplot as plt\n",
        "import pandas as pd    # digunakan untuk manipulasi dan analisis data\n",
        "import matplotlib.pyplot as plt   # digunakan untuk visualisasi data\n",
        "# import seaborn as sns   # juga digunakan untuk visualisasi data\n",
        "\n",
        "\n",
        "\n",
        "from sklearn.model_selection import(   # digunakan untuk validasi silang dan hyperparameter tuning\n",
        "    train_test_split,\n",
        "    RandomizedSearchCV,\n",
        "    cross_val_score,\n",
        ")\n",
        "\n",
        "\n",
        "import math\n",
        "import warnings\n",
        "\n",
        "\n",
        "\n",
        "import time\n",
        "\n",
        "\n",
        "\n",
        "\n",
        "import pickle\n",
        "import re\n",
        "\n",
        "import pyarrow.feather as feather\n",
        "import pandas as pd\n",
        "\n",
        "import pyarrow as pa\n",
        "import pyarrow.parquet as pq\n",
        "\n",
        "# from nltk.tokenize import word_tokenize\n",
        "\n",
        "import string\n",
        "import sys\n",
        "# sys.path.append('/content/indonlu')\n",
        "# from transformers import  BertConfig, BertTokenizer,BertForSequenceClassification\n",
        "\n",
        "\n",
        "import torch\n",
        "from torch import optim\n",
        "\n",
        "\n",
        "import pandas as pd\n",
        "import numpy as np\n",
        "import re\n",
        "from sklearn.model_selection import train_test_split\n",
        "from sklearn.metrics import confusion_matrix\n",
        "from sklearn.metrics import classification_report\n",
        "from collections import defaultdict\n",
        "\n",
        "# from Sastrawi.Stemmer.StemmerFactory import StemmerFactory\n",
        "from nltk.probability import FreqDist\n",
        "from nltk.tokenize import word_tokenize\n",
        "\n",
        "# Viz\n",
        "import matplotlib.pyplot as plt\n",
        "# import seaborn as sns\n",
        "import matplotlib as mpl\n",
        "from wordcloud import WordCloud\n",
        "\n",
        "#Model IndoBERT\n",
        "import random\n",
        "import torch\n",
        "import torch.nn.functional as F\n",
        "from torch import optim\n",
        "from tqdm import tqdm\n",
        "import spacy\n",
        "from spacy.lang.id import Indonesian\n",
        "from spacy.lang.id.stop_words import STOP_WORDS\n",
        "\n",
        "from Sastrawi.Stemmer.StemmerFactory import StemmerFactory\n",
        "\n",
        "# from transformers import BertForSequenceClassification, BertConfig, BertTokenizer\n",
        "# from indonlu.utils.data_utils import DocumentSentimentDataset, DocumentSentimentDataLoader\n",
        "# from indonlu.utils.forward_fn import forward_sequence_classification\n",
        "# from indonlu.utils.metrics import document_sentiment_metrics_fn"
      ]
    },
    {
      "cell_type": "code",
      "execution_count": 7,
      "metadata": {},
      "outputs": [],
      "source": [
        "pip install spacy"
      ]
    },
    {
      "cell_type": "code",
      "execution_count": null,
      "metadata": {
        "colab": {
          "base_uri": "https://localhost:8080/"
        },
        "execution": {
          "iopub.execute_input": "2023-09-08T13:07:20.855074Z",
          "iopub.status.busy": "2023-09-08T13:07:20.854786Z",
          "iopub.status.idle": "2023-09-08T13:07:36.089856Z",
          "shell.execute_reply": "2023-09-08T13:07:36.087781Z",
          "shell.execute_reply.started": "2023-09-08T13:07:20.855047Z"
        },
        "id": "ULWiJJWTwd4e",
        "outputId": "5d8777ad-f625-402c-af16-66d5e1fb833c",
        "trusted": true
      },
      "outputs": [
        {
          "name": "stdout",
          "output_type": "stream",
          "text": [
            "Collecting sastrawi\n",
            "  Downloading Sastrawi-1.0.1-py2.py3-none-any.whl.metadata (909 bytes)\n",
            "Downloading Sastrawi-1.0.1-py2.py3-none-any.whl (209 kB)\n",
            "   ---------------------------------------- 0.0/209.7 kB ? eta -:--:--\n",
            "   ---------------------------------------- 0.0/209.7 kB ? eta -:--:--\n",
            "   - -------------------------------------- 10.2/209.7 kB ? eta -:--:--\n",
            "   ----- --------------------------------- 30.7/209.7 kB 435.7 kB/s eta 0:00:01\n",
            "   --------------- ----------------------- 81.9/209.7 kB 573.4 kB/s eta 0:00:01\n",
            "   ---------------------------------------- 209.7/209.7 kB 1.2 MB/s eta 0:00:00\n",
            "Installing collected packages: sastrawi\n",
            "Successfully installed sastrawi-1.0.1\n",
            "Note: you may need to restart the kernel to use updated packages.\n"
          ]
        }
      ],
      "source": [
        "pip install sastrawi"
      ]
    },
    {
      "cell_type": "code",
      "execution_count": null,
      "metadata": {
        "colab": {
          "base_uri": "https://localhost:8080/"
        },
        "execution": {
          "iopub.execute_input": "2023-09-09T14:21:55.301997Z",
          "iopub.status.busy": "2023-09-09T14:21:55.301627Z",
          "iopub.status.idle": "2023-09-09T14:22:11.150728Z",
          "shell.execute_reply": "2023-09-09T14:22:11.149278Z",
          "shell.execute_reply.started": "2023-09-09T14:21:55.301963Z"
        },
        "id": "ymEG9dUazqMF",
        "outputId": "878cd5b6-da63-4f11-e531-da9295e43d12",
        "trusted": true
      },
      "outputs": [
        {
          "name": "stdout",
          "output_type": "stream",
          "text": [
            "Collecting transformers\n",
            "  Downloading transformers-4.39.0-py3-none-any.whl.metadata (134 kB)\n",
            "     ---------------------------------------- 0.0/134.8 kB ? eta -:--:--\n",
            "     --- ------------------------------------ 10.2/134.8 kB ? eta -:--:--\n",
            "     --- ------------------------------------ 10.2/134.8 kB ? eta -:--:--\n",
            "     -------- ---------------------------- 30.7/134.8 kB 217.9 kB/s eta 0:00:01\n",
            "     ----------- ------------------------- 41.0/134.8 kB 217.9 kB/s eta 0:00:01\n",
            "     ------------------------- ----------- 92.2/134.8 kB 401.6 kB/s eta 0:00:01\n",
            "     ------------------------------------ 134.8/134.8 kB 569.0 kB/s eta 0:00:00\n",
            "Requirement already satisfied: filelock in c:\\lomba\\unity uny\\data mining\\.conda\\lib\\site-packages (from transformers) (3.13.1)\n",
            "Collecting huggingface-hub<1.0,>=0.19.3 (from transformers)\n",
            "  Downloading huggingface_hub-0.21.4-py3-none-any.whl.metadata (13 kB)\n",
            "Requirement already satisfied: numpy>=1.17 in c:\\lomba\\unity uny\\data mining\\.conda\\lib\\site-packages (from transformers) (1.26.4)\n",
            "Requirement already satisfied: packaging>=20.0 in c:\\users\\krisn\\appdata\\roaming\\python\\python310\\site-packages (from transformers) (23.1)\n",
            "Requirement already satisfied: pyyaml>=5.1 in c:\\lomba\\unity uny\\data mining\\.conda\\lib\\site-packages (from transformers) (6.0.1)\n",
            "Collecting regex!=2019.12.17 (from transformers)\n",
            "  Downloading regex-2023.12.25-cp310-cp310-win_amd64.whl.metadata (41 kB)\n",
            "     ---------------------------------------- 0.0/42.0 kB ? eta -:--:--\n",
            "     ---------------------------------------- 42.0/42.0 kB 2.0 MB/s eta 0:00:00\n",
            "Requirement already satisfied: requests in c:\\users\\krisn\\appdata\\roaming\\python\\python310\\site-packages (from transformers) (2.31.0)\n",
            "Collecting tokenizers<0.19,>=0.14 (from transformers)\n",
            "  Downloading tokenizers-0.15.2-cp310-none-win_amd64.whl.metadata (6.8 kB)\n",
            "Collecting safetensors>=0.4.1 (from transformers)\n",
            "  Downloading safetensors-0.4.2-cp310-none-win_amd64.whl.metadata (3.9 kB)\n",
            "Collecting tqdm>=4.27 (from transformers)\n",
            "  Downloading tqdm-4.66.2-py3-none-any.whl.metadata (57 kB)\n",
            "     ---------------------------------------- 0.0/57.6 kB ? eta -:--:--\n",
            "     ---------------------------------------- 57.6/57.6 kB ? eta 0:00:00\n",
            "Collecting fsspec>=2023.5.0 (from huggingface-hub<1.0,>=0.19.3->transformers)\n",
            "  Using cached fsspec-2024.3.1-py3-none-any.whl.metadata (6.8 kB)\n",
            "Requirement already satisfied: typing-extensions>=3.7.4.3 in c:\\lomba\\unity uny\\data mining\\.conda\\lib\\site-packages (from huggingface-hub<1.0,>=0.19.3->transformers) (4.9.0)\n",
            "Requirement already satisfied: colorama in c:\\lomba\\unity uny\\data mining\\.conda\\lib\\site-packages (from tqdm>=4.27->transformers) (0.4.6)\n",
            "Requirement already satisfied: charset-normalizer<4,>=2 in c:\\users\\krisn\\appdata\\roaming\\python\\python310\\site-packages (from requests->transformers) (3.2.0)\n",
            "Requirement already satisfied: idna<4,>=2.5 in c:\\users\\krisn\\appdata\\roaming\\python\\python310\\site-packages (from requests->transformers) (3.4)\n",
            "Requirement already satisfied: urllib3<3,>=1.21.1 in c:\\users\\krisn\\appdata\\roaming\\python\\python310\\site-packages (from requests->transformers) (1.26.16)\n",
            "Requirement already satisfied: certifi>=2017.4.17 in c:\\users\\krisn\\appdata\\roaming\\python\\python310\\site-packages (from requests->transformers) (2023.7.22)\n",
            "Downloading transformers-4.39.0-py3-none-any.whl (8.8 MB)\n",
            "   ---------------------------------------- 0.0/8.8 MB ? eta -:--:--\n",
            "   - -------------------------------------- 0.3/8.8 MB 10.2 MB/s eta 0:00:01\n",
            "   ----- ---------------------------------- 1.2/8.8 MB 14.7 MB/s eta 0:00:01\n",
            "   --------- ------------------------------ 2.1/8.8 MB 19.1 MB/s eta 0:00:01\n",
            "   ---------- ----------------------------- 2.4/8.8 MB 13.9 MB/s eta 0:00:01\n",
            "   --------------- ------------------------ 3.4/8.8 MB 15.7 MB/s eta 0:00:01\n",
            "   ----------------- ---------------------- 3.8/8.8 MB 14.2 MB/s eta 0:00:01\n",
            "   --------------------- ------------------ 4.7/8.8 MB 15.1 MB/s eta 0:00:01\n",
            "   ----------------------- ---------------- 5.1/8.8 MB 14.1 MB/s eta 0:00:01\n",
            "   ------------------------ --------------- 5.5/8.8 MB 14.0 MB/s eta 0:00:01\n",
            "   ----------------------------- ---------- 6.6/8.8 MB 14.5 MB/s eta 0:00:01\n",
            "   -------------------------------- ------- 7.1/8.8 MB 14.2 MB/s eta 0:00:01\n",
            "   ----------------------------------- ---- 7.7/8.8 MB 14.2 MB/s eta 0:00:01\n",
            "   ------------------------------------- -- 8.3/8.8 MB 13.7 MB/s eta 0:00:01\n",
            "   ---------------------------------------  8.8/8.8 MB 13.4 MB/s eta 0:00:01\n",
            "   ---------------------------------------- 8.8/8.8 MB 12.8 MB/s eta 0:00:00\n",
            "Downloading huggingface_hub-0.21.4-py3-none-any.whl (346 kB)\n",
            "   ---------------------------------------- 0.0/346.4 kB ? eta -:--:--\n",
            "   --------------------------------------- 346.4/346.4 kB 10.5 MB/s eta 0:00:00\n",
            "Downloading regex-2023.12.25-cp310-cp310-win_amd64.whl (269 kB)\n",
            "   ---------------------------------------- 0.0/269.5 kB ? eta -:--:--\n",
            "   ---------------------------------------- 269.5/269.5 kB 8.4 MB/s eta 0:00:00\n",
            "Downloading safetensors-0.4.2-cp310-none-win_amd64.whl (269 kB)\n",
            "   ---------------------------------------- 0.0/269.5 kB ? eta -:--:--\n",
            "   ---------------------------------------- 269.5/269.5 kB 8.4 MB/s eta 0:00:00\n",
            "Downloading tokenizers-0.15.2-cp310-none-win_amd64.whl (2.2 MB)\n",
            "   ---------------------------------------- 0.0/2.2 MB ? eta -:--:--\n",
            "   --------- ------------------------------ 0.5/2.2 MB 11.3 MB/s eta 0:00:01\n",
            "   ------------------- -------------------- 1.1/2.2 MB 11.2 MB/s eta 0:00:01\n",
            "   ---------------------------- ----------- 1.6/2.2 MB 11.2 MB/s eta 0:00:01\n",
            "   -------------------------------------- - 2.1/2.2 MB 11.2 MB/s eta 0:00:01\n",
            "   ---------------------------------------- 2.2/2.2 MB 10.0 MB/s eta 0:00:00\n",
            "Downloading tqdm-4.66.2-py3-none-any.whl (78 kB)\n",
            "   ---------------------------------------- 0.0/78.3 kB ? eta -:--:--\n",
            "   ---------------------------------------- 78.3/78.3 kB ? eta 0:00:00\n",
            "Using cached fsspec-2024.3.1-py3-none-any.whl (171 kB)\n",
            "Installing collected packages: tqdm, safetensors, regex, fsspec, huggingface-hub, tokenizers, transformers\n",
            "Successfully installed fsspec-2024.3.1 huggingface-hub-0.21.4 regex-2023.12.25 safetensors-0.4.2 tokenizers-0.15.2 tqdm-4.66.2 transformers-4.39.0\n",
            "Note: you may need to restart the kernel to use updated packages.\n"
          ]
        },
        {
          "name": "stderr",
          "output_type": "stream",
          "text": [
            "ERROR: pip's dependency resolver does not currently take into account all the packages that are installed. This behaviour is the source of the following dependency conflicts.\n",
            "hyperopt 0.2.7 requires scipy, which is not installed.\n",
            "pycaret 3.1.0 requires imbalanced-learn>=0.8.1, which is not installed.\n",
            "pycaret 3.1.0 requires importlib-metadata>=4.12.0, which is not installed.\n",
            "pycaret 3.1.0 requires ipywidgets>=7.6.5, which is not installed.\n",
            "pycaret 3.1.0 requires joblib>=1.2.0, which is not installed.\n",
            "pycaret 3.1.0 requires kaleido>=0.2.1, which is not installed.\n",
            "pycaret 3.1.0 requires lightgbm>=3.0.0, which is not installed.\n",
            "pycaret 3.1.0 requires matplotlib>=3.3.0, which is not installed.\n",
            "pycaret 3.1.0 requires plotly>=5.0.0, which is not installed.\n",
            "pycaret 3.1.0 requires scipy~=1.10.1, which is not installed.\n",
            "pycaret 3.1.0 requires xxhash, which is not installed.\n",
            "ydata-profiling 4.5.1 requires htmlmin==0.1.12, which is not installed.\n",
            "ydata-profiling 4.5.1 requires matplotlib<4,>=3.2, which is not installed.\n",
            "ydata-profiling 4.5.1 requires pydantic<2,>=1.8.1, which is not installed.\n",
            "ydata-profiling 4.5.1 requires scipy<1.12,>=1.4.1, which is not installed.\n",
            "ydata-profiling 4.5.1 requires seaborn<0.13,>=0.10.1, which is not installed.\n",
            "ydata-profiling 4.5.1 requires typeguard<3,>=2.13.2, which is not installed.\n",
            "pycaret 3.1.0 requires numpy<1.24,>=1.21, but you have numpy 1.26.4 which is incompatible.\n",
            "ydata-profiling 4.5.1 requires numpy<1.24,>=1.16.0, but you have numpy 1.26.4 which is incompatible.\n"
          ]
        }
      ],
      "source": [
        "pip install transformers\n"
      ]
    },
    {
      "cell_type": "code",
      "execution_count": null,
      "metadata": {
        "execution": {
          "iopub.execute_input": "2023-09-09T14:22:11.153190Z",
          "iopub.status.busy": "2023-09-09T14:22:11.152690Z",
          "iopub.status.idle": "2023-09-09T14:22:25.633042Z",
          "shell.execute_reply": "2023-09-09T14:22:25.631954Z",
          "shell.execute_reply.started": "2023-09-09T14:22:11.153130Z"
        },
        "id": "xb-1jaaDMWIv",
        "outputId": "107f8684-ed92-41ed-e13c-75580bf341ef",
        "trusted": true
      },
      "outputs": [
        {
          "name": "stdout",
          "output_type": "stream",
          "text": [
            "Collecting gdown\n",
            "  Downloading gdown-5.1.0-py3-none-any.whl.metadata (5.7 kB)\n",
            "Collecting beautifulsoup4 (from gdown)\n",
            "  Downloading beautifulsoup4-4.12.3-py3-none-any.whl.metadata (3.8 kB)\n",
            "Requirement already satisfied: filelock in c:\\lomba\\unity uny\\data mining\\.conda\\lib\\site-packages (from gdown) (3.13.1)\n",
            "Requirement already satisfied: requests[socks] in c:\\users\\krisn\\appdata\\roaming\\python\\python310\\site-packages (from gdown) (2.31.0)\n",
            "Requirement already satisfied: tqdm in c:\\lomba\\unity uny\\data mining\\.conda\\lib\\site-packages (from gdown) (4.66.2)\n",
            "Collecting soupsieve>1.2 (from beautifulsoup4->gdown)\n",
            "  Downloading soupsieve-2.5-py3-none-any.whl.metadata (4.7 kB)\n",
            "Requirement already satisfied: charset-normalizer<4,>=2 in c:\\users\\krisn\\appdata\\roaming\\python\\python310\\site-packages (from requests[socks]->gdown) (3.2.0)\n",
            "Requirement already satisfied: idna<4,>=2.5 in c:\\users\\krisn\\appdata\\roaming\\python\\python310\\site-packages (from requests[socks]->gdown) (3.4)\n",
            "Requirement already satisfied: urllib3<3,>=1.21.1 in c:\\users\\krisn\\appdata\\roaming\\python\\python310\\site-packages (from requests[socks]->gdown) (1.26.16)\n",
            "Requirement already satisfied: certifi>=2017.4.17 in c:\\users\\krisn\\appdata\\roaming\\python\\python310\\site-packages (from requests[socks]->gdown) (2023.7.22)\n",
            "Requirement already satisfied: PySocks!=1.5.7,>=1.5.6 in c:\\lomba\\unity uny\\data mining\\.conda\\lib\\site-packages (from requests[socks]->gdown) (1.7.1)\n",
            "Requirement already satisfied: colorama in c:\\lomba\\unity uny\\data mining\\.conda\\lib\\site-packages (from tqdm->gdown) (0.4.6)\n",
            "Downloading gdown-5.1.0-py3-none-any.whl (17 kB)\n",
            "Downloading beautifulsoup4-4.12.3-py3-none-any.whl (147 kB)\n",
            "   ---------------------------------------- 0.0/147.9 kB ? eta -:--:--\n",
            "   -- ------------------------------------- 10.2/147.9 kB ? eta -:--:--\n",
            "   -------------------------------------- - 143.4/147.9 kB 1.7 MB/s eta 0:00:01\n",
            "   ---------------------------------------- 147.9/147.9 kB 1.8 MB/s eta 0:00:00\n",
            "Downloading soupsieve-2.5-py3-none-any.whl (36 kB)\n",
            "Installing collected packages: soupsieve, beautifulsoup4, gdown\n",
            "Successfully installed beautifulsoup4-4.12.3 gdown-5.1.0 soupsieve-2.5\n",
            "Note: you may need to restart the kernel to use updated packages.\n"
          ]
        }
      ],
      "source": [
        "pip install gdown"
      ]
    },
    {
      "cell_type": "code",
      "execution_count": null,
      "metadata": {
        "execution": {
          "iopub.execute_input": "2023-09-08T12:57:42.085152Z",
          "iopub.status.busy": "2023-09-08T12:57:42.084778Z",
          "iopub.status.idle": "2023-09-08T12:57:54.280514Z",
          "shell.execute_reply": "2023-09-08T12:57:54.279237Z",
          "shell.execute_reply.started": "2023-09-08T12:57:42.085119Z"
        },
        "id": "oDtfzPaWMWIv",
        "outputId": "e44d3e76-4da3-4fa6-8c3a-6af976668fb0",
        "trusted": true
      },
      "outputs": [
        {
          "name": "stdout",
          "output_type": "stream",
          "text": [
            "Collecting emoji\n",
            "  Downloading emoji-2.10.1-py2.py3-none-any.whl.metadata (5.3 kB)\n",
            "Downloading emoji-2.10.1-py2.py3-none-any.whl (421 kB)\n",
            "   ---------------------------------------- 0.0/421.5 kB ? eta -:--:--\n",
            "   ---------------------------------------- 0.0/421.5 kB ? eta -:--:--\n",
            "    --------------------------------------- 10.2/421.5 kB ? eta -:--:--\n",
            "    --------------------------------------- 10.2/421.5 kB ? eta -:--:--\n",
            "   --- ----------------------------------- 41.0/421.5 kB 279.3 kB/s eta 0:00:02\n",
            "   ------------ ------------------------- 143.4/421.5 kB 774.0 kB/s eta 0:00:01\n",
            "   ---------------------------------------- 421.5/421.5 kB 1.9 MB/s eta 0:00:00\n",
            "Installing collected packages: emoji\n",
            "Successfully installed emoji-2.10.1\n",
            "Note: you may need to restart the kernel to use updated packages.\n"
          ]
        }
      ],
      "source": [
        "pip install emoji\n"
      ]
    },
    {
      "cell_type": "code",
      "execution_count": null,
      "metadata": {},
      "outputs": [
        {
          "name": "stdout",
          "output_type": "stream",
          "text": [
            "Collecting nltkNote: you may need to restart the kernel to use updated packages.\n",
            "\n",
            "  Downloading nltk-3.8.1-py3-none-any.whl.metadata (2.8 kB)\n",
            "Collecting click (from nltk)\n",
            "  Downloading click-8.1.7-py3-none-any.whl.metadata (3.0 kB)\n",
            "Collecting joblib (from nltk)\n",
            "  Downloading joblib-1.3.2-py3-none-any.whl.metadata (5.4 kB)\n",
            "Requirement already satisfied: regex>=2021.8.3 in c:\\lomba\\unity uny\\data mining\\.conda\\lib\\site-packages (from nltk) (2023.12.25)\n",
            "Requirement already satisfied: tqdm in c:\\lomba\\unity uny\\data mining\\.conda\\lib\\site-packages (from nltk) (4.66.2)\n",
            "Requirement already satisfied: colorama in c:\\lomba\\unity uny\\data mining\\.conda\\lib\\site-packages (from click->nltk) (0.4.6)\n",
            "Downloading nltk-3.8.1-py3-none-any.whl (1.5 MB)\n",
            "   ---------------------------------------- 0.0/1.5 MB ? eta -:--:--\n",
            "   ---------------------------------------- 0.0/1.5 MB ? eta -:--:--\n",
            "    --------------------------------------- 0.0/1.5 MB 435.7 kB/s eta 0:00:04\n",
            "   -- ------------------------------------- 0.1/1.5 MB 871.5 kB/s eta 0:00:02\n",
            "   --------- ------------------------------ 0.4/1.5 MB 2.5 MB/s eta 0:00:01\n",
            "   ------------------ --------------------- 0.7/1.5 MB 3.7 MB/s eta 0:00:01\n",
            "   ---------------------------- ----------- 1.1/1.5 MB 4.5 MB/s eta 0:00:01\n",
            "   ------------------------------------- -- 1.4/1.5 MB 5.1 MB/s eta 0:00:01\n",
            "   ---------------------------------------- 1.5/1.5 MB 4.8 MB/s eta 0:00:00\n",
            "Downloading click-8.1.7-py3-none-any.whl (97 kB)\n",
            "   ---------------------------------------- 0.0/97.9 kB ? eta -:--:--\n",
            "   ---------------------------------------- 97.9/97.9 kB 5.8 MB/s eta 0:00:00\n",
            "Downloading joblib-1.3.2-py3-none-any.whl (302 kB)\n",
            "   ---------------------------------------- 0.0/302.2 kB ? eta -:--:--\n",
            "   --------------------------------------  297.0/302.2 kB 17.9 MB/s eta 0:00:01\n",
            "   ---------------------------------------- 302.2/302.2 kB 6.2 MB/s eta 0:00:00\n",
            "Installing collected packages: joblib, click, nltk\n",
            "Successfully installed click-8.1.7 joblib-1.3.2 nltk-3.8.1\n"
          ]
        },
        {
          "name": "stderr",
          "output_type": "stream",
          "text": [
            "ERROR: pip's dependency resolver does not currently take into account all the packages that are installed. This behaviour is the source of the following dependency conflicts.\n",
            "dash 2.13.0 requires dash-core-components==2.0.0, which is not installed.\n",
            "dash 2.13.0 requires dash-html-components==2.0.0, which is not installed.\n",
            "dash 2.13.0 requires dash-table==5.0.0, which is not installed.\n",
            "dash 2.13.0 requires plotly>=5.0.0, which is not installed.\n",
            "phik 0.12.3 requires matplotlib>=2.2.3, which is not installed.\n",
            "phik 0.12.3 requires scipy>=1.5.2, which is not installed.\n",
            "plotly-resampler 0.9.1 requires plotly<6.0.0,>=5.5.0, which is not installed.\n",
            "plotly-resampler 0.9.1 requires trace-updater>=0.0.8, which is not installed.\n",
            "plotly-resampler 0.9.1 requires tsdownsample==0.1.2, which is not installed.\n",
            "pmdarima 2.0.3 requires scipy>=1.3.2, which is not installed.\n",
            "pycaret 3.1.0 requires imbalanced-learn>=0.8.1, which is not installed.\n",
            "pycaret 3.1.0 requires importlib-metadata>=4.12.0, which is not installed.\n",
            "pycaret 3.1.0 requires ipywidgets>=7.6.5, which is not installed.\n",
            "pycaret 3.1.0 requires kaleido>=0.2.1, which is not installed.\n",
            "pycaret 3.1.0 requires lightgbm>=3.0.0, which is not installed.\n",
            "pycaret 3.1.0 requires matplotlib>=3.3.0, which is not installed.\n",
            "pycaret 3.1.0 requires plotly>=5.0.0, which is not installed.\n",
            "pycaret 3.1.0 requires scipy~=1.10.1, which is not installed.\n",
            "pycaret 3.1.0 requires xxhash, which is not installed.\n",
            "pyod 1.1.0 requires matplotlib, which is not installed.\n",
            "pyod 1.1.0 requires scipy>=1.5.1, which is not installed.\n",
            "scikit-learn 1.2.2 requires scipy>=1.3.2, which is not installed.\n",
            "scikit-learn 1.2.2 requires threadpoolctl>=2.0.0, which is not installed.\n",
            "scikit-plot 0.3.7 requires matplotlib>=1.4.0, which is not installed.\n",
            "scikit-plot 0.3.7 requires scipy>=0.9, which is not installed.\n",
            "sktime 0.21.1 requires scipy<2.0.0,>=1.2.0, which is not installed.\n",
            "tbats 1.1.3 requires scipy, which is not installed.\n",
            "ydata-profiling 4.5.1 requires htmlmin==0.1.12, which is not installed.\n",
            "ydata-profiling 4.5.1 requires matplotlib<4,>=3.2, which is not installed.\n",
            "ydata-profiling 4.5.1 requires pydantic<2,>=1.8.1, which is not installed.\n",
            "ydata-profiling 4.5.1 requires scipy<1.12,>=1.4.1, which is not installed.\n",
            "ydata-profiling 4.5.1 requires seaborn<0.13,>=0.10.1, which is not installed.\n",
            "ydata-profiling 4.5.1 requires typeguard<3,>=2.13.2, which is not installed.\n",
            "yellowbrick 1.5 requires cycler>=0.10.0, which is not installed.\n",
            "yellowbrick 1.5 requires matplotlib!=3.0.0,>=2.0.2, which is not installed.\n",
            "yellowbrick 1.5 requires scipy>=1.0.0, which is not installed.\n",
            "dash 2.13.0 requires Werkzeug<2.3.0, but you have werkzeug 3.0.1 which is incompatible.\n",
            "pycaret 3.1.0 requires numpy<1.24,>=1.21, but you have numpy 1.26.4 which is incompatible.\n",
            "sktime 0.21.1 requires numpy<1.26,>=1.21.0, but you have numpy 1.26.4 which is incompatible.\n",
            "ydata-profiling 4.5.1 requires numpy<1.24,>=1.16.0, but you have numpy 1.26.4 which is incompatible.\n"
          ]
        }
      ],
      "source": [
        "pip install nltk"
      ]
    },
    {
      "cell_type": "markdown",
      "metadata": {
        "id": "oAS6-8ShMWIw"
      },
      "source": [
        "# Importing Necessary File from google drive\n"
      ]
    },
    {
      "cell_type": "code",
      "execution_count": null,
      "metadata": {
        "execution": {
          "iopub.execute_input": "2023-09-07T15:28:54.295245Z",
          "iopub.status.busy": "2023-09-07T15:28:54.294840Z",
          "iopub.status.idle": "2023-09-07T15:28:54.300392Z",
          "shell.execute_reply": "2023-09-07T15:28:54.299088Z",
          "shell.execute_reply.started": "2023-09-07T15:28:54.295213Z"
        },
        "id": "kSaGLtnSMWIy",
        "trusted": true
      },
      "outputs": [],
      "source": [
        "import gdown\n",
        "import pandas as pd"
      ]
    },
    {
      "cell_type": "code",
      "execution_count": null,
      "metadata": {
        "execution": {
          "iopub.execute_input": "2023-09-07T15:28:54.688217Z",
          "iopub.status.busy": "2023-09-07T15:28:54.687858Z",
          "iopub.status.idle": "2023-09-07T15:29:04.820234Z",
          "shell.execute_reply": "2023-09-07T15:29:04.819394Z",
          "shell.execute_reply.started": "2023-09-07T15:28:54.688188Z"
        },
        "id": "AZ5UwQePMWIy",
        "outputId": "492a8215-a017-4543-c18c-27423526927a",
        "trusted": true
      },
      "outputs": [
        {
          "name": "stderr",
          "output_type": "stream",
          "text": [
            "Downloading...\n",
            "From: https://drive.google.com/uc?id=14M5i-Dd_oFCCJf4avgTEQeZLO5PCKCzy\n",
            "To: C:\\Lomba\\UNITY UNY\\Data Mining\\resources\\kamus_alay.csv\n",
            "100%|██████████| 3.09M/3.09M [00:00<00:00, 11.7MB/s]\n",
            "Downloading...\n",
            "From: https://drive.google.com/uc?id=1f1aOazCYJXCnhg7Brf5GelE7yE8-QflK\n",
            "To: C:\\Lomba\\UNITY UNY\\Data Mining\\resources\\kamus_singkatan.csv\n",
            "100%|██████████| 18.9k/18.9k [00:00<00:00, 973kB/s]\n"
          ]
        },
        {
          "data": {
            "text/plain": [
              "'C:\\\\Lomba\\\\UNITY UNY\\\\Data Mining\\\\resources/kamus_singkatan.csv'"
            ]
          },
          "execution_count": 21,
          "metadata": {},
          "output_type": "execute_result"
        }
      ],
      "source": [
        "\n",
        "kamus_alay_url='https://drive.google.com/uc?id=14M5i-Dd_oFCCJf4avgTEQeZLO5PCKCzy'\n",
        "kamus_alay_path=r'C:\\Lomba\\UNITY UNY\\Data Mining\\resources\\kamus_alay.csv'\n",
        "kamus_singkatan_url='https://drive.google.com/uc?id=1f1aOazCYJXCnhg7Brf5GelE7yE8-QflK'\n",
        "kamus_singkatan_path=r'C:\\Lomba\\UNITY UNY\\Data Mining\\resources/kamus_singkatan.csv'\n",
        "gdown.download(kamus_alay_url, kamus_alay_path, quiet=False)\n",
        "gdown.download(kamus_singkatan_url, kamus_singkatan_path, quiet=False)"
      ]
    },
    {
      "cell_type": "code",
      "execution_count": null,
      "metadata": {
        "execution": {
          "iopub.execute_input": "2023-09-07T15:29:04.824923Z",
          "iopub.status.busy": "2023-09-07T15:29:04.824355Z",
          "iopub.status.idle": "2023-09-07T15:29:04.850990Z",
          "shell.execute_reply": "2023-09-07T15:29:04.850068Z",
          "shell.execute_reply.started": "2023-09-07T15:29:04.824890Z"
        },
        "id": "g-8ZLtfHTyv5",
        "trusted": true
      },
      "outputs": [],
      "source": [
        "df_kesehatan=pd.read_csv(r\"C:\\Lomba\\UNITY UNY\\Data Mining\\scraping\\dataset\\Direktorat Kesehatan, Perhubungan, dan PLN.csv\")\n",
        "df_jenderal=pd.read_csv(r\"C:\\Lomba\\UNITY UNY\\Data Mining\\scraping\\dataset\\jenderal kesehatan.csv\") \n",
        "df_ristek=pd.read_csv(r\"C:\\Lomba\\UNITY UNY\\Data Mining\\scraping\\dataset\\Kementrian Ristek.csv\")\n",
        "df_sosial=pd.read_csv(r\"C:\\Lomba\\UNITY UNY\\Data Mining\\scraping\\dataset\\sosial,polisi,kemendikbud.csv\")"
      ]
    },
    {
      "cell_type": "code",
      "execution_count": null,
      "metadata": {},
      "outputs": [
        {
          "data": {
            "text/html": [
              "<div>\n",
              "<style scoped>\n",
              "    .dataframe tbody tr th:only-of-type {\n",
              "        vertical-align: middle;\n",
              "    }\n",
              "\n",
              "    .dataframe tbody tr th {\n",
              "        vertical-align: top;\n",
              "    }\n",
              "\n",
              "    .dataframe thead th {\n",
              "        text-align: right;\n",
              "    }\n",
              "</style>\n",
              "<table border=\"1\" class=\"dataframe\">\n",
              "  <thead>\n",
              "    <tr style=\"text-align: right;\">\n",
              "      <th></th>\n",
              "      <th>pelapor</th>\n",
              "      <th>tanggal_masuk_laporan</th>\n",
              "      <th>judul_laporan</th>\n",
              "      <th>detail_keluhan</th>\n",
              "      <th>instansi</th>\n",
              "    </tr>\n",
              "  </thead>\n",
              "  <tbody>\n",
              "    <tr>\n",
              "      <th>0</th>\n",
              "      <td>Yogi Wibowo</td>\n",
              "      <td>Kamis, 20:29</td>\n",
              "      <td>Bantuan Biaya Pendidikan</td>\n",
              "      <td>Selamat malam pak, bu.\\n\\nperkenalkan, saya yo...</td>\n",
              "      <td>Direktorat Jenderal Tenaga Kesehatan</td>\n",
              "    </tr>\n",
              "    <tr>\n",
              "      <th>1</th>\n",
              "      <td>Anonim</td>\n",
              "      <td>Website</td>\n",
              "      <td>Permasalahan Str Up Level</td>\n",
              "      <td>Saya ingin mengajukan naik level str profesi b...</td>\n",
              "      <td>Direktorat Jenderal Tenaga Kesehatan</td>\n",
              "    </tr>\n",
              "    <tr>\n",
              "      <th>2</th>\n",
              "      <td>Anonim</td>\n",
              "      <td>Kamis, 00:30</td>\n",
              "      <td>Proses Verifikasi Yang Terlalu Lama</td>\n",
              "      <td>Selamat pagi, saya mohon ijin bantuan untuk pr...</td>\n",
              "      <td>Direktorat Jenderal Tenaga Kesehatan</td>\n",
              "    </tr>\n",
              "    <tr>\n",
              "      <th>3</th>\n",
              "      <td>Amram Nicolas Bungyanan</td>\n",
              "      <td>Website</td>\n",
              "      <td>Hallo Admin Kemkes.go.id Tolong Ditindak Lanju...</td>\n",
              "      <td>Hallo admin saya mau melaporkan tentang websit...</td>\n",
              "      <td>Direktorat Jenderal Tenaga Kesehatan</td>\n",
              "    </tr>\n",
              "    <tr>\n",
              "      <th>4</th>\n",
              "      <td>Inan Nur Roffiq</td>\n",
              "      <td>Rabu, 10:36</td>\n",
              "      <td>Sertifikat Vaksin Ke 3 Belum Muncul Di Satuseh...</td>\n",
              "      <td>Sertifikat vaksin ke 3 belum muncul di satuseh...</td>\n",
              "      <td>Direktorat Jenderal Tenaga Kesehatan</td>\n",
              "    </tr>\n",
              "    <tr>\n",
              "      <th>...</th>\n",
              "      <td>...</td>\n",
              "      <td>...</td>\n",
              "      <td>...</td>\n",
              "      <td>...</td>\n",
              "      <td>...</td>\n",
              "    </tr>\n",
              "    <tr>\n",
              "      <th>310</th>\n",
              "      <td>Baron</td>\n",
              "      <td>2 Okt 2023, 21:42</td>\n",
              "      <td>Pengaduan Ujian Kompetensi Apoteker Indonesia</td>\n",
              "      <td>Kepada Yth,\\nPresiden RI,\\nKetua Komisi IX DPR...</td>\n",
              "      <td>Direktorat Jenderal Tenaga Kesehatan</td>\n",
              "    </tr>\n",
              "    <tr>\n",
              "      <th>311</th>\n",
              "      <td>Anonim</td>\n",
              "      <td>Email Instansi</td>\n",
              "      <td>Permohonan TL STR Kesmas</td>\n",
              "      <td>Https://www.lapor.go.id/laporan/detil/syarat-p...</td>\n",
              "      <td>Direktorat Jenderal Tenaga Kesehatan</td>\n",
              "    </tr>\n",
              "    <tr>\n",
              "      <th>312</th>\n",
              "      <td>Sweetly Tresya Emque</td>\n",
              "      <td>2 Okt 2023, 11:11</td>\n",
              "      <td>Tidak Dapat Registrasi Str Baru</td>\n",
              "      <td>Saya tidak bisa registrasi str baru,.\\nTerdapa...</td>\n",
              "      <td>Direktorat Jenderal Tenaga Kesehatan</td>\n",
              "    </tr>\n",
              "    <tr>\n",
              "      <th>313</th>\n",
              "      <td>Anonim</td>\n",
              "      <td>Website</td>\n",
              "      <td>Syarat Pemberkasan STR Sarjana Kesehatan Masya...</td>\n",
              "      <td>Konsil Tenaga Kesehatan Indonesia (KTKI) Berla...</td>\n",
              "      <td>Direktorat Jenderal Tenaga Kesehatan</td>\n",
              "    </tr>\n",
              "    <tr>\n",
              "      <th>314</th>\n",
              "      <td>Anonim</td>\n",
              "      <td>1 Okt 2023, 14:37</td>\n",
              "      <td>Permintaan Informasi MTKI Online</td>\n",
              "      <td>Dengan ini saya mengajukan pertanyaan apakah d...</td>\n",
              "      <td>Direktorat Jenderal Tenaga Kesehatan</td>\n",
              "    </tr>\n",
              "  </tbody>\n",
              "</table>\n",
              "<p>315 rows × 5 columns</p>\n",
              "</div>"
            ],
            "text/plain": [
              "                     pelapor tanggal_masuk_laporan  \\\n",
              "0                Yogi Wibowo          Kamis, 20:29   \n",
              "1                     Anonim               Website   \n",
              "2                     Anonim          Kamis, 00:30   \n",
              "3    Amram Nicolas Bungyanan               Website   \n",
              "4            Inan Nur Roffiq           Rabu, 10:36   \n",
              "..                       ...                   ...   \n",
              "310                    Baron     2 Okt 2023, 21:42   \n",
              "311                   Anonim        Email Instansi   \n",
              "312     Sweetly Tresya Emque     2 Okt 2023, 11:11   \n",
              "313                   Anonim               Website   \n",
              "314                   Anonim     1 Okt 2023, 14:37   \n",
              "\n",
              "                                         judul_laporan  \\\n",
              "0                             Bantuan Biaya Pendidikan   \n",
              "1                            Permasalahan Str Up Level   \n",
              "2                  Proses Verifikasi Yang Terlalu Lama   \n",
              "3    Hallo Admin Kemkes.go.id Tolong Ditindak Lanju...   \n",
              "4    Sertifikat Vaksin Ke 3 Belum Muncul Di Satuseh...   \n",
              "..                                                 ...   \n",
              "310      Pengaduan Ujian Kompetensi Apoteker Indonesia   \n",
              "311                           Permohonan TL STR Kesmas   \n",
              "312                    Tidak Dapat Registrasi Str Baru   \n",
              "313  Syarat Pemberkasan STR Sarjana Kesehatan Masya...   \n",
              "314                   Permintaan Informasi MTKI Online   \n",
              "\n",
              "                                        detail_keluhan  \\\n",
              "0    Selamat malam pak, bu.\\n\\nperkenalkan, saya yo...   \n",
              "1    Saya ingin mengajukan naik level str profesi b...   \n",
              "2    Selamat pagi, saya mohon ijin bantuan untuk pr...   \n",
              "3    Hallo admin saya mau melaporkan tentang websit...   \n",
              "4    Sertifikat vaksin ke 3 belum muncul di satuseh...   \n",
              "..                                                 ...   \n",
              "310  Kepada Yth,\\nPresiden RI,\\nKetua Komisi IX DPR...   \n",
              "311  Https://www.lapor.go.id/laporan/detil/syarat-p...   \n",
              "312  Saya tidak bisa registrasi str baru,.\\nTerdapa...   \n",
              "313  Konsil Tenaga Kesehatan Indonesia (KTKI) Berla...   \n",
              "314  Dengan ini saya mengajukan pertanyaan apakah d...   \n",
              "\n",
              "                                 instansi  \n",
              "0    Direktorat Jenderal Tenaga Kesehatan  \n",
              "1    Direktorat Jenderal Tenaga Kesehatan  \n",
              "2    Direktorat Jenderal Tenaga Kesehatan  \n",
              "3    Direktorat Jenderal Tenaga Kesehatan  \n",
              "4    Direktorat Jenderal Tenaga Kesehatan  \n",
              "..                                    ...  \n",
              "310  Direktorat Jenderal Tenaga Kesehatan  \n",
              "311  Direktorat Jenderal Tenaga Kesehatan  \n",
              "312  Direktorat Jenderal Tenaga Kesehatan  \n",
              "313  Direktorat Jenderal Tenaga Kesehatan  \n",
              "314  Direktorat Jenderal Tenaga Kesehatan  \n",
              "\n",
              "[315 rows x 5 columns]"
            ]
          },
          "execution_count": 25,
          "metadata": {},
          "output_type": "execute_result"
        }
      ],
      "source": [
        "df_jenderal"
      ]
    },
    {
      "cell_type": "code",
      "execution_count": null,
      "metadata": {},
      "outputs": [
        {
          "data": {
            "text/html": [
              "<div>\n",
              "<style scoped>\n",
              "    .dataframe tbody tr th:only-of-type {\n",
              "        vertical-align: middle;\n",
              "    }\n",
              "\n",
              "    .dataframe tbody tr th {\n",
              "        vertical-align: top;\n",
              "    }\n",
              "\n",
              "    .dataframe thead th {\n",
              "        text-align: right;\n",
              "    }\n",
              "</style>\n",
              "<table border=\"1\" class=\"dataframe\">\n",
              "  <thead>\n",
              "    <tr style=\"text-align: right;\">\n",
              "      <th></th>\n",
              "      <th>pelapor</th>\n",
              "      <th>tanggal_masuk_laporan</th>\n",
              "      <th>judul_laporan</th>\n",
              "      <th>detail_keluhan</th>\n",
              "      <th>instansi</th>\n",
              "    </tr>\n",
              "  </thead>\n",
              "  <tbody>\n",
              "    <tr>\n",
              "      <th>0</th>\n",
              "      <td>Yogi Wibowo</td>\n",
              "      <td>Kamis, 20:29</td>\n",
              "      <td>Bantuan Biaya Pendidikan</td>\n",
              "      <td>Selamat malam pak, bu.\\n\\nperkenalkan, saya yo...</td>\n",
              "      <td>Direktorat Jenderal Tenaga Kesehatan</td>\n",
              "    </tr>\n",
              "    <tr>\n",
              "      <th>1</th>\n",
              "      <td>Anonim</td>\n",
              "      <td>Website</td>\n",
              "      <td>Permasalahan Str Up Level</td>\n",
              "      <td>Saya ingin mengajukan naik level str profesi b...</td>\n",
              "      <td>Direktorat Jenderal Tenaga Kesehatan</td>\n",
              "    </tr>\n",
              "    <tr>\n",
              "      <th>2</th>\n",
              "      <td>Anonim</td>\n",
              "      <td>Kamis, 00:30</td>\n",
              "      <td>Proses Verifikasi Yang Terlalu Lama</td>\n",
              "      <td>Selamat pagi, saya mohon ijin bantuan untuk pr...</td>\n",
              "      <td>Direktorat Jenderal Tenaga Kesehatan</td>\n",
              "    </tr>\n",
              "    <tr>\n",
              "      <th>3</th>\n",
              "      <td>Amram Nicolas Bungyanan</td>\n",
              "      <td>Website</td>\n",
              "      <td>Hallo Admin Kemkes.go.id Tolong Ditindak Lanju...</td>\n",
              "      <td>Hallo admin saya mau melaporkan tentang websit...</td>\n",
              "      <td>Direktorat Jenderal Tenaga Kesehatan</td>\n",
              "    </tr>\n",
              "    <tr>\n",
              "      <th>4</th>\n",
              "      <td>Inan Nur Roffiq</td>\n",
              "      <td>Rabu, 10:36</td>\n",
              "      <td>Sertifikat Vaksin Ke 3 Belum Muncul Di Satuseh...</td>\n",
              "      <td>Sertifikat vaksin ke 3 belum muncul di satuseh...</td>\n",
              "      <td>Direktorat Jenderal Tenaga Kesehatan</td>\n",
              "    </tr>\n",
              "    <tr>\n",
              "      <th>...</th>\n",
              "      <td>...</td>\n",
              "      <td>...</td>\n",
              "      <td>...</td>\n",
              "      <td>...</td>\n",
              "      <td>...</td>\n",
              "    </tr>\n",
              "    <tr>\n",
              "      <th>1475</th>\n",
              "      <td>Louis</td>\n",
              "      <td>Website</td>\n",
              "      <td>Tegangan Listrik Pln Di Kabupaten Tangerang Se...</td>\n",
              "      <td>Tegangan listrik pln selalu turun saat pagi sa...</td>\n",
              "      <td>Divisi Pemasaran dan Pelayanan Pelanggan</td>\n",
              "    </tr>\n",
              "    <tr>\n",
              "      <th>1476</th>\n",
              "      <td>Unit Pemantau Pelayanan Publik Kab Hulu Sungai...</td>\n",
              "      <td>14 Mei 2023, 20:35</td>\n",
              "      <td>Harapan Masyarakat Desa Tawia Terkait Penambah...</td>\n",
              "      <td>Terdapat aspirasi dari masyarakat desa tawia, ...</td>\n",
              "      <td>Divisi Pemasaran dan Pelayanan Pelanggan</td>\n",
              "    </tr>\n",
              "    <tr>\n",
              "      <th>1477</th>\n",
              "      <td>Anonim</td>\n",
              "      <td>Website</td>\n",
              "      <td>Tiang Pln Tanpa Ijin Pemilik Sawah</td>\n",
              "      <td>Meski sy mendukung sepenuhnya langkah pemerint...</td>\n",
              "      <td>Divisi Pemasaran dan Pelayanan Pelanggan</td>\n",
              "    </tr>\n",
              "    <tr>\n",
              "      <th>1478</th>\n",
              "      <td>Rochaedun</td>\n",
              "      <td>14 Mei 2023, 18:59</td>\n",
              "      <td>Jawaban Pln Yg Meremehkan Yg Punya Tanah Produ...</td>\n",
              "      <td>Alamat saya jelas, pal tsb buat ribuan pelangg...</td>\n",
              "      <td>Divisi Pemasaran dan Pelayanan Pelanggan</td>\n",
              "    </tr>\n",
              "    <tr>\n",
              "      <th>1479</th>\n",
              "      <td>Muhammad Ramadhan</td>\n",
              "      <td>Website</td>\n",
              "      <td>Iconnet Tidak Memberikan Hak Konsumen Sesuai U...</td>\n",
              "      <td>Yth.\\nkementerian badan usaha milik negara\\npt...</td>\n",
              "      <td>Divisi Pemasaran dan Pelayanan Pelanggan</td>\n",
              "    </tr>\n",
              "  </tbody>\n",
              "</table>\n",
              "<p>1480 rows × 5 columns</p>\n",
              "</div>"
            ],
            "text/plain": [
              "                                                pelapor tanggal_masuk_laporan  \\\n",
              "0                                           Yogi Wibowo          Kamis, 20:29   \n",
              "1                                                Anonim               Website   \n",
              "2                                                Anonim          Kamis, 00:30   \n",
              "3                               Amram Nicolas Bungyanan               Website   \n",
              "4                                       Inan Nur Roffiq           Rabu, 10:36   \n",
              "...                                                 ...                   ...   \n",
              "1475                                              Louis               Website   \n",
              "1476  Unit Pemantau Pelayanan Publik Kab Hulu Sungai...    14 Mei 2023, 20:35   \n",
              "1477                                             Anonim               Website   \n",
              "1478                                          Rochaedun    14 Mei 2023, 18:59   \n",
              "1479                                  Muhammad Ramadhan               Website   \n",
              "\n",
              "                                          judul_laporan  \\\n",
              "0                              Bantuan Biaya Pendidikan   \n",
              "1                             Permasalahan Str Up Level   \n",
              "2                   Proses Verifikasi Yang Terlalu Lama   \n",
              "3     Hallo Admin Kemkes.go.id Tolong Ditindak Lanju...   \n",
              "4     Sertifikat Vaksin Ke 3 Belum Muncul Di Satuseh...   \n",
              "...                                                 ...   \n",
              "1475  Tegangan Listrik Pln Di Kabupaten Tangerang Se...   \n",
              "1476  Harapan Masyarakat Desa Tawia Terkait Penambah...   \n",
              "1477                 Tiang Pln Tanpa Ijin Pemilik Sawah   \n",
              "1478  Jawaban Pln Yg Meremehkan Yg Punya Tanah Produ...   \n",
              "1479  Iconnet Tidak Memberikan Hak Konsumen Sesuai U...   \n",
              "\n",
              "                                         detail_keluhan  \\\n",
              "0     Selamat malam pak, bu.\\n\\nperkenalkan, saya yo...   \n",
              "1     Saya ingin mengajukan naik level str profesi b...   \n",
              "2     Selamat pagi, saya mohon ijin bantuan untuk pr...   \n",
              "3     Hallo admin saya mau melaporkan tentang websit...   \n",
              "4     Sertifikat vaksin ke 3 belum muncul di satuseh...   \n",
              "...                                                 ...   \n",
              "1475  Tegangan listrik pln selalu turun saat pagi sa...   \n",
              "1476  Terdapat aspirasi dari masyarakat desa tawia, ...   \n",
              "1477  Meski sy mendukung sepenuhnya langkah pemerint...   \n",
              "1478  Alamat saya jelas, pal tsb buat ribuan pelangg...   \n",
              "1479  Yth.\\nkementerian badan usaha milik negara\\npt...   \n",
              "\n",
              "                                      instansi  \n",
              "0         Direktorat Jenderal Tenaga Kesehatan  \n",
              "1         Direktorat Jenderal Tenaga Kesehatan  \n",
              "2         Direktorat Jenderal Tenaga Kesehatan  \n",
              "3         Direktorat Jenderal Tenaga Kesehatan  \n",
              "4         Direktorat Jenderal Tenaga Kesehatan  \n",
              "...                                        ...  \n",
              "1475  Divisi Pemasaran dan Pelayanan Pelanggan  \n",
              "1476  Divisi Pemasaran dan Pelayanan Pelanggan  \n",
              "1477  Divisi Pemasaran dan Pelayanan Pelanggan  \n",
              "1478  Divisi Pemasaran dan Pelayanan Pelanggan  \n",
              "1479  Divisi Pemasaran dan Pelayanan Pelanggan  \n",
              "\n",
              "[1480 rows x 5 columns]"
            ]
          },
          "execution_count": 26,
          "metadata": {},
          "output_type": "execute_result"
        }
      ],
      "source": [
        "df_kesehatan"
      ]
    },
    {
      "cell_type": "code",
      "execution_count": null,
      "metadata": {},
      "outputs": [
        {
          "data": {
            "text/html": [
              "<div>\n",
              "<style scoped>\n",
              "    .dataframe tbody tr th:only-of-type {\n",
              "        vertical-align: middle;\n",
              "    }\n",
              "\n",
              "    .dataframe tbody tr th {\n",
              "        vertical-align: top;\n",
              "    }\n",
              "\n",
              "    .dataframe thead th {\n",
              "        text-align: right;\n",
              "    }\n",
              "</style>\n",
              "<table border=\"1\" class=\"dataframe\">\n",
              "  <thead>\n",
              "    <tr style=\"text-align: right;\">\n",
              "      <th></th>\n",
              "      <th>pelapor</th>\n",
              "      <th>tanggal_masuk_laporan</th>\n",
              "      <th>judul_laporan</th>\n",
              "      <th>detail_keluhan</th>\n",
              "      <th>instansi</th>\n",
              "    </tr>\n",
              "  </thead>\n",
              "  <tbody>\n",
              "    <tr>\n",
              "      <th>0</th>\n",
              "      <td>Anonim</td>\n",
              "      <td>Jumat, 12:34</td>\n",
              "      <td>Pemblokiran Akun Telegram</td>\n",
              "      <td>Pada tanggal 26 saya membeli produk dari akun ...</td>\n",
              "      <td>Kementerian Komunikasi dan Informatika</td>\n",
              "    </tr>\n",
              "    <tr>\n",
              "      <th>1</th>\n",
              "      <td>Anonim</td>\n",
              "      <td>API</td>\n",
              "      <td>Pembangunan Bts Sinyal Merah Putih</td>\n",
              "      <td>Karena terpantau sinyal jelek padahal banyak p...</td>\n",
              "      <td>Kementerian Komunikasi dan Informatika</td>\n",
              "    </tr>\n",
              "    <tr>\n",
              "      <th>2</th>\n",
              "      <td>Anonim</td>\n",
              "      <td>Jumat, 09:16</td>\n",
              "      <td>Melanjutkan Laporan Dan Perluasan Jaringan Yan...</td>\n",
              "      <td>Selamat sore bapak ibu. saya melanjutkan lapor...</td>\n",
              "      <td>Kementerian Komunikasi dan Informatika</td>\n",
              "    </tr>\n",
              "    <tr>\n",
              "      <th>3</th>\n",
              "      <td>Syahril Ramdan</td>\n",
              "      <td>Website</td>\n",
              "      <td>Tidak Ada Layanan Sinyal</td>\n",
              "      <td>Tidak ada sinyal walaupun kartu sim masih terp...</td>\n",
              "      <td>Kementerian Komunikasi dan Informatika</td>\n",
              "    </tr>\n",
              "    <tr>\n",
              "      <th>4</th>\n",
              "      <td>Anonim</td>\n",
              "      <td>Jumat, 09:10</td>\n",
              "      <td>Sampel Uji</td>\n",
              "      <td>\"Siang mas Egi, Untuk sampel Uji Yang tidak ad...</td>\n",
              "      <td>Kementerian Komunikasi dan Informatika</td>\n",
              "    </tr>\n",
              "    <tr>\n",
              "      <th>...</th>\n",
              "      <td>...</td>\n",
              "      <td>...</td>\n",
              "      <td>...</td>\n",
              "      <td>...</td>\n",
              "      <td>...</td>\n",
              "    </tr>\n",
              "    <tr>\n",
              "      <th>605</th>\n",
              "      <td>Anonim</td>\n",
              "      <td>Website</td>\n",
              "      <td>Pengaduan Situs Judi Online</td>\n",
              "      <td>Situs ini adalah situs judi online yang sangat...</td>\n",
              "      <td>Kementerian Komunikasi dan Informatika</td>\n",
              "    </tr>\n",
              "    <tr>\n",
              "      <th>606</th>\n",
              "      <td>Anonim</td>\n",
              "      <td>1 Mar, 09:39</td>\n",
              "      <td>Pengaduan Situs Judi Online</td>\n",
              "      <td>Situs ini adalah situs judi online yang sangat...</td>\n",
              "      <td>Kementerian Komunikasi dan Informatika</td>\n",
              "    </tr>\n",
              "    <tr>\n",
              "      <th>607</th>\n",
              "      <td>Anonim</td>\n",
              "      <td>Website</td>\n",
              "      <td>Pengaduan Situs Judi Online</td>\n",
              "      <td>Situs ini adalah situs judi online yang sangat...</td>\n",
              "      <td>Kementerian Komunikasi dan Informatika</td>\n",
              "    </tr>\n",
              "    <tr>\n",
              "      <th>608</th>\n",
              "      <td>Anonim</td>\n",
              "      <td>1 Mar, 09:32</td>\n",
              "      <td>Pengaduan Situs Judi Online</td>\n",
              "      <td>Situs ini adalah situs judi online yang sangat...</td>\n",
              "      <td>Kementerian Komunikasi dan Informatika</td>\n",
              "    </tr>\n",
              "    <tr>\n",
              "      <th>609</th>\n",
              "      <td>Anonim</td>\n",
              "      <td>Instagram</td>\n",
              "      <td>Pengaduan Situs Judi Online</td>\n",
              "      <td>Situs ini adalah situs judi online yang sangat...</td>\n",
              "      <td>Kementerian Komunikasi dan Informatika</td>\n",
              "    </tr>\n",
              "  </tbody>\n",
              "</table>\n",
              "<p>610 rows × 5 columns</p>\n",
              "</div>"
            ],
            "text/plain": [
              "            pelapor tanggal_masuk_laporan  \\\n",
              "0            Anonim          Jumat, 12:34   \n",
              "1            Anonim                   API   \n",
              "2            Anonim          Jumat, 09:16   \n",
              "3    Syahril Ramdan               Website   \n",
              "4            Anonim          Jumat, 09:10   \n",
              "..              ...                   ...   \n",
              "605          Anonim               Website   \n",
              "606          Anonim          1 Mar, 09:39   \n",
              "607          Anonim               Website   \n",
              "608          Anonim          1 Mar, 09:32   \n",
              "609          Anonim             Instagram   \n",
              "\n",
              "                                         judul_laporan  \\\n",
              "0                            Pemblokiran Akun Telegram   \n",
              "1                   Pembangunan Bts Sinyal Merah Putih   \n",
              "2    Melanjutkan Laporan Dan Perluasan Jaringan Yan...   \n",
              "3                             Tidak Ada Layanan Sinyal   \n",
              "4                                           Sampel Uji   \n",
              "..                                                 ...   \n",
              "605                        Pengaduan Situs Judi Online   \n",
              "606                        Pengaduan Situs Judi Online   \n",
              "607                        Pengaduan Situs Judi Online   \n",
              "608                        Pengaduan Situs Judi Online   \n",
              "609                        Pengaduan Situs Judi Online   \n",
              "\n",
              "                                        detail_keluhan  \\\n",
              "0    Pada tanggal 26 saya membeli produk dari akun ...   \n",
              "1    Karena terpantau sinyal jelek padahal banyak p...   \n",
              "2    Selamat sore bapak ibu. saya melanjutkan lapor...   \n",
              "3    Tidak ada sinyal walaupun kartu sim masih terp...   \n",
              "4    \"Siang mas Egi, Untuk sampel Uji Yang tidak ad...   \n",
              "..                                                 ...   \n",
              "605  Situs ini adalah situs judi online yang sangat...   \n",
              "606  Situs ini adalah situs judi online yang sangat...   \n",
              "607  Situs ini adalah situs judi online yang sangat...   \n",
              "608  Situs ini adalah situs judi online yang sangat...   \n",
              "609  Situs ini adalah situs judi online yang sangat...   \n",
              "\n",
              "                                   instansi  \n",
              "0    Kementerian Komunikasi dan Informatika  \n",
              "1    Kementerian Komunikasi dan Informatika  \n",
              "2    Kementerian Komunikasi dan Informatika  \n",
              "3    Kementerian Komunikasi dan Informatika  \n",
              "4    Kementerian Komunikasi dan Informatika  \n",
              "..                                      ...  \n",
              "605  Kementerian Komunikasi dan Informatika  \n",
              "606  Kementerian Komunikasi dan Informatika  \n",
              "607  Kementerian Komunikasi dan Informatika  \n",
              "608  Kementerian Komunikasi dan Informatika  \n",
              "609  Kementerian Komunikasi dan Informatika  \n",
              "\n",
              "[610 rows x 5 columns]"
            ]
          },
          "execution_count": 27,
          "metadata": {},
          "output_type": "execute_result"
        }
      ],
      "source": [
        "df_ristek"
      ]
    },
    {
      "cell_type": "code",
      "execution_count": null,
      "metadata": {},
      "outputs": [],
      "source": [
        "df=pd.concat([df_kesehatan,df_jenderal,df_ristek,df_sosial],ignore_index=True)    "
      ]
    },
    {
      "cell_type": "code",
      "execution_count": null,
      "metadata": {},
      "outputs": [],
      "source": [
        "df=df.drop_duplicates(subset='detail_keluhan', keep='first')"
      ]
    },
    {
      "cell_type": "code",
      "execution_count": null,
      "metadata": {},
      "outputs": [
        {
          "data": {
            "text/plain": [
              "0"
            ]
          },
          "execution_count": 38,
          "metadata": {},
          "output_type": "execute_result"
        }
      ],
      "source": [
        "df.duplicated().sum()   "
      ]
    },
    {
      "cell_type": "code",
      "execution_count": null,
      "metadata": {},
      "outputs": [
        {
          "data": {
            "text/html": [
              "<div>\n",
              "<style scoped>\n",
              "    .dataframe tbody tr th:only-of-type {\n",
              "        vertical-align: middle;\n",
              "    }\n",
              "\n",
              "    .dataframe tbody tr th {\n",
              "        vertical-align: top;\n",
              "    }\n",
              "\n",
              "    .dataframe thead th {\n",
              "        text-align: right;\n",
              "    }\n",
              "</style>\n",
              "<table border=\"1\" class=\"dataframe\">\n",
              "  <thead>\n",
              "    <tr style=\"text-align: right;\">\n",
              "      <th></th>\n",
              "      <th>pelapor</th>\n",
              "      <th>tanggal_masuk_laporan</th>\n",
              "      <th>judul_laporan</th>\n",
              "      <th>detail_keluhan</th>\n",
              "      <th>instansi</th>\n",
              "    </tr>\n",
              "  </thead>\n",
              "  <tbody>\n",
              "    <tr>\n",
              "      <th>0</th>\n",
              "      <td>Yogi Wibowo</td>\n",
              "      <td>Kamis, 20:29</td>\n",
              "      <td>Bantuan Biaya Pendidikan</td>\n",
              "      <td>Selamat malam pak, bu.\\n\\nperkenalkan, saya yo...</td>\n",
              "      <td>Direktorat Jenderal Tenaga Kesehatan</td>\n",
              "    </tr>\n",
              "    <tr>\n",
              "      <th>1</th>\n",
              "      <td>Anonim</td>\n",
              "      <td>Website</td>\n",
              "      <td>Permasalahan Str Up Level</td>\n",
              "      <td>Saya ingin mengajukan naik level str profesi b...</td>\n",
              "      <td>Direktorat Jenderal Tenaga Kesehatan</td>\n",
              "    </tr>\n",
              "    <tr>\n",
              "      <th>2</th>\n",
              "      <td>Anonim</td>\n",
              "      <td>Kamis, 00:30</td>\n",
              "      <td>Proses Verifikasi Yang Terlalu Lama</td>\n",
              "      <td>Selamat pagi, saya mohon ijin bantuan untuk pr...</td>\n",
              "      <td>Direktorat Jenderal Tenaga Kesehatan</td>\n",
              "    </tr>\n",
              "    <tr>\n",
              "      <th>3</th>\n",
              "      <td>Amram Nicolas Bungyanan</td>\n",
              "      <td>Website</td>\n",
              "      <td>Hallo Admin Kemkes.go.id Tolong Ditindak Lanju...</td>\n",
              "      <td>Hallo admin saya mau melaporkan tentang websit...</td>\n",
              "      <td>Direktorat Jenderal Tenaga Kesehatan</td>\n",
              "    </tr>\n",
              "    <tr>\n",
              "      <th>4</th>\n",
              "      <td>Inan Nur Roffiq</td>\n",
              "      <td>Rabu, 10:36</td>\n",
              "      <td>Sertifikat Vaksin Ke 3 Belum Muncul Di Satuseh...</td>\n",
              "      <td>Sertifikat vaksin ke 3 belum muncul di satuseh...</td>\n",
              "      <td>Direktorat Jenderal Tenaga Kesehatan</td>\n",
              "    </tr>\n",
              "    <tr>\n",
              "      <th>...</th>\n",
              "      <td>...</td>\n",
              "      <td>...</td>\n",
              "      <td>...</td>\n",
              "      <td>...</td>\n",
              "      <td>...</td>\n",
              "    </tr>\n",
              "    <tr>\n",
              "      <th>4230</th>\n",
              "      <td>Firas Khusyi</td>\n",
              "      <td>Website</td>\n",
              "      <td>Retaker Ukmppd</td>\n",
              "      <td>Selamat sore. pengaduan kesulitan pendaftaran ...</td>\n",
              "      <td>Kementerian Pendidikan, Kebudayaan, Riset, dan...</td>\n",
              "    </tr>\n",
              "    <tr>\n",
              "      <th>4231</th>\n",
              "      <td>628113643xxxx</td>\n",
              "      <td>13 Jul 2022, 21:24</td>\n",
              "      <td>Info Forlap Dikti</td>\n",
              "      <td>Dan menungguselamat siang\\nsaya sudah 10 bulan...</td>\n",
              "      <td>Kementerian Pendidikan, Kebudayaan, Riset, dan...</td>\n",
              "    </tr>\n",
              "    <tr>\n",
              "      <th>4232</th>\n",
              "      <td>Hera Rachmahani</td>\n",
              "      <td>Website</td>\n",
              "      <td>Pengajuan Pengubahan Data Forlap Tidak Ada Kem...</td>\n",
              "      <td>Selamat pagi saya ingin melaporkan beberapa sa...</td>\n",
              "      <td>Kementerian Pendidikan, Kebudayaan, Riset, dan...</td>\n",
              "    </tr>\n",
              "    <tr>\n",
              "      <th>4233</th>\n",
              "      <td>Anonim</td>\n",
              "      <td>26 Jun 2022, 13:55</td>\n",
              "      <td>Kurangnya Pelayanan Terhadap Mahasiswa Pada Sa...</td>\n",
              "      <td>Yang terhormat pemimpin kmpus unpatti,saya seb...</td>\n",
              "      <td>Kementerian Pendidikan, Kebudayaan, Riset, dan...</td>\n",
              "    </tr>\n",
              "    <tr>\n",
              "      <th>4234</th>\n",
              "      <td>Anonim</td>\n",
              "      <td>Website</td>\n",
              "      <td>Laporan Dugaan Pelanggaran</td>\n",
              "      <td>Saya dari mahasiswa universitas muhammadiyah t...</td>\n",
              "      <td>Kementerian Pendidikan, Kebudayaan, Riset, dan...</td>\n",
              "    </tr>\n",
              "  </tbody>\n",
              "</table>\n",
              "<p>3667 rows × 5 columns</p>\n",
              "</div>"
            ],
            "text/plain": [
              "                      pelapor tanggal_masuk_laporan  \\\n",
              "0                 Yogi Wibowo          Kamis, 20:29   \n",
              "1                      Anonim               Website   \n",
              "2                      Anonim          Kamis, 00:30   \n",
              "3     Amram Nicolas Bungyanan               Website   \n",
              "4             Inan Nur Roffiq           Rabu, 10:36   \n",
              "...                       ...                   ...   \n",
              "4230             Firas Khusyi               Website   \n",
              "4231            628113643xxxx    13 Jul 2022, 21:24   \n",
              "4232          Hera Rachmahani               Website   \n",
              "4233                   Anonim    26 Jun 2022, 13:55   \n",
              "4234                   Anonim               Website   \n",
              "\n",
              "                                          judul_laporan  \\\n",
              "0                              Bantuan Biaya Pendidikan   \n",
              "1                             Permasalahan Str Up Level   \n",
              "2                   Proses Verifikasi Yang Terlalu Lama   \n",
              "3     Hallo Admin Kemkes.go.id Tolong Ditindak Lanju...   \n",
              "4     Sertifikat Vaksin Ke 3 Belum Muncul Di Satuseh...   \n",
              "...                                                 ...   \n",
              "4230                                     Retaker Ukmppd   \n",
              "4231                                  Info Forlap Dikti   \n",
              "4232  Pengajuan Pengubahan Data Forlap Tidak Ada Kem...   \n",
              "4233  Kurangnya Pelayanan Terhadap Mahasiswa Pada Sa...   \n",
              "4234                         Laporan Dugaan Pelanggaran   \n",
              "\n",
              "                                         detail_keluhan  \\\n",
              "0     Selamat malam pak, bu.\\n\\nperkenalkan, saya yo...   \n",
              "1     Saya ingin mengajukan naik level str profesi b...   \n",
              "2     Selamat pagi, saya mohon ijin bantuan untuk pr...   \n",
              "3     Hallo admin saya mau melaporkan tentang websit...   \n",
              "4     Sertifikat vaksin ke 3 belum muncul di satuseh...   \n",
              "...                                                 ...   \n",
              "4230  Selamat sore. pengaduan kesulitan pendaftaran ...   \n",
              "4231  Dan menungguselamat siang\\nsaya sudah 10 bulan...   \n",
              "4232  Selamat pagi saya ingin melaporkan beberapa sa...   \n",
              "4233  Yang terhormat pemimpin kmpus unpatti,saya seb...   \n",
              "4234  Saya dari mahasiswa universitas muhammadiyah t...   \n",
              "\n",
              "                                               instansi  \n",
              "0                  Direktorat Jenderal Tenaga Kesehatan  \n",
              "1                  Direktorat Jenderal Tenaga Kesehatan  \n",
              "2                  Direktorat Jenderal Tenaga Kesehatan  \n",
              "3                  Direktorat Jenderal Tenaga Kesehatan  \n",
              "4                  Direktorat Jenderal Tenaga Kesehatan  \n",
              "...                                                 ...  \n",
              "4230  Kementerian Pendidikan, Kebudayaan, Riset, dan...  \n",
              "4231  Kementerian Pendidikan, Kebudayaan, Riset, dan...  \n",
              "4232  Kementerian Pendidikan, Kebudayaan, Riset, dan...  \n",
              "4233  Kementerian Pendidikan, Kebudayaan, Riset, dan...  \n",
              "4234  Kementerian Pendidikan, Kebudayaan, Riset, dan...  \n",
              "\n",
              "[3667 rows x 5 columns]"
            ]
          },
          "execution_count": 39,
          "metadata": {},
          "output_type": "execute_result"
        }
      ],
      "source": [
        "df"
      ]
    },
    {
      "cell_type": "code",
      "execution_count": null,
      "metadata": {
        "execution": {
          "iopub.execute_input": "2023-09-07T15:29:04.853033Z",
          "iopub.status.busy": "2023-09-07T15:29:04.852422Z",
          "iopub.status.idle": "2023-09-07T15:29:04.865234Z",
          "shell.execute_reply": "2023-09-07T15:29:04.864182Z",
          "shell.execute_reply.started": "2023-09-07T15:29:04.852994Z"
        },
        "id": "2JDpKKXYT5KE",
        "trusted": true
      },
      "outputs": [],
      "source": [
        "# Split the data into labeled and unlabeled\n",
        "labeled_data = df.dropna(subset=[\"label\"])\n",
        "unlabeled_data = df[df[\"label\"].isna()]\n"
      ]
    },
    {
      "cell_type": "code",
      "execution_count": null,
      "metadata": {
        "execution": {
          "iopub.execute_input": "2023-09-07T15:29:17.704789Z",
          "iopub.status.busy": "2023-09-07T15:29:17.704411Z",
          "iopub.status.idle": "2023-09-07T15:29:17.720734Z",
          "shell.execute_reply": "2023-09-07T15:29:17.719863Z",
          "shell.execute_reply.started": "2023-09-07T15:29:17.704759Z"
        },
        "id": "ubJ1YrYzMWIz",
        "outputId": "b3150833-5e0c-4b0a-f1d7-85473aed4744",
        "trusted": true
      },
      "outputs": [
        {
          "data": {
            "text/html": [
              "<div>\n",
              "<style scoped>\n",
              "    .dataframe tbody tr th:only-of-type {\n",
              "        vertical-align: middle;\n",
              "    }\n",
              "\n",
              "    .dataframe tbody tr th {\n",
              "        vertical-align: top;\n",
              "    }\n",
              "\n",
              "    .dataframe thead th {\n",
              "        text-align: right;\n",
              "    }\n",
              "</style>\n",
              "<table border=\"1\" class=\"dataframe\">\n",
              "  <thead>\n",
              "    <tr style=\"text-align: right;\">\n",
              "      <th></th>\n",
              "      <th>label</th>\n",
              "      <th>tweet</th>\n",
              "    </tr>\n",
              "  </thead>\n",
              "  <tbody>\n",
              "    <tr>\n",
              "      <th>5</th>\n",
              "      <td>sadness</td>\n",
              "      <td>beli kaos banyak dengan ukuran yg udah downgra...</td>\n",
              "    </tr>\n",
              "    <tr>\n",
              "      <th>8</th>\n",
              "      <td>sadness</td>\n",
              "      <td>Percaya kata lelaki itu, terutama ketika aku i...</td>\n",
              "    </tr>\n",
              "    <tr>\n",
              "      <th>9</th>\n",
              "      <td>sadness</td>\n",
              "      <td>ada saatnya sakit hati itu kita nikmatin denga...</td>\n",
              "    </tr>\n",
              "    <tr>\n",
              "      <th>11</th>\n",
              "      <td>sadness</td>\n",
              "      <td>Semalem pake baff, kaos tangan, sepatu lengkap...</td>\n",
              "    </tr>\n",
              "    <tr>\n",
              "      <th>12</th>\n",
              "      <td>sadness</td>\n",
              "      <td>Bagi rapot itu batin haha misalnya nih indikat...</td>\n",
              "    </tr>\n",
              "    <tr>\n",
              "      <th>...</th>\n",
              "      <td>...</td>\n",
              "      <td>...</td>\n",
              "    </tr>\n",
              "    <tr>\n",
              "      <th>4132</th>\n",
              "      <td>sadness</td>\n",
              "      <td>Ketika kamu melihat senyum di wajah orang lain...</td>\n",
              "    </tr>\n",
              "    <tr>\n",
              "      <th>4135</th>\n",
              "      <td>sadness</td>\n",
              "      <td>Rasa kesepian dan kehilangan ini membuatku mer...</td>\n",
              "    </tr>\n",
              "    <tr>\n",
              "      <th>4139</th>\n",
              "      <td>sadness</td>\n",
              "      <td>Turut Berduka, Atas Gempa di Lombok. Sepertiny...</td>\n",
              "    </tr>\n",
              "    <tr>\n",
              "      <th>4141</th>\n",
              "      <td>sadness</td>\n",
              "      <td>Akan selalu ada halangan dan rintangan yang ak...</td>\n",
              "    </tr>\n",
              "    <tr>\n",
              "      <th>4145</th>\n",
              "      <td>sadness</td>\n",
              "      <td>Saat kamu merenungkan tentang kehilangan yang ...</td>\n",
              "    </tr>\n",
              "  </tbody>\n",
              "</table>\n",
              "<p>1123 rows × 2 columns</p>\n",
              "</div>"
            ],
            "text/plain": [
              "        label                                              tweet\n",
              "5     sadness  beli kaos banyak dengan ukuran yg udah downgra...\n",
              "8     sadness  Percaya kata lelaki itu, terutama ketika aku i...\n",
              "9     sadness  ada saatnya sakit hati itu kita nikmatin denga...\n",
              "11    sadness  Semalem pake baff, kaos tangan, sepatu lengkap...\n",
              "12    sadness  Bagi rapot itu batin haha misalnya nih indikat...\n",
              "...       ...                                                ...\n",
              "4132  sadness  Ketika kamu melihat senyum di wajah orang lain...\n",
              "4135  sadness  Rasa kesepian dan kehilangan ini membuatku mer...\n",
              "4139  sadness  Turut Berduka, Atas Gempa di Lombok. Sepertiny...\n",
              "4141  sadness  Akan selalu ada halangan dan rintangan yang ak...\n",
              "4145  sadness  Saat kamu merenungkan tentang kehilangan yang ...\n",
              "\n",
              "[1123 rows x 2 columns]"
            ]
          },
          "execution_count": 43,
          "metadata": {},
          "output_type": "execute_result"
        }
      ],
      "source": [
        "labeled_data[labeled_data['label']=='sadness']"
      ]
    },
    {
      "cell_type": "markdown",
      "metadata": {
        "id": "Y2exs06CUGRG"
      },
      "source": [
        "# Data Cleaning"
      ]
    },
    {
      "cell_type": "markdown",
      "metadata": {
        "id": "GELLMwsVXhV5"
      },
      "source": [
        "Some of the data contain USERNAME, URL, Lets remove this"
      ]
    },
    {
      "cell_type": "code",
      "execution_count": null,
      "metadata": {
        "id": "SqnoP6U_T55L",
        "trusted": true
      },
      "outputs": [],
      "source": [
        "\n",
        "# Fungsi untuk menghitung kata yang dimask dalam sebuah teks\n",
        "def count_masked_words(text):\n",
        "    if isinstance(text, str):\n",
        "        pattern = r'\\[USERNAME\\]|\\[USER\\]'  # Pola regex untuk mencari [USERNAME] atau [USER]\n",
        "        matches = re.findall(pattern, text)\n",
        "        return len(matches)\n",
        "    else:\n",
        "        return 0  # Jika nilai tidak bertipe string, kembalikan 0\n",
        "\n",
        "# Menerapkan fungsi ke kolom teks dalam DataFrame\n",
        "labeled_data['masked_word_count'] = labeled_data['tweet'].apply(count_masked_words)\n",
        "\n",
        "# Jumlah kata yang dimask dalam keseluruhan dataset\n",
        "total_masked_words = labeled_data['masked_word_count'].sum()\n",
        "\n",
        "print(\"Total kata yang dimask dalam dataset:\", total_masked_words)"
      ]
    },
    {
      "cell_type": "code",
      "execution_count": null,
      "metadata": {
        "id": "KVXH6jvYUP-K",
        "trusted": true
      },
      "outputs": [],
      "source": [
        "# Fungsi untuk menemukan dan menghitung pola yang diawali dengan tanda kurung siku dalam sebuah teks\n",
        "def find_and_count_patterns(text):\n",
        "    if isinstance(text, str):\n",
        "        pattern = r'\\[([^]]+)\\]'  # Pola regex untuk mencari semua pola yang diawali dengan tanda kurung siku\n",
        "        matches = re.findall(pattern, text)\n",
        "\n",
        "        # Menghitung jumlah kemunculan setiap pola\n",
        "        pattern_counts = {}\n",
        "        for match in matches:\n",
        "            if match in pattern_counts:\n",
        "                pattern_counts[match] += 1\n",
        "            else:\n",
        "                pattern_counts[match] = 1\n",
        "\n",
        "        return pattern_counts\n",
        "    else:\n",
        "        return {}  # Jika nilai tidak bertipe string, kembalikan dictionary kosong\n",
        "\n",
        "# Menerapkan fungsi ke kolom teks dalam DataFrame\n",
        "labeled_data['pattern_counts'] = labeled_data['tweet'].apply(find_and_count_patterns)\n",
        "\n",
        "# Menggabungkan hasil dari semua tweet menjadi satu dictionary\n",
        "all_patterns_counts = {}\n",
        "for pattern_count in labeled_data['pattern_counts']:\n",
        "    for pattern, count in pattern_count.items():\n",
        "        if pattern in all_patterns_counts:\n",
        "            all_patterns_counts[pattern] += count\n",
        "        else:\n",
        "            all_patterns_counts[pattern] = count\n"
      ]
    },
    {
      "cell_type": "code",
      "execution_count": null,
      "metadata": {
        "id": "ZcBloW05Ybrf"
      },
      "outputs": [],
      "source": [
        "# Membuat barplot\n",
        "patterns = list(all_patterns_counts.keys())\n",
        "counts = list(all_patterns_counts.values())\n",
        "\n",
        "plt.figure(figsize=(10, 6))\n",
        "plt.bar(patterns, counts)\n",
        "plt.xlabel('Pola yang Diawali dengan Tanda Kurung Siku')\n",
        "plt.ylabel('Jumlah Kemunculan')\n",
        "plt.title('Barplot Jumlah Kemunculan Pola dalam Dataset')\n",
        "plt.xticks(rotation=90)  # Agar label sumbu x lebih mudah dibaca\n",
        "plt.tight_layout()\n",
        "\n",
        "# Menampilkan plot\n",
        "plt.show()"
      ]
    },
    {
      "cell_type": "markdown",
      "metadata": {
        "id": "iL4ykaEIZ-k7"
      },
      "source": [
        "Saya penasaran dengan askmf, mari kita coba cari apa ini"
      ]
    },
    {
      "cell_type": "code",
      "execution_count": null,
      "metadata": {
        "id": "DUzzeomtZWgo",
        "trusted": true
      },
      "outputs": [],
      "source": [
        "\n",
        "# Fungsi untuk mencetak tweet yang mengandung pola [askmf]\n",
        "def print_tweets_with_pattern(text):\n",
        "    if isinstance(text, str):\n",
        "        if '[askmf]' in text:\n",
        "            print(text)\n",
        "\n",
        "# Menerapkan fungsi ke kolom teks dalam DataFrame\n",
        "labeled_data['tweet'].apply(print_tweets_with_pattern)"
      ]
    },
    {
      "cell_type": "markdown",
      "metadata": {
        "id": "RdFA9xYvbKRI"
      },
      "source": [
        "askmf adalah tweet menfess, kita bisa hilangkan saja"
      ]
    },
    {
      "cell_type": "code",
      "execution_count": null,
      "metadata": {
        "id": "DylB00_zaYHt"
      },
      "outputs": [],
      "source": [
        "\n",
        "# Fungsi untuk mencetak tweet yang mengandung pola [askmf]\n",
        "def print_tweets_with_pattern(text):\n",
        "    if isinstance(text, str):\n",
        "        if '[Habis buka Facebook]' in text:\n",
        "            print(text)\n",
        "\n",
        "# Menerapkan fungsi ke kolom teks dalam DataFrame\n",
        "labeled_data['tweet'].apply(print_tweets_with_pattern)"
      ]
    },
    {
      "cell_type": "markdown",
      "metadata": {
        "id": "K247JjBhdQhM"
      },
      "source": [
        "## Removing data []"
      ]
    },
    {
      "cell_type": "code",
      "execution_count": null,
      "metadata": {
        "id": "ohP4ht8Iba_C"
      },
      "outputs": [],
      "source": [
        "all_patterns_counts"
      ]
    },
    {
      "cell_type": "code",
      "execution_count": null,
      "metadata": {
        "execution": {
          "iopub.execute_input": "2023-09-07T12:22:45.848936Z",
          "iopub.status.busy": "2023-09-07T12:22:45.848524Z",
          "iopub.status.idle": "2023-09-07T12:22:45.914953Z",
          "shell.execute_reply": "2023-09-07T12:22:45.914134Z",
          "shell.execute_reply.started": "2023-09-07T12:22:45.848887Z"
        },
        "id": "1IENjom8eln-",
        "trusted": true
      },
      "outputs": [],
      "source": [
        "kamus_alay=pd.read_csv(kamus_alay_path)\n",
        "kamus_alay=kamus_alay.rename(columns = {'slang' : 'kamus_slang' , 'formal' : 'kamus_perbaikan'})\n",
        "# Rekonstruksi data sebagai 'dict'\n",
        "slang_mapping = dict(zip(kamus_alay['kamus_slang'], kamus_alay['kamus_perbaikan']))\n",
        "kamus_singkatan = pd.read_csv(kamus_singkatan_path, header=None, names=['sebelum_perbaikan', 'setelah_perbaikan'],delimiter=';')\n",
        "singkatan_mapping=dict(zip(kamus_singkatan['sebelum_perbaikan'],kamus_singkatan['setelah_perbaikan']))"
      ]
    },
    {
      "cell_type": "code",
      "execution_count": null,
      "metadata": {
        "id": "3PU4XPddMWI2",
        "trusted": true
      },
      "outputs": [],
      "source": []
    },
    {
      "cell_type": "code",
      "execution_count": null,
      "metadata": {
        "execution": {
          "iopub.execute_input": "2023-09-07T12:22:48.146110Z",
          "iopub.status.busy": "2023-09-07T12:22:48.145548Z",
          "iopub.status.idle": "2023-09-07T12:22:48.153724Z",
          "shell.execute_reply": "2023-09-07T12:22:48.152161Z",
          "shell.execute_reply.started": "2023-09-07T12:22:48.146077Z"
        },
        "id": "koPG8jm5eptK",
        "trusted": true
      },
      "outputs": [],
      "source": [
        "excluded_stopwords = [\n",
        "    \"tidak\",\n",
        "    \"bukan\",\n",
        "    \"jangan\",\n",
        "    \"tak\",\n",
        "    \"belum\",\n",
        "    \"tidak ada\",\n",
        "    \"tidak pernah\",\n",
        "    \"justru\",\n",
        "    \"malah\",\n",
        "    \"hanya\",\n",
        "    \"saja\",\n",
        "    \"sungguh\",\n",
        "    \"amat\",\n",
        "    \"terlalu\",\n",
        "    \"benar-benar\",\n",
        "    \"sangat\",\n",
        "    \"sekali\",\n",
        "    \"ternyata\",\n",
        "    \"tadinya\",\n",
        "    \"bahwa\",\n",
        "    \"apabila\",\n",
        "    \"jika\",\n",
        "    \"jikalau\",\n",
        "    \"seandainya\",\n",
        "    \"sekiranya\",\n",
        "    \"sejak\",\n",
        "    \"semenjak\",\n",
        "    \"sewaktu\",\n",
        "    \"sebelum\",\n",
        "    \"sesudah\",\n",
        "    \"selesai\",\n",
        "    \"ketika\",\n",
        "    \"kemudian\",\n",
        "    \"setelah\",\n",
        "    \"sementara\",\n",
        "    \"begitu\",\n",
        "    \"demikian\",\n",
        "    \"seperti\",\n",
        "    \"serupa\",\n",
        "    \"mirip\",\n",
        "    \"sama\",\n",
        "    \"seolah-olah\",\n",
        "    \"akan\",\n",
        "    \"mau\",\n",
        "    \"mesti\",\n",
        "    \"harus\",\n",
        "    \"perlu\",\n",
        "    \"patut\",\n",
        "    \"boleh\",\n",
        "    \"dapat\",\n",
        "    \"bisa\",\n",
        "    \"mampu\",\n",
        "    \"sebaiknya\",\n",
        "    \"seharusnya\",\n",
        "    \"sempat\",\n",
        "    \"tahu\",\n",
        "    \"tahulah\",\n",
        "    \"ketahui\",\n",
        "    \"tandanya\",\n",
        "    \"yaitu\",\n",
        "    \"adalah\",\n",
        "    \"namun\",\n",
        "    \"ga\"\n",
        "]\n"
      ]
    },
    {
      "cell_type": "code",
      "execution_count": null,
      "metadata": {
        "colab": {
          "base_uri": "https://localhost:8080/",
          "height": 1733
        },
        "execution": {
          "iopub.execute_input": "2023-09-07T12:22:50.256259Z",
          "iopub.status.busy": "2023-09-07T12:22:50.255820Z",
          "iopub.status.idle": "2023-09-07T12:22:50.274928Z",
          "shell.execute_reply": "2023-09-07T12:22:50.273817Z",
          "shell.execute_reply.started": "2023-09-07T12:22:50.256221Z"
        },
        "id": "EN85EjIksyh8",
        "outputId": "7cee52f0-bafe-4ae9-9815-36c8c0216e6f",
        "trusted": true
      },
      "outputs": [
        {
          "data": {
            "text/html": [
              "<div>\n",
              "<style scoped>\n",
              "    .dataframe tbody tr th:only-of-type {\n",
              "        vertical-align: middle;\n",
              "    }\n",
              "\n",
              "    .dataframe tbody tr th {\n",
              "        vertical-align: top;\n",
              "    }\n",
              "\n",
              "    .dataframe thead th {\n",
              "        text-align: right;\n",
              "    }\n",
              "</style>\n",
              "<table border=\"1\" class=\"dataframe\">\n",
              "  <thead>\n",
              "    <tr style=\"text-align: right;\">\n",
              "      <th></th>\n",
              "      <th>label</th>\n",
              "      <th>tweet</th>\n",
              "    </tr>\n",
              "  </thead>\n",
              "  <tbody>\n",
              "    <tr>\n",
              "      <th>4053</th>\n",
              "      <td>fear</td>\n",
              "      <td>[USERNAME] [USERNAME] [USERNAME] [USERNAME] [U...</td>\n",
              "    </tr>\n",
              "    <tr>\n",
              "      <th>4054</th>\n",
              "      <td>anger</td>\n",
              "      <td>hina saja aku terus! lama lama aku muak dengan...</td>\n",
              "    </tr>\n",
              "    <tr>\n",
              "      <th>4055</th>\n",
              "      <td>fear</td>\n",
              "      <td>[askmf] kamu kalo pergi ke psikolog pertamanya...</td>\n",
              "    </tr>\n",
              "    <tr>\n",
              "      <th>4056</th>\n",
              "      <td>anger</td>\n",
              "      <td>Baru kali ini nemu temen mau buka bisnis yg sa...</td>\n",
              "    </tr>\n",
              "    <tr>\n",
              "      <th>4057</th>\n",
              "      <td>fear</td>\n",
              "      <td>Harap diperjelas Pak Ketua [USERNAME] agar mas...</td>\n",
              "    </tr>\n",
              "    <tr>\n",
              "      <th>...</th>\n",
              "      <td>...</td>\n",
              "      <td>...</td>\n",
              "    </tr>\n",
              "    <tr>\n",
              "      <th>4148</th>\n",
              "      <td>anger</td>\n",
              "      <td>sini berobat sama saya ini ngantri dokter saja...</td>\n",
              "    </tr>\n",
              "    <tr>\n",
              "      <th>4149</th>\n",
              "      <td>joy</td>\n",
              "      <td>Selamat pagi generasi Tik Tok yang kadang kepa...</td>\n",
              "    </tr>\n",
              "    <tr>\n",
              "      <th>4150</th>\n",
              "      <td>love</td>\n",
              "      <td>Salah satu sahabat terbaik! Teman, kakak, insp...</td>\n",
              "    </tr>\n",
              "    <tr>\n",
              "      <th>4151</th>\n",
              "      <td>anger</td>\n",
              "      <td>[USERNAME] Gila kok ada ya perempuan pikiranny...</td>\n",
              "    </tr>\n",
              "    <tr>\n",
              "      <th>4152</th>\n",
              "      <td>anger</td>\n",
              "      <td>[USERNAME] saya coba hubungi yg di cakung dan ...</td>\n",
              "    </tr>\n",
              "  </tbody>\n",
              "</table>\n",
              "<p>100 rows × 2 columns</p>\n",
              "</div>"
            ],
            "text/plain": [
              "      label                                              tweet\n",
              "4053   fear  [USERNAME] [USERNAME] [USERNAME] [USERNAME] [U...\n",
              "4054  anger  hina saja aku terus! lama lama aku muak dengan...\n",
              "4055   fear  [askmf] kamu kalo pergi ke psikolog pertamanya...\n",
              "4056  anger  Baru kali ini nemu temen mau buka bisnis yg sa...\n",
              "4057   fear  Harap diperjelas Pak Ketua [USERNAME] agar mas...\n",
              "...     ...                                                ...\n",
              "4148  anger  sini berobat sama saya ini ngantri dokter saja...\n",
              "4149    joy  Selamat pagi generasi Tik Tok yang kadang kepa...\n",
              "4150   love  Salah satu sahabat terbaik! Teman, kakak, insp...\n",
              "4151  anger  [USERNAME] Gila kok ada ya perempuan pikiranny...\n",
              "4152  anger  [USERNAME] saya coba hubungi yg di cakung dan ...\n",
              "\n",
              "[100 rows x 2 columns]"
            ]
          },
          "execution_count": 13,
          "metadata": {},
          "output_type": "execute_result"
        }
      ],
      "source": [
        "labeled_data.tail(100)\n"
      ]
    },
    {
      "cell_type": "code",
      "execution_count": null,
      "metadata": {
        "execution": {
          "iopub.execute_input": "2023-09-07T12:23:17.196224Z",
          "iopub.status.busy": "2023-09-07T12:23:17.195834Z",
          "iopub.status.idle": "2023-09-07T12:23:21.321496Z",
          "shell.execute_reply": "2023-09-07T12:23:21.320426Z",
          "shell.execute_reply.started": "2023-09-07T12:23:17.196193Z"
        },
        "id": "GijpYmFYrcxP",
        "trusted": true
      },
      "outputs": [],
      "source": [
        "# Menggunakan kamus kata gaul Salsabila\n",
        "from Sastrawi.StopWordRemover.StopWordRemoverFactory import  StopWordRemoverFactory\n",
        "import emoji\n",
        "stopword_factory = StopWordRemoverFactory()\n",
        "stopwords = stopword_factory.get_stop_words()\n",
        "# List of words with negation meaning\n",
        "data = emoji.EMOJI_DATA\n",
        "\n",
        "# Remove negation words from stopwords\n",
        "stopwords = set(stopwords).difference(excluded_stopwords)\n",
        "nlp = Indonesian()\n",
        "factory = StemmerFactory()\n",
        "stemmer = factory.create_stemmer()\n"
      ]
    },
    {
      "cell_type": "code",
      "execution_count": null,
      "metadata": {
        "execution": {
          "iopub.execute_input": "2023-09-07T12:30:10.387880Z",
          "iopub.status.busy": "2023-09-07T12:30:10.386929Z",
          "iopub.status.idle": "2023-09-07T12:30:10.402710Z",
          "shell.execute_reply": "2023-09-07T12:30:10.401886Z",
          "shell.execute_reply.started": "2023-09-07T12:30:10.387812Z"
        },
        "id": "1xIIOz4gxQ2c",
        "trusted": true
      },
      "outputs": [],
      "source": [
        "# Teks dengan emoji\n",
        "text_with_emoji = \"Saat kamu merenungkan tentang kehilangan yang pernah kamu alami, luka-luka itu terasa kembali dalam ingatan. 💔🌼 #RememberingLoss\"\n",
        "\n",
        "# Fungsi untuk mengganti emoji dengan representasi ASCII sesuai dengan data emoji\n",
        "def replace_emoji_with_ascii(text, emoji_data, language='id'):\n",
        "    for emoji, translations in emoji_data.items():\n",
        "        if language in translations:\n",
        "            text = text.replace(emoji, translations[language])\n",
        "#             text=text.replace(':','')\n",
        "#             text=text.replace('_',' ')\n",
        "#             text = text.replace(':', '').replace('_', ' ')\n",
        "\n",
        "\n",
        "\n",
        "    return text\n",
        "text_with_ascii = replace_emoji_with_ascii(text_with_emoji, data, language='id')\n",
        "\n",
        "text_with_spaces=text_with_ascii.replace(\":\",'mask').replace('_','mask2').strip()\n",
        "text_without_extra_spaces = re.sub(' +', ' ', text_with_spaces)\n",
        "\n",
        "# Menghilangkan spasi di awal dan akhir teks\n",
        "text_without_extra_spaces = text_without_extra_spaces.strip()\n",
        "def process_tweet(tweet) :\n",
        "  tweet=tweet.lower()\n",
        "  tweet = re.sub('((www\\.[^\\s]+)|(https?://[^\\s]+))','',tweet)\n",
        "  tweet = re.sub(r'\\[username\\]|\\[url\\]|\\[askmf\\]|\\[sensitive-no\\]|\\[satu menit kemudian\\]|\\[seo in ha, love rain\\]|\\[bb\\]|\\[c48\\]|\\[idm\\]', '', tweet)\n",
        "  tweet=replace_emoji_with_ascii(tweet,data)\n",
        "  tweet=tweet.replace(\":\",' ').replace('_','mask').replace('-','rus').strip()\n",
        "  tweet=re.sub(' +', ' ', tweet)\n",
        "  tokens = tweet.split()\n",
        "  tweet_tokens = []\n",
        "  for ele in tokens:\n",
        "    ele_kamus = kamus_singkatan.get(ele, ele)\n",
        "    ele_slang = slang_mapping.get(ele_kamus, ele_kamus)\n",
        "    tweet_tokens.append(ele_slang)\n",
        "\n",
        "  tweet = ' '.join(tweet_tokens)\n",
        "  tweet = re.sub('[\\s]+', ' ', tweet)\n",
        "    #Replace #word with word\n",
        "  tweet = re.sub(r'#([^\\s]+)', '', tweet)\n",
        "  tweet=re.sub(r'\\d+', '', tweet)\n",
        "  tweet = tweet.strip('\\'\"')\n",
        "  tweet = tweet.lstrip('\\'\"')\n",
        "\n",
        "  tweet = \"\".join([char for char in tweet if char not in string.punctuation])\n",
        "\n",
        "  doc = nlp(tweet)\n",
        "  tokens = [token.text for token in doc]\n",
        "      # Hapus stopwords dari tokens\n",
        "  filtered_tokens = [token for token in tokens if token.lower() not in stopwords]\n",
        "  tweet = ' '.join(filtered_tokens)\n",
        "\n",
        "  tweet=stemmer.stem(tweet)\n",
        "  tweet=tweet.replace('mask',' ').replace('rus','-')\n",
        "\n",
        "\n",
        "  return tweet"
      ]
    },
    {
      "cell_type": "code",
      "execution_count": null,
      "metadata": {
        "execution": {
          "iopub.execute_input": "2023-09-07T12:30:10.597929Z",
          "iopub.status.busy": "2023-09-07T12:30:10.597556Z",
          "iopub.status.idle": "2023-09-07T12:30:10.776253Z",
          "shell.execute_reply": "2023-09-07T12:30:10.774970Z",
          "shell.execute_reply.started": "2023-09-07T12:30:10.597900Z"
        },
        "id": "tJzzAA9nMWI3",
        "outputId": "cd4bfa79-d56f-45e2-ab9e-930b4542a539",
        "trusted": true
      },
      "outputs": [
        {
          "data": {
            "text/plain": [
              "'baik profil plataran sehat kemenkes ri'"
            ]
          },
          "execution_count": 48,
          "metadata": {},
          "output_type": "execute_result"
        }
      ],
      "source": [
        "text_with_emoji = \"Saat kamu merenungkan tentang kehilangan yang sangat amat kemaluan pernah kamu alami, luka-luka itu terasa kembali dalam ingatan. 💔🌼 #RememberingLoss\"\n",
        "process_tweet(df['judul_laporan'].iloc[19])"
      ]
    },
    {
      "cell_type": "code",
      "execution_count": null,
      "metadata": {
        "colab": {
          "base_uri": "https://localhost:8080/"
        },
        "execution": {
          "iopub.execute_input": "2023-09-07T12:31:02.143691Z",
          "iopub.status.busy": "2023-09-07T12:31:02.143085Z",
          "iopub.status.idle": "2023-09-07T12:55:20.837923Z",
          "shell.execute_reply": "2023-09-07T12:55:20.835833Z",
          "shell.execute_reply.started": "2023-09-07T12:31:02.143652Z"
        },
        "id": "k8tDSCuhtsgQ",
        "outputId": "f82fafe9-6922-4583-d676-bfd37b601ff1",
        "trusted": true
      },
      "outputs": [
        {
          "name": "stderr",
          "output_type": "stream",
          "text": [
            "C:\\Users\\krisn\\AppData\\Local\\Temp\\ipykernel_8308\\4220198793.py:1: SettingWithCopyWarning: \n",
            "A value is trying to be set on a copy of a slice from a DataFrame.\n",
            "Try using .loc[row_indexer,col_indexer] = value instead\n",
            "\n",
            "See the caveats in the documentation: https://pandas.pydata.org/pandas-docs/stable/user_guide/indexing.html#returning-a-view-versus-a-copy\n",
            "  df['cleaned_judul_laporan']=df['judul_laporan'].apply(lambda x: process_tweet(str(x)))\n"
          ]
        }
      ],
      "source": [
        "df['cleaned_judul_laporan']=df['judul_laporan'].apply(lambda x: process_tweet(str(x)))"
      ]
    },
    {
      "cell_type": "code",
      "execution_count": null,
      "metadata": {
        "execution": {
          "iopub.execute_input": "2023-09-07T13:03:01.671949Z",
          "iopub.status.busy": "2023-09-07T13:03:01.671570Z",
          "iopub.status.idle": "2023-09-07T13:03:01.692224Z",
          "shell.execute_reply": "2023-09-07T13:03:01.690963Z",
          "shell.execute_reply.started": "2023-09-07T13:03:01.671920Z"
        },
        "id": "Lg-md-4tAhYv",
        "trusted": true
      },
      "outputs": [],
      "source": [
        "df.to_csv(r\"C:\\Lomba\\UNITY UNY\\Data Mining\\scraping\\dataset\\cleaned_judul_laporan.csv\")"
      ]
    },
    {
      "cell_type": "code",
      "execution_count": null,
      "metadata": {},
      "outputs": [
        {
          "data": {
            "text/html": [
              "<div>\n",
              "<style scoped>\n",
              "    .dataframe tbody tr th:only-of-type {\n",
              "        vertical-align: middle;\n",
              "    }\n",
              "\n",
              "    .dataframe tbody tr th {\n",
              "        vertical-align: top;\n",
              "    }\n",
              "\n",
              "    .dataframe thead th {\n",
              "        text-align: right;\n",
              "    }\n",
              "</style>\n",
              "<table border=\"1\" class=\"dataframe\">\n",
              "  <thead>\n",
              "    <tr style=\"text-align: right;\">\n",
              "      <th></th>\n",
              "      <th>pelapor</th>\n",
              "      <th>tanggal_masuk_laporan</th>\n",
              "      <th>judul_laporan</th>\n",
              "      <th>detail_keluhan</th>\n",
              "      <th>instansi</th>\n",
              "      <th>cleaned_judul_laporan</th>\n",
              "    </tr>\n",
              "  </thead>\n",
              "  <tbody>\n",
              "    <tr>\n",
              "      <th>0</th>\n",
              "      <td>Yogi Wibowo</td>\n",
              "      <td>Kamis, 20:29</td>\n",
              "      <td>Bantuan Biaya Pendidikan</td>\n",
              "      <td>Selamat malam pak, bu.\\n\\nperkenalkan, saya yo...</td>\n",
              "      <td>Direktorat Jenderal Tenaga Kesehatan</td>\n",
              "      <td>bantu biaya didik</td>\n",
              "    </tr>\n",
              "    <tr>\n",
              "      <th>1</th>\n",
              "      <td>Anonim</td>\n",
              "      <td>Website</td>\n",
              "      <td>Permasalahan Str Up Level</td>\n",
              "      <td>Saya ingin mengajukan naik level str profesi b...</td>\n",
              "      <td>Direktorat Jenderal Tenaga Kesehatan</td>\n",
              "      <td>masalah str up level</td>\n",
              "    </tr>\n",
              "    <tr>\n",
              "      <th>2</th>\n",
              "      <td>Anonim</td>\n",
              "      <td>Kamis, 00:30</td>\n",
              "      <td>Proses Verifikasi Yang Terlalu Lama</td>\n",
              "      <td>Selamat pagi, saya mohon ijin bantuan untuk pr...</td>\n",
              "      <td>Direktorat Jenderal Tenaga Kesehatan</td>\n",
              "      <td>proses verifikasi terlalu lama</td>\n",
              "    </tr>\n",
              "    <tr>\n",
              "      <th>3</th>\n",
              "      <td>Amram Nicolas Bungyanan</td>\n",
              "      <td>Website</td>\n",
              "      <td>Hallo Admin Kemkes.go.id Tolong Ditindak Lanju...</td>\n",
              "      <td>Hallo admin saya mau melaporkan tentang websit...</td>\n",
              "      <td>Direktorat Jenderal Tenaga Kesehatan</td>\n",
              "      <td>halo admin kemkesgoid tindak lanjut forum</td>\n",
              "    </tr>\n",
              "    <tr>\n",
              "      <th>4</th>\n",
              "      <td>Inan Nur Roffiq</td>\n",
              "      <td>Rabu, 10:36</td>\n",
              "      <td>Sertifikat Vaksin Ke 3 Belum Muncul Di Satuseh...</td>\n",
              "      <td>Sertifikat vaksin ke 3 belum muncul di satuseh...</td>\n",
              "      <td>Direktorat Jenderal Tenaga Kesehatan</td>\n",
              "      <td>sertifikat vaksin belum muncul satusehat padah...</td>\n",
              "    </tr>\n",
              "    <tr>\n",
              "      <th>...</th>\n",
              "      <td>...</td>\n",
              "      <td>...</td>\n",
              "      <td>...</td>\n",
              "      <td>...</td>\n",
              "      <td>...</td>\n",
              "      <td>...</td>\n",
              "    </tr>\n",
              "    <tr>\n",
              "      <th>4230</th>\n",
              "      <td>Firas Khusyi</td>\n",
              "      <td>Website</td>\n",
              "      <td>Retaker Ukmppd</td>\n",
              "      <td>Selamat sore. pengaduan kesulitan pendaftaran ...</td>\n",
              "      <td>Kementerian Pendidikan, Kebudayaan, Riset, dan...</td>\n",
              "      <td>retaker ukmppd</td>\n",
              "    </tr>\n",
              "    <tr>\n",
              "      <th>4231</th>\n",
              "      <td>628113643xxxx</td>\n",
              "      <td>13 Jul 2022, 21:24</td>\n",
              "      <td>Info Forlap Dikti</td>\n",
              "      <td>Dan menungguselamat siang\\nsaya sudah 10 bulan...</td>\n",
              "      <td>Kementerian Pendidikan, Kebudayaan, Riset, dan...</td>\n",
              "      <td>info forlap dikti</td>\n",
              "    </tr>\n",
              "    <tr>\n",
              "      <th>4232</th>\n",
              "      <td>Hera Rachmahani</td>\n",
              "      <td>Website</td>\n",
              "      <td>Pengajuan Pengubahan Data Forlap Tidak Ada Kem...</td>\n",
              "      <td>Selamat pagi saya ingin melaporkan beberapa sa...</td>\n",
              "      <td>Kementerian Pendidikan, Kebudayaan, Riset, dan...</td>\n",
              "      <td>aju ubah data forlap tidak maju bulan</td>\n",
              "    </tr>\n",
              "    <tr>\n",
              "      <th>4233</th>\n",
              "      <td>Anonim</td>\n",
              "      <td>26 Jun 2022, 13:55</td>\n",
              "      <td>Kurangnya Pelayanan Terhadap Mahasiswa Pada Sa...</td>\n",
              "      <td>Yang terhormat pemimpin kmpus unpatti,saya seb...</td>\n",
              "      <td>Kementerian Pendidikan, Kebudayaan, Riset, dan...</td>\n",
              "      <td>kurang layan mahasiswa kembali</td>\n",
              "    </tr>\n",
              "    <tr>\n",
              "      <th>4234</th>\n",
              "      <td>Anonim</td>\n",
              "      <td>Website</td>\n",
              "      <td>Laporan Dugaan Pelanggaran</td>\n",
              "      <td>Saya dari mahasiswa universitas muhammadiyah t...</td>\n",
              "      <td>Kementerian Pendidikan, Kebudayaan, Riset, dan...</td>\n",
              "      <td>lapor duga langgar</td>\n",
              "    </tr>\n",
              "  </tbody>\n",
              "</table>\n",
              "<p>3667 rows × 6 columns</p>\n",
              "</div>"
            ],
            "text/plain": [
              "                      pelapor tanggal_masuk_laporan  \\\n",
              "0                 Yogi Wibowo          Kamis, 20:29   \n",
              "1                      Anonim               Website   \n",
              "2                      Anonim          Kamis, 00:30   \n",
              "3     Amram Nicolas Bungyanan               Website   \n",
              "4             Inan Nur Roffiq           Rabu, 10:36   \n",
              "...                       ...                   ...   \n",
              "4230             Firas Khusyi               Website   \n",
              "4231            628113643xxxx    13 Jul 2022, 21:24   \n",
              "4232          Hera Rachmahani               Website   \n",
              "4233                   Anonim    26 Jun 2022, 13:55   \n",
              "4234                   Anonim               Website   \n",
              "\n",
              "                                          judul_laporan  \\\n",
              "0                              Bantuan Biaya Pendidikan   \n",
              "1                             Permasalahan Str Up Level   \n",
              "2                   Proses Verifikasi Yang Terlalu Lama   \n",
              "3     Hallo Admin Kemkes.go.id Tolong Ditindak Lanju...   \n",
              "4     Sertifikat Vaksin Ke 3 Belum Muncul Di Satuseh...   \n",
              "...                                                 ...   \n",
              "4230                                     Retaker Ukmppd   \n",
              "4231                                  Info Forlap Dikti   \n",
              "4232  Pengajuan Pengubahan Data Forlap Tidak Ada Kem...   \n",
              "4233  Kurangnya Pelayanan Terhadap Mahasiswa Pada Sa...   \n",
              "4234                         Laporan Dugaan Pelanggaran   \n",
              "\n",
              "                                         detail_keluhan  \\\n",
              "0     Selamat malam pak, bu.\\n\\nperkenalkan, saya yo...   \n",
              "1     Saya ingin mengajukan naik level str profesi b...   \n",
              "2     Selamat pagi, saya mohon ijin bantuan untuk pr...   \n",
              "3     Hallo admin saya mau melaporkan tentang websit...   \n",
              "4     Sertifikat vaksin ke 3 belum muncul di satuseh...   \n",
              "...                                                 ...   \n",
              "4230  Selamat sore. pengaduan kesulitan pendaftaran ...   \n",
              "4231  Dan menungguselamat siang\\nsaya sudah 10 bulan...   \n",
              "4232  Selamat pagi saya ingin melaporkan beberapa sa...   \n",
              "4233  Yang terhormat pemimpin kmpus unpatti,saya seb...   \n",
              "4234  Saya dari mahasiswa universitas muhammadiyah t...   \n",
              "\n",
              "                                               instansi  \\\n",
              "0                  Direktorat Jenderal Tenaga Kesehatan   \n",
              "1                  Direktorat Jenderal Tenaga Kesehatan   \n",
              "2                  Direktorat Jenderal Tenaga Kesehatan   \n",
              "3                  Direktorat Jenderal Tenaga Kesehatan   \n",
              "4                  Direktorat Jenderal Tenaga Kesehatan   \n",
              "...                                                 ...   \n",
              "4230  Kementerian Pendidikan, Kebudayaan, Riset, dan...   \n",
              "4231  Kementerian Pendidikan, Kebudayaan, Riset, dan...   \n",
              "4232  Kementerian Pendidikan, Kebudayaan, Riset, dan...   \n",
              "4233  Kementerian Pendidikan, Kebudayaan, Riset, dan...   \n",
              "4234  Kementerian Pendidikan, Kebudayaan, Riset, dan...   \n",
              "\n",
              "                                  cleaned_judul_laporan  \n",
              "0                                     bantu biaya didik  \n",
              "1                                  masalah str up level  \n",
              "2                        proses verifikasi terlalu lama  \n",
              "3             halo admin kemkesgoid tindak lanjut forum  \n",
              "4     sertifikat vaksin belum muncul satusehat padah...  \n",
              "...                                                 ...  \n",
              "4230                                     retaker ukmppd  \n",
              "4231                                  info forlap dikti  \n",
              "4232              aju ubah data forlap tidak maju bulan  \n",
              "4233                     kurang layan mahasiswa kembali  \n",
              "4234                                 lapor duga langgar  \n",
              "\n",
              "[3667 rows x 6 columns]"
            ]
          },
          "execution_count": 51,
          "metadata": {},
          "output_type": "execute_result"
        }
      ],
      "source": [
        "df"
      ]
    },
    {
      "cell_type": "markdown",
      "metadata": {
        "id": "yC1qAvpsMWI4"
      },
      "source": [
        "# Splitting Data"
      ]
    },
    {
      "cell_type": "code",
      "execution_count": null,
      "metadata": {
        "execution": {
          "iopub.execute_input": "2023-09-07T13:03:18.910394Z",
          "iopub.status.busy": "2023-09-07T13:03:18.909980Z",
          "iopub.status.idle": "2023-09-07T13:03:18.919104Z",
          "shell.execute_reply": "2023-09-07T13:03:18.917749Z",
          "shell.execute_reply.started": "2023-09-07T13:03:18.910358Z"
        },
        "id": "NwPS6DlKCM1O",
        "trusted": true
      },
      "outputs": [],
      "source": [
        "from sklearn.model_selection import train_test_split\n",
        "X_train, X_test, y_train, y_test = train_test_split(df['cleaned_judul_laporan'],df['instansi'], test_size=0.2, random_state=42)\n"
      ]
    },
    {
      "cell_type": "code",
      "execution_count": null,
      "metadata": {},
      "outputs": [],
      "source": []
    },
    {
      "cell_type": "code",
      "execution_count": null,
      "metadata": {
        "execution": {
          "iopub.execute_input": "2023-09-07T13:03:28.067152Z",
          "iopub.status.busy": "2023-09-07T13:03:28.066709Z",
          "iopub.status.idle": "2023-09-07T13:03:28.100110Z",
          "shell.execute_reply": "2023-09-07T13:03:28.099288Z",
          "shell.execute_reply.started": "2023-09-07T13:03:28.067119Z"
        },
        "id": "DPbbnqU6CeR2",
        "trusted": true
      },
      "outputs": [],
      "source": [
        "# Training data\n",
        "train_df = pd.DataFrame({\"tweet\": X_train, \"label\": y_train})\n",
        "train_df.to_csv(\"train.tsv\", sep=\"\\t\", index=False,header=False)\n",
        "\n",
        "# Test data\n",
        "test_df = pd.DataFrame({\"tweet\": X_test, \"label\": y_test})\n",
        "test_df.to_csv(\"valid.tsv\",  sep='\\t',index=False,header=False)\n"
      ]
    },
    {
      "cell_type": "code",
      "execution_count": null,
      "metadata": {
        "execution": {
          "iopub.execute_input": "2023-09-08T13:08:16.004332Z",
          "iopub.status.busy": "2023-09-08T13:08:16.003300Z",
          "iopub.status.idle": "2023-09-08T13:08:19.613940Z",
          "shell.execute_reply": "2023-09-08T13:08:19.612862Z",
          "shell.execute_reply.started": "2023-09-08T13:08:16.004295Z"
        },
        "id": "Y0w5fjJ2MWI4",
        "outputId": "e5edef87-c1c9-47b8-f450-595d026d9c7b",
        "trusted": true
      },
      "outputs": [
        {
          "name": "stderr",
          "output_type": "stream",
          "text": [
            "Downloading...\n",
            "From: https://drive.google.com/uc?id=19A4jIhGTs_ekC-Fb4uc7gz4YrRSpnQoR\n",
            "To: c:\\Lomba\\UNITY UNY\\Data Mining\\model\\traindf.tsv\n",
            "100%|██████████| 681k/681k [00:00<00:00, 5.40MB/s]\n",
            "Downloading...\n",
            "From: https://drive.google.com/uc?id=1U5KhxPQbndN4pyqI8Kiea1W1Rivp4yj7\n",
            "To: c:\\Lomba\\UNITY UNY\\Data Mining\\model\\validdf.tsv\n",
            "100%|██████████| 290k/290k [00:00<00:00, 2.95MB/s]\n"
          ]
        },
        {
          "data": {
            "text/plain": [
              "'validdf.tsv'"
            ]
          },
          "execution_count": 58,
          "metadata": {},
          "output_type": "execute_result"
        }
      ],
      "source": [
        "import gdown\n",
        "train_df_url='https://drive.google.com/uc?id=19A4jIhGTs_ekC-Fb4uc7gz4YrRSpnQoR'\n",
        "train_df_url_path='traindf.tsv'\n",
        "valid_df_url='https://drive.google.com/uc?id=1U5KhxPQbndN4pyqI8Kiea1W1Rivp4yj7'\n",
        "valid_df_url_path='validdf.tsv'\n",
        "gdown.download(train_df_url, train_df_url_path, quiet=False)\n",
        "gdown.download(valid_df_url, valid_df_url_path, quiet=False)"
      ]
    },
    {
      "cell_type": "code",
      "execution_count": null,
      "metadata": {},
      "outputs": [
        {
          "data": {
            "text/html": [
              "<div>\n",
              "<style scoped>\n",
              "    .dataframe tbody tr th:only-of-type {\n",
              "        vertical-align: middle;\n",
              "    }\n",
              "\n",
              "    .dataframe tbody tr th {\n",
              "        vertical-align: top;\n",
              "    }\n",
              "\n",
              "    .dataframe thead th {\n",
              "        text-align: right;\n",
              "    }\n",
              "</style>\n",
              "<table border=\"1\" class=\"dataframe\">\n",
              "  <thead>\n",
              "    <tr style=\"text-align: right;\">\n",
              "      <th></th>\n",
              "      <th>tweet</th>\n",
              "      <th>label</th>\n",
              "    </tr>\n",
              "  </thead>\n",
              "  <tbody>\n",
              "    <tr>\n",
              "      <th>2320</th>\n",
              "      <td>adu situs judi online</td>\n",
              "      <td>Kementerian Komunikasi dan Informatika</td>\n",
              "    </tr>\n",
              "    <tr>\n",
              "      <th>2806</th>\n",
              "      <td>bpnt tidak cair</td>\n",
              "      <td>Kementerian Sosial</td>\n",
              "    </tr>\n",
              "    <tr>\n",
              "      <th>2153</th>\n",
              "      <td>masalah whatsapp</td>\n",
              "      <td>Kementerian Komunikasi dan Informatika</td>\n",
              "    </tr>\n",
              "    <tr>\n",
              "      <th>3000</th>\n",
              "      <td>blt el nino</td>\n",
              "      <td>Kementerian Sosial</td>\n",
              "    </tr>\n",
              "    <tr>\n",
              "      <th>3602</th>\n",
              "      <td>tipu online mengatasnamakan endorse</td>\n",
              "      <td>Kepolisian Negara Republik Indonesia</td>\n",
              "    </tr>\n",
              "    <tr>\n",
              "      <th>...</th>\n",
              "      <td>...</td>\n",
              "      <td>...</td>\n",
              "    </tr>\n",
              "    <tr>\n",
              "      <th>1135</th>\n",
              "      <td>terang jalan komplek perum mati</td>\n",
              "      <td>Divisi Pemasaran dan Pelayanan Pelanggan</td>\n",
              "    </tr>\n",
              "    <tr>\n",
              "      <th>1300</th>\n",
              "      <td>air pdam tidak lancar</td>\n",
              "      <td>Divisi Pemasaran dan Pelayanan Pelanggan</td>\n",
              "    </tr>\n",
              "    <tr>\n",
              "      <th>864</th>\n",
              "      <td>bus akap jakarta-bandung langgar atur</td>\n",
              "      <td>Direktorat Jenderal Perhubungan Darat</td>\n",
              "    </tr>\n",
              "    <tr>\n",
              "      <th>4073</th>\n",
              "      <td>dosen pindah homebase</td>\n",
              "      <td>Kementerian Pendidikan, Kebudayaan, Riset, dan...</td>\n",
              "    </tr>\n",
              "    <tr>\n",
              "      <th>3739</th>\n",
              "      <td>aplikasi neo feeder tidak bisa laku sinkronisa...</td>\n",
              "      <td>Kementerian Pendidikan, Kebudayaan, Riset, dan...</td>\n",
              "    </tr>\n",
              "  </tbody>\n",
              "</table>\n",
              "<p>2933 rows × 2 columns</p>\n",
              "</div>"
            ],
            "text/plain": [
              "                                                  tweet  \\\n",
              "2320                              adu situs judi online   \n",
              "2806                                    bpnt tidak cair   \n",
              "2153                                   masalah whatsapp   \n",
              "3000                                        blt el nino   \n",
              "3602                tipu online mengatasnamakan endorse   \n",
              "...                                                 ...   \n",
              "1135                    terang jalan komplek perum mati   \n",
              "1300                              air pdam tidak lancar   \n",
              "864               bus akap jakarta-bandung langgar atur   \n",
              "4073                              dosen pindah homebase   \n",
              "3739  aplikasi neo feeder tidak bisa laku sinkronisa...   \n",
              "\n",
              "                                                  label  \n",
              "2320             Kementerian Komunikasi dan Informatika  \n",
              "2806                                 Kementerian Sosial  \n",
              "2153             Kementerian Komunikasi dan Informatika  \n",
              "3000                                 Kementerian Sosial  \n",
              "3602               Kepolisian Negara Republik Indonesia  \n",
              "...                                                 ...  \n",
              "1135           Divisi Pemasaran dan Pelayanan Pelanggan  \n",
              "1300           Divisi Pemasaran dan Pelayanan Pelanggan  \n",
              "864               Direktorat Jenderal Perhubungan Darat  \n",
              "4073  Kementerian Pendidikan, Kebudayaan, Riset, dan...  \n",
              "3739  Kementerian Pendidikan, Kebudayaan, Riset, dan...  \n",
              "\n",
              "[2933 rows x 2 columns]"
            ]
          },
          "execution_count": 62,
          "metadata": {},
          "output_type": "execute_result"
        }
      ],
      "source": [
        "train_df"
      ]
    },
    {
      "cell_type": "code",
      "execution_count": 2,
      "metadata": {
        "execution": {
          "iopub.execute_input": "2023-09-08T13:08:19.616406Z",
          "iopub.status.busy": "2023-09-08T13:08:19.615615Z",
          "iopub.status.idle": "2023-09-08T13:08:19.642398Z",
          "shell.execute_reply": "2023-09-08T13:08:19.641468Z",
          "shell.execute_reply.started": "2023-09-08T13:08:19.616368Z"
        },
        "id": "yF1Pj6rMMWI4",
        "trusted": true
      },
      "outputs": [],
      "source": [
        "\n",
        "train_df=pd.read_csv('train.tsv',sep='\\t',header=None)      \n",
        "test_df=pd.read_csv('valid.tsv',sep='\\t',header=None)"
      ]
    },
    {
      "cell_type": "code",
      "execution_count": null,
      "metadata": {
        "execution": {
          "iopub.execute_input": "2023-09-08T13:01:02.544446Z",
          "iopub.status.busy": "2023-09-08T13:01:02.544080Z",
          "iopub.status.idle": "2023-09-08T13:01:02.555364Z",
          "shell.execute_reply": "2023-09-08T13:01:02.554278Z",
          "shell.execute_reply.started": "2023-09-08T13:01:02.544415Z"
        },
        "id": "_X0QQ2G8MWI9",
        "outputId": "2b8a01b6-d8a2-4d74-d3c5-1a9618ca584e",
        "trusted": true
      },
      "outputs": [
        {
          "data": {
            "text/plain": [
              "Kementerian Sosial                                          498\n",
              "Divisi Pemasaran dan Pelayanan Pelanggan                    494\n",
              "Kementerian Pendidikan, Kebudayaan, Riset, dan Teknologi    491\n",
              "Kepolisian Negara Republik Indonesia                        487\n",
              "Direktorat Jenderal Perhubungan Darat                       476\n",
              "Kementerian Komunikasi dan Informatika                      253\n",
              "Direktorat Jenderal Tenaga Kesehatan                        234\n",
              "Name: 1, dtype: int64"
            ]
          },
          "execution_count": 71,
          "metadata": {},
          "output_type": "execute_result"
        }
      ],
      "source": [
        "train_df[1].value_counts()"
      ]
    },
    {
      "cell_type": "code",
      "execution_count": null,
      "metadata": {},
      "outputs": [
        {
          "data": {
            "text/html": [
              "<div>\n",
              "<style scoped>\n",
              "    .dataframe tbody tr th:only-of-type {\n",
              "        vertical-align: middle;\n",
              "    }\n",
              "\n",
              "    .dataframe tbody tr th {\n",
              "        vertical-align: top;\n",
              "    }\n",
              "\n",
              "    .dataframe thead th {\n",
              "        text-align: right;\n",
              "    }\n",
              "</style>\n",
              "<table border=\"1\" class=\"dataframe\">\n",
              "  <thead>\n",
              "    <tr style=\"text-align: right;\">\n",
              "      <th></th>\n",
              "      <th>0</th>\n",
              "      <th>1</th>\n",
              "    </tr>\n",
              "  </thead>\n",
              "  <tbody>\n",
              "    <tr>\n",
              "      <th>0</th>\n",
              "      <td>tidak bisa log akun cek bansos</td>\n",
              "      <td>Kementerian Sosial</td>\n",
              "    </tr>\n",
              "    <tr>\n",
              "      <th>1</th>\n",
              "      <td>pindah homebase dosen</td>\n",
              "      <td>Kementerian Pendidikan, Kebudayaan, Riset, dan...</td>\n",
              "    </tr>\n",
              "    <tr>\n",
              "      <th>2</th>\n",
              "      <td>wisuda ilegal salah satu guru tinggi ntt nama ...</td>\n",
              "      <td>Kementerian Pendidikan, Kebudayaan, Riset, dan...</td>\n",
              "    </tr>\n",
              "    <tr>\n",
              "      <th>3</th>\n",
              "      <td>kabel listrik juntai rendah</td>\n",
              "      <td>Divisi Pemasaran dan Pelayanan Pelanggan</td>\n",
              "    </tr>\n",
              "    <tr>\n",
              "      <th>4</th>\n",
              "      <td>tipu kedok pinjam online</td>\n",
              "      <td>Kepolisian Negara Republik Indonesia</td>\n",
              "    </tr>\n",
              "    <tr>\n",
              "      <th>...</th>\n",
              "      <td>...</td>\n",
              "      <td>...</td>\n",
              "    </tr>\n",
              "    <tr>\n",
              "      <th>729</th>\n",
              "      <td>tipu pinjam online</td>\n",
              "      <td>Kepolisian Negara Republik Indonesia</td>\n",
              "    </tr>\n",
              "    <tr>\n",
              "      <th>730</th>\n",
              "      <td>adu bantu</td>\n",
              "      <td>Kementerian Sosial</td>\n",
              "    </tr>\n",
              "    <tr>\n",
              "      <th>731</th>\n",
              "      <td>polisi jasa raharja tidak mau buat lapor celak...</td>\n",
              "      <td>Direktorat Jenderal Perhubungan Darat</td>\n",
              "    </tr>\n",
              "    <tr>\n",
              "      <th>732</th>\n",
              "      <td>tipu online</td>\n",
              "      <td>Kepolisian Negara Republik Indonesia</td>\n",
              "    </tr>\n",
              "    <tr>\n",
              "      <th>733</th>\n",
              "      <td>lapor str panjang sipb</td>\n",
              "      <td>Direktorat Jenderal Tenaga Kesehatan</td>\n",
              "    </tr>\n",
              "  </tbody>\n",
              "</table>\n",
              "<p>734 rows × 2 columns</p>\n",
              "</div>"
            ],
            "text/plain": [
              "                                                     0  \\\n",
              "0                       tidak bisa log akun cek bansos   \n",
              "1                                pindah homebase dosen   \n",
              "2    wisuda ilegal salah satu guru tinggi ntt nama ...   \n",
              "3                          kabel listrik juntai rendah   \n",
              "4                             tipu kedok pinjam online   \n",
              "..                                                 ...   \n",
              "729                                 tipu pinjam online   \n",
              "730                                          adu bantu   \n",
              "731  polisi jasa raharja tidak mau buat lapor celak...   \n",
              "732                                        tipu online   \n",
              "733                             lapor str panjang sipb   \n",
              "\n",
              "                                                     1  \n",
              "0                                   Kementerian Sosial  \n",
              "1    Kementerian Pendidikan, Kebudayaan, Riset, dan...  \n",
              "2    Kementerian Pendidikan, Kebudayaan, Riset, dan...  \n",
              "3             Divisi Pemasaran dan Pelayanan Pelanggan  \n",
              "4                 Kepolisian Negara Republik Indonesia  \n",
              "..                                                 ...  \n",
              "729               Kepolisian Negara Republik Indonesia  \n",
              "730                                 Kementerian Sosial  \n",
              "731              Direktorat Jenderal Perhubungan Darat  \n",
              "732               Kepolisian Negara Republik Indonesia  \n",
              "733               Direktorat Jenderal Tenaga Kesehatan  \n",
              "\n",
              "[734 rows x 2 columns]"
            ]
          },
          "execution_count": 69,
          "metadata": {},
          "output_type": "execute_result"
        }
      ],
      "source": [
        "test_df"
      ]
    },
    {
      "cell_type": "markdown",
      "metadata": {
        "id": "_nwpqrFqMWI9"
      },
      "source": [
        "## Load Data Using DataLoader"
      ]
    },
    {
      "cell_type": "code",
      "execution_count": 3,
      "metadata": {
        "colab": {
          "base_uri": "https://localhost:8080/",
          "height": 145,
          "referenced_widgets": [
            "cacc0be4012344358e69522280cea675",
            "8a4e7b07045e4992915ad7cb826b2419",
            "08975a495f214c1387f2a36b43fe5525",
            "324e3503a15f4a8c9bb4a3995ebbc003",
            "82ded40066d9441399fbec115222bb1b",
            "96129e77dc0c476b8e41476863c3418f",
            "0d0aa8a0c93b403fb07686294588ebfe",
            "d272fa5c66894ebd86758707fcab6f4b",
            "0f2d30beb6a64af48bd413e6ad2457ed",
            "14b469c49a824d298b9849a8bcf7ffe6",
            "af5f507659e3415e92534ba94b547a4f",
            "35812bcae8d14725abbcda27c4c894ec",
            "d34adbf8c5514ed6b82b32ab0957d144",
            "9375709bfb1f4eae99bed770f423ac83",
            "69ac1cedcaa34b96bd7b78d3d90fcd3d",
            "13753ac6e872487e8faa15a39d76d950",
            "a7a69a63902940af8ffa414608c9c94a",
            "b38a73ae5ee74614bf5ce5fe72744b24",
            "d08ace5b11324f83ab3a25abf5820af1",
            "8b45b82014104d5892124a41401ed2ab",
            "97522ec6ae3c4c27a8bb2ad5089f32f9",
            "b6f293cec1ac4245836ef3085b6db41b",
            "5e4fa712064348a5989066127d953625",
            "2c75b55c89c94af3b32fb5df251e461a",
            "9387f4695cd84d7586b2d1e9e499d1ce",
            "f3cc503d6bf84635a95cf7b1ca5201ef",
            "27bf7418e164465a8dd37f9dbb74702b",
            "8944fa1916e74faf9f1db2ec1b579058",
            "cbb96aed3d70479e8ac0c46717e92d87",
            "2e2e5b0affe745df8c0bd68838e84d3a",
            "bf8c8b79e5d54c65b8162f22d95e376d",
            "fbf501130116434495d9c20b14e7d319",
            "48db847607104d1cb82d9f9ee05cf23a",
            "d900130263ea46989d69a1c1060534df",
            "bfcaa76597b94c2588f0cbf12f2222e6",
            "bb3dd85d2c184d169b471d592ce25950",
            "4e09ccd9fe7e4b788d6fe19872626689",
            "dfabdcbc4c224d8ab9ccf644cb432584",
            "34b0b12bc00e4512b8b4458a6e427f58",
            "a52ec15c3f9140b99083f0343d02edd2",
            "480db6b365b34a9bac6c35fa34a86913",
            "48ca9c300d79403a9e40d0b38ad9d386",
            "b31f107009f641b4a244da708c866467",
            "2dc8de283a294a608a30defa16c495a1",
            "a5af1c96310a44bb8745da253c1e1670",
            "16c4c2cb03f84c789026f8dbc639f6e0",
            "22cef3971c834d91b2af09a0740a5903",
            "7929d4bcd76e490e8f9bec480154b6f4"
          ]
        },
        "execution": {
          "iopub.execute_input": "2023-09-08T13:08:19.645005Z",
          "iopub.status.busy": "2023-09-08T13:08:19.644618Z",
          "iopub.status.idle": "2023-09-08T13:08:23.787553Z",
          "shell.execute_reply": "2023-09-08T13:08:23.786537Z",
          "shell.execute_reply.started": "2023-09-08T13:08:19.644972Z"
        },
        "id": "Kkc9PYELDnBY",
        "outputId": "f64ad767-7431-43f8-d05f-c6957b3bed87",
        "trusted": true
      },
      "outputs": [
        {
          "name": "stderr",
          "output_type": "stream",
          "text": [
            "c:\\Lomba\\UNITY UNY\\Data Mining\\.conda\\lib\\site-packages\\tqdm\\auto.py:21: TqdmWarning: IProgress not found. Please update jupyter and ipywidgets. See https://ipywidgets.readthedocs.io/en/stable/user_install.html\n",
            "  from .autonotebook import tqdm as notebook_tqdm\n"
          ]
        }
      ],
      "source": [
        "import torch\n",
        "from torch.utils.data import DataLoader, Dataset\n",
        "from transformers import AutoTokenizer, AutoModel\n",
        "import torch\n",
        "from sklearn.metrics import accuracy_score, f1_score\n",
        "\n",
        "\n",
        "# Define a custom dataset class\n",
        "class CustomDataset(Dataset):\n",
        "    def __init__(self, file_path):\n",
        "        self.data, self.labels = self.load_data(file_path)\n",
        "        self.tokenizer = AutoTokenizer.from_pretrained(\"indolem/indobertweet-base-uncased\")\n",
        "\n",
        "    def __len__(self):\n",
        "        return len(self.data)\n",
        "\n",
        "    def __getitem__(self, idx):\n",
        "        text = self.data[idx]\n",
        "        label = self.labels[idx]\n",
        "        encoding = self.tokenizer.encode_plus(\n",
        "            text,\n",
        "            padding=\"max_length\",\n",
        "            truncation=True,\n",
        "            max_length=512,\n",
        "            return_tensors=\"pt\"\n",
        "        )\n",
        "        input_ids = encoding[\"input_ids\"].squeeze()\n",
        "        attention_mask = encoding[\"attention_mask\"].squeeze()\n",
        "\n",
        "        return {\n",
        "            \"input_ids\": input_ids,\n",
        "            \"attention_mask\": attention_mask,\n",
        "            \"labels\": label\n",
        "        }\n",
        "\n",
        "    def load_data(self, file_path):\n",
        "        data = []\n",
        "        labels = []\n",
        "        label_mapping = {\"Kementerian Sosial\": 1, \"Divisi Pemasaran dan Pelayanan Pelanggan\": 2, \"Kementerian Pendidikan, Kebudayaan, Riset, dan Teknologi\": 3,'Kepolisian Negara Republik Indonesia':4,'Direktorat Jenderal Perhubungan Darat':5, 'Kementerian Komunikasi dan Informatika' : 6, 'Direktorat Jenderal Tenaga Kesehatan' :7}  # Define your label mapping here\n",
        "        with open(file_path, \"r\", encoding=\"utf-8\") as file:\n",
        "            lines = file.readlines()\n",
        "            for line in lines:\n",
        "                parts = line.strip().split(\"\\t\")\n",
        "\n",
        "                if len(parts) == 2:\n",
        "                    text, label = parts\n",
        "                    data.append(text)\n",
        "                    labels.append(label_mapping[label])\n",
        "        return data, labels\n",
        "\n",
        "\n",
        "\n",
        "# Define the paths to your datasets\n",
        "train_dataset_path = 'train.tsv'\n",
        "valid_dataset_path = 'valid.tsv'\n",
        "\n",
        "\n",
        "# Instantiate the custom datasets\n",
        "train_dataset = CustomDataset(train_dataset_path)\n",
        "valid_dataset = CustomDataset(valid_dataset_path)\n",
        "\n",
        "# Define the data loaders\n",
        "batch_size = 4 # Adjust the batch size as needed\n",
        "train_loader = DataLoader(train_dataset, batch_size=batch_size, shuffle=True)\n",
        "valid_loader = DataLoader(valid_dataset, batch_size=batch_size)\n",
        "\n"
      ]
    },
    {
      "cell_type": "code",
      "execution_count": null,
      "metadata": {},
      "outputs": [
        {
          "name": "stdout",
          "output_type": "stream",
          "text": [
            "{'input_ids': tensor([[    3,  5118, 12159,  ...,     0,     0,     0],\n",
            "        [    3, 26054,  1520,  ...,     0,     0,     0],\n",
            "        [    3,  7119,  2385,  ...,     0,     0,     0],\n",
            "        ...,\n",
            "        [    3,  1911, 16829,  ...,     0,     0,     0],\n",
            "        [    3, 19293,  5737,  ...,     0,     0,     0],\n",
            "        [    3,  3592,  2540,  ...,     0,     0,     0]]), 'attention_mask': tensor([[1, 1, 1,  ..., 0, 0, 0],\n",
            "        [1, 1, 1,  ..., 0, 0, 0],\n",
            "        [1, 1, 1,  ..., 0, 0, 0],\n",
            "        ...,\n",
            "        [1, 1, 1,  ..., 0, 0, 0],\n",
            "        [1, 1, 1,  ..., 0, 0, 0],\n",
            "        [1, 1, 1,  ..., 0, 0, 0]]), 'labels': tensor([3, 4, 3, 2, 1, 3, 4, 2, 3, 5, 2, 7, 2, 3, 4, 4])}\n"
          ]
        }
      ],
      "source": [
        "for i in train_loader :\n",
        "    print(i)\n",
        "    break"
      ]
    },
    {
      "cell_type": "code",
      "execution_count": 4,
      "metadata": {
        "colab": {
          "base_uri": "https://localhost:8080/",
          "height": 49,
          "referenced_widgets": [
            "c6f7a18c98724e8ea4cfdeaf07c6ff4c",
            "4450716dad90472c8f51b07d7ec5aecf",
            "6e8a8d9f2b574c3986aa43f3aa013009",
            "df7fbc8cebc64ed3aa52b3ab20d5e7fc",
            "ace6993e3bda4fd7b65257657d34d94f",
            "87943d0829c84b02bb57c31cfd81596d",
            "ad23a06bb41843269fc31ddbfe3d6b09",
            "5fc132e271a5412da5ebd7c3bf7db8c6",
            "16ed92aabf8247ea8b8d753893e15349",
            "c20583b17f9449a3b4d968d543ae5c78",
            "01b404e5fbaf48e68f9305b5567fa1a1",
            "5b104ec26c5646068e9c12b7925e47e4",
            "985e209b03be4bad9f93cd5c3f93e73e",
            "6b9622d8ff6a41f7be59ae638a784a57",
            "e225aa84519c4675b5985887888b7893",
            "ca0ce8884ec747b7bbad011706757f06"
          ]
        },
        "execution": {
          "iopub.execute_input": "2023-09-09T14:21:32.273235Z",
          "iopub.status.busy": "2023-09-09T14:21:32.272798Z",
          "iopub.status.idle": "2023-09-09T14:21:55.298884Z",
          "shell.execute_reply": "2023-09-09T14:21:55.297517Z",
          "shell.execute_reply.started": "2023-09-09T14:21:32.273199Z"
        },
        "id": "BqSfOxz7GRWh",
        "outputId": "9554eebe-1e40-4c98-9ddd-448728cd395f",
        "trusted": true
      },
      "outputs": [],
      "source": [
        "from transformers import AutoTokenizer, AutoModel\n",
        "tokenizer2 = AutoTokenizer.from_pretrained(\"indolem/indobertweet-base-uncased\")\n",
        "model2 = AutoModel.from_pretrained(\"indolem/indobertweet-base-uncased\")"
      ]
    },
    {
      "cell_type": "markdown",
      "metadata": {
        "id": "FTRVPfQiMWI-"
      },
      "source": [
        "## Training"
      ]
    },
    {
      "cell_type": "code",
      "execution_count": 5,
      "metadata": {
        "colab": {
          "base_uri": "https://localhost:8080/"
        },
        "execution": {
          "iopub.execute_input": "2023-09-08T13:08:39.371392Z",
          "iopub.status.busy": "2023-09-08T13:08:39.368967Z",
          "iopub.status.idle": "2023-09-08T14:45:24.650160Z",
          "shell.execute_reply": "2023-09-08T14:45:24.648916Z",
          "shell.execute_reply.started": "2023-09-08T13:08:39.371354Z"
        },
        "id": "SAdDFAq4FmXk",
        "outputId": "d77ad9a1-5473-49ac-f105-af3e5b2ef4b2",
        "trusted": true
      },
      "outputs": [
        {
          "name": "stderr",
          "output_type": "stream",
          "text": [
            "Epoch 1/15 - Training: 100%|██████████| 733/733 [03:40<00:00,  3.33it/s]\n"
          ]
        },
        {
          "name": "stdout",
          "output_type": "stream",
          "text": [
            "Epoch 1/15 - Training Loss: 3.4415096528980613\n",
            "Epoch 1/15 - Training Accuracy: 0.3673608740184363\n",
            "Epoch 1/15 - Training F1 Score: 0.39702246832567073\n",
            "Epoch 1/15 - Training Error: 0.6326391259815637\n"
          ]
        },
        {
          "name": "stderr",
          "output_type": "stream",
          "text": [
            "Epoch 1/15 - Validation: 100%|██████████| 183/183 [00:23<00:00,  7.89it/s]\n"
          ]
        },
        {
          "name": "stdout",
          "output_type": "stream",
          "text": [
            "Epoch 1/15 - Validation Loss: 1.029469174154795\n",
            "Epoch 1/15 - Validation Accuracy: 0.6939890710382514\n",
            "Epoch 1/15 - Validation F1 Score: 0.6584978710207277\n",
            "Epoch 1/15 - Validation Error: 0.30601092896174864\n"
          ]
        },
        {
          "name": "stderr",
          "output_type": "stream",
          "text": [
            "Epoch 2/15 - Training: 100%|██████████| 733/733 [04:58<00:00,  2.46it/s]\n"
          ]
        },
        {
          "name": "stdout",
          "output_type": "stream",
          "text": [
            "Epoch 2/15 - Training Loss: 1.3127231595537143\n",
            "Epoch 2/15 - Training Accuracy: 0.697507681802663\n",
            "Epoch 2/15 - Training F1 Score: 0.6943788083305832\n",
            "Epoch 2/15 - Training Error: 0.302492318197337\n"
          ]
        },
        {
          "name": "stderr",
          "output_type": "stream",
          "text": [
            "Epoch 2/15 - Validation: 100%|██████████| 183/183 [00:39<00:00,  4.65it/s]\n"
          ]
        },
        {
          "name": "stdout",
          "output_type": "stream",
          "text": [
            "Epoch 2/15 - Validation Loss: 0.6236694784977478\n",
            "Epoch 2/15 - Validation Accuracy: 0.7937158469945356\n",
            "Epoch 2/15 - Validation F1 Score: 0.78853880607782\n",
            "Epoch 2/15 - Validation Error: 0.20628415300546443\n"
          ]
        },
        {
          "name": "stderr",
          "output_type": "stream",
          "text": [
            "Epoch 3/15 - Training: 100%|██████████| 733/733 [06:18<00:00,  1.94it/s]\n"
          ]
        },
        {
          "name": "stdout",
          "output_type": "stream",
          "text": [
            "Epoch 3/15 - Training Loss: 1.0421126407582573\n",
            "Epoch 3/15 - Training Accuracy: 0.7575964493001024\n",
            "Epoch 3/15 - Training F1 Score: 0.7584945597323405\n",
            "Epoch 3/15 - Training Error: 0.2424035506998976\n"
          ]
        },
        {
          "name": "stderr",
          "output_type": "stream",
          "text": [
            "Epoch 3/15 - Validation: 100%|██████████| 183/183 [00:36<00:00,  5.05it/s]\n"
          ]
        },
        {
          "name": "stdout",
          "output_type": "stream",
          "text": [
            "Epoch 3/15 - Validation Loss: 0.5838193438153286\n",
            "Epoch 3/15 - Validation Accuracy: 0.8292349726775956\n",
            "Epoch 3/15 - Validation F1 Score: 0.8259906033418075\n",
            "Epoch 3/15 - Validation Error: 0.1707650273224044\n"
          ]
        },
        {
          "name": "stderr",
          "output_type": "stream",
          "text": [
            "Epoch 4/15 - Training: 100%|██████████| 733/733 [06:18<00:00,  1.94it/s]\n"
          ]
        },
        {
          "name": "stdout",
          "output_type": "stream",
          "text": [
            "Epoch 4/15 - Training Loss: 0.9007314614631429\n",
            "Epoch 4/15 - Training Accuracy: 0.798566063502902\n",
            "Epoch 4/15 - Training F1 Score: 0.7997187403215396\n",
            "Epoch 4/15 - Training Error: 0.20143393649709795\n"
          ]
        },
        {
          "name": "stderr",
          "output_type": "stream",
          "text": [
            "Epoch 4/15 - Validation: 100%|██████████| 183/183 [00:37<00:00,  4.94it/s]\n"
          ]
        },
        {
          "name": "stdout",
          "output_type": "stream",
          "text": [
            "Epoch 4/15 - Validation Loss: 0.5450742132516445\n",
            "Epoch 4/15 - Validation Accuracy: 0.8483606557377049\n",
            "Epoch 4/15 - Validation F1 Score: 0.8463529573722758\n",
            "Epoch 4/15 - Validation Error: 0.15163934426229508\n"
          ]
        },
        {
          "name": "stderr",
          "output_type": "stream",
          "text": [
            "Epoch 5/15 - Training: 100%|██████████| 733/733 [06:19<00:00,  1.93it/s]\n"
          ]
        },
        {
          "name": "stdout",
          "output_type": "stream",
          "text": [
            "Epoch 5/15 - Training Loss: 0.7307606485302561\n",
            "Epoch 5/15 - Training Accuracy: 0.8402185046090817\n",
            "Epoch 5/15 - Training F1 Score: 0.8400910249599468\n",
            "Epoch 5/15 - Training Error: 0.15978149539091835\n"
          ]
        },
        {
          "name": "stderr",
          "output_type": "stream",
          "text": [
            "Epoch 5/15 - Validation: 100%|██████████| 183/183 [00:37<00:00,  4.88it/s]\n"
          ]
        },
        {
          "name": "stdout",
          "output_type": "stream",
          "text": [
            "Epoch 5/15 - Validation Loss: 0.5426232119032329\n",
            "Epoch 5/15 - Validation Accuracy: 0.8620218579234973\n",
            "Epoch 5/15 - Validation F1 Score: 0.8602785382067228\n",
            "Epoch 5/15 - Validation Error: 0.13797814207650272\n"
          ]
        },
        {
          "name": "stderr",
          "output_type": "stream",
          "text": [
            "Epoch 6/15 - Training: 100%|██████████| 733/733 [06:21<00:00,  1.92it/s]\n"
          ]
        },
        {
          "name": "stdout",
          "output_type": "stream",
          "text": [
            "Epoch 6/15 - Training Loss: 0.6168809362797074\n",
            "Epoch 6/15 - Training Accuracy: 0.8528508023216115\n",
            "Epoch 6/15 - Training F1 Score: 0.8539154857245427\n",
            "Epoch 6/15 - Training Error: 0.14714919767838852\n"
          ]
        },
        {
          "name": "stderr",
          "output_type": "stream",
          "text": [
            "Epoch 6/15 - Validation: 100%|██████████| 183/183 [00:37<00:00,  4.93it/s]\n"
          ]
        },
        {
          "name": "stdout",
          "output_type": "stream",
          "text": [
            "Epoch 6/15 - Validation Loss: 0.5506329437542218\n",
            "Epoch 6/15 - Validation Accuracy: 0.8647540983606558\n",
            "Epoch 6/15 - Validation F1 Score: 0.8647222226289429\n",
            "Epoch 6/15 - Validation Error: 0.13524590163934425\n"
          ]
        },
        {
          "name": "stderr",
          "output_type": "stream",
          "text": [
            "Epoch 7/15 - Training: 100%|██████████| 733/733 [06:20<00:00,  1.93it/s]\n"
          ]
        },
        {
          "name": "stdout",
          "output_type": "stream",
          "text": [
            "Epoch 7/15 - Training Loss: 0.5516745378252177\n",
            "Epoch 7/15 - Training Accuracy: 0.8747012632297713\n",
            "Epoch 7/15 - Training F1 Score: 0.8748312652778736\n",
            "Epoch 7/15 - Training Error: 0.12529873677022874\n"
          ]
        },
        {
          "name": "stderr",
          "output_type": "stream",
          "text": [
            "Epoch 7/15 - Validation: 100%|██████████| 183/183 [00:37<00:00,  4.91it/s]\n"
          ]
        },
        {
          "name": "stdout",
          "output_type": "stream",
          "text": [
            "Epoch 7/15 - Validation Loss: 0.5664328345559764\n",
            "Epoch 7/15 - Validation Accuracy: 0.8620218579234973\n",
            "Epoch 7/15 - Validation F1 Score: 0.8611877920541138\n",
            "Epoch 7/15 - Validation Error: 0.13797814207650272\n"
          ]
        },
        {
          "name": "stderr",
          "output_type": "stream",
          "text": [
            "Epoch 8/15 - Training: 100%|██████████| 733/733 [06:21<00:00,  1.92it/s]\n"
          ]
        },
        {
          "name": "stdout",
          "output_type": "stream",
          "text": [
            "Epoch 8/15 - Training Loss: 0.4722000293191942\n",
            "Epoch 8/15 - Training Accuracy: 0.8890406282007511\n",
            "Epoch 8/15 - Training F1 Score: 0.8902960910936657\n",
            "Epoch 8/15 - Training Error: 0.11095937179924886\n"
          ]
        },
        {
          "name": "stderr",
          "output_type": "stream",
          "text": [
            "Epoch 8/15 - Validation: 100%|██████████| 183/183 [00:37<00:00,  4.86it/s]\n"
          ]
        },
        {
          "name": "stdout",
          "output_type": "stream",
          "text": [
            "Epoch 8/15 - Validation Loss: 0.5586177173572452\n",
            "Epoch 8/15 - Validation Accuracy: 0.8743169398907104\n",
            "Epoch 8/15 - Validation F1 Score: 0.8732152577660647\n",
            "Epoch 8/15 - Validation Error: 0.12568306010928965\n"
          ]
        },
        {
          "name": "stderr",
          "output_type": "stream",
          "text": [
            "Epoch 9/15 - Training: 100%|██████████| 733/733 [06:21<00:00,  1.92it/s]\n"
          ]
        },
        {
          "name": "stdout",
          "output_type": "stream",
          "text": [
            "Epoch 9/15 - Training Loss: 0.42049815629567316\n",
            "Epoch 9/15 - Training Accuracy: 0.899965858654831\n",
            "Epoch 9/15 - Training F1 Score: 0.9001183972264092\n",
            "Epoch 9/15 - Training Error: 0.10003414134516897\n"
          ]
        },
        {
          "name": "stderr",
          "output_type": "stream",
          "text": [
            "Epoch 9/15 - Validation: 100%|██████████| 183/183 [00:43<00:00,  4.17it/s]\n"
          ]
        },
        {
          "name": "stdout",
          "output_type": "stream",
          "text": [
            "Epoch 9/15 - Validation Loss: 0.5692455921387074\n",
            "Epoch 9/15 - Validation Accuracy: 0.8715846994535519\n",
            "Epoch 9/15 - Validation F1 Score: 0.8711840768365815\n",
            "Epoch 9/15 - Validation Error: 0.12841530054644812\n"
          ]
        },
        {
          "name": "stderr",
          "output_type": "stream",
          "text": [
            "Epoch 10/15 - Training: 100%|██████████| 733/733 [06:24<00:00,  1.91it/s]\n"
          ]
        },
        {
          "name": "stdout",
          "output_type": "stream",
          "text": [
            "Epoch 10/15 - Training Loss: 0.3828767000676192\n",
            "Epoch 10/15 - Training Accuracy: 0.9136223967224308\n",
            "Epoch 10/15 - Training F1 Score: 0.9146714106542625\n",
            "Epoch 10/15 - Training Error: 0.08637760327756916\n"
          ]
        },
        {
          "name": "stderr",
          "output_type": "stream",
          "text": [
            "Epoch 10/15 - Validation: 100%|██████████| 183/183 [00:36<00:00,  4.98it/s]\n"
          ]
        },
        {
          "name": "stdout",
          "output_type": "stream",
          "text": [
            "Epoch 10/15 - Validation Loss: 0.5563716361448414\n",
            "Epoch 10/15 - Validation Accuracy: 0.8743169398907104\n",
            "Epoch 10/15 - Validation F1 Score: 0.8738383092651992\n",
            "Epoch 10/15 - Validation Error: 0.12568306010928965\n"
          ]
        },
        {
          "name": "stderr",
          "output_type": "stream",
          "text": [
            "Epoch 11/15 - Training: 100%|██████████| 733/733 [06:19<00:00,  1.93it/s]\n"
          ]
        },
        {
          "name": "stdout",
          "output_type": "stream",
          "text": [
            "Epoch 11/15 - Training Loss: 0.32051129162195297\n",
            "Epoch 11/15 - Training Accuracy: 0.9279617616934107\n",
            "Epoch 11/15 - Training F1 Score: 0.9288374506635568\n",
            "Epoch 11/15 - Training Error: 0.07203823830658929\n"
          ]
        },
        {
          "name": "stderr",
          "output_type": "stream",
          "text": [
            "Epoch 11/15 - Validation: 100%|██████████| 183/183 [00:37<00:00,  4.91it/s]\n"
          ]
        },
        {
          "name": "stdout",
          "output_type": "stream",
          "text": [
            "Epoch 11/15 - Validation Loss: 0.5962129709212585\n",
            "Epoch 11/15 - Validation Accuracy: 0.8879781420765027\n",
            "Epoch 11/15 - Validation F1 Score: 0.8882684506190712\n",
            "Epoch 11/15 - Validation Error: 0.11202185792349728\n"
          ]
        },
        {
          "name": "stderr",
          "output_type": "stream",
          "text": [
            "Epoch 12/15 - Training: 100%|██████████| 733/733 [06:11<00:00,  1.97it/s]\n"
          ]
        },
        {
          "name": "stdout",
          "output_type": "stream",
          "text": [
            "Epoch 12/15 - Training Loss: 0.26787705263708167\n",
            "Epoch 12/15 - Training Accuracy: 0.9388869921474906\n",
            "Epoch 12/15 - Training F1 Score: 0.939755073363492\n",
            "Epoch 12/15 - Training Error: 0.06111300785250939\n"
          ]
        },
        {
          "name": "stderr",
          "output_type": "stream",
          "text": [
            "Epoch 12/15 - Validation: 100%|██████████| 183/183 [00:38<00:00,  4.77it/s]\n"
          ]
        },
        {
          "name": "stdout",
          "output_type": "stream",
          "text": [
            "Epoch 12/15 - Validation Loss: 0.6324368803154377\n",
            "Epoch 12/15 - Validation Accuracy: 0.8825136612021858\n",
            "Epoch 12/15 - Validation F1 Score: 0.8819721859217411\n",
            "Epoch 12/15 - Validation Error: 0.11748633879781423\n"
          ]
        },
        {
          "name": "stderr",
          "output_type": "stream",
          "text": [
            "Epoch 13/15 - Training: 100%|██████████| 733/733 [06:15<00:00,  1.95it/s]\n"
          ]
        },
        {
          "name": "stdout",
          "output_type": "stream",
          "text": [
            "Epoch 13/15 - Training Loss: 0.21616932425498603\n",
            "Epoch 13/15 - Training Accuracy: 0.9576647319904404\n",
            "Epoch 13/15 - Training F1 Score: 0.9583285011609621\n",
            "Epoch 13/15 - Training Error: 0.04233526800955956\n"
          ]
        },
        {
          "name": "stderr",
          "output_type": "stream",
          "text": [
            "Epoch 13/15 - Validation: 100%|██████████| 183/183 [00:36<00:00,  4.95it/s]\n"
          ]
        },
        {
          "name": "stdout",
          "output_type": "stream",
          "text": [
            "Epoch 13/15 - Validation Loss: 0.6296359393510087\n",
            "Epoch 13/15 - Validation Accuracy: 0.889344262295082\n",
            "Epoch 13/15 - Validation F1 Score: 0.889230608665743\n",
            "Epoch 13/15 - Validation Error: 0.11065573770491799\n"
          ]
        },
        {
          "name": "stderr",
          "output_type": "stream",
          "text": [
            "Epoch 14/15 - Training: 100%|██████████| 733/733 [06:12<00:00,  1.97it/s]\n"
          ]
        },
        {
          "name": "stdout",
          "output_type": "stream",
          "text": [
            "Epoch 14/15 - Training Loss: 0.20325762641424866\n",
            "Epoch 14/15 - Training Accuracy: 0.9542505974735405\n",
            "Epoch 14/15 - Training F1 Score: 0.9548306454595092\n",
            "Epoch 14/15 - Training Error: 0.04574940252645954\n"
          ]
        },
        {
          "name": "stderr",
          "output_type": "stream",
          "text": [
            "Epoch 14/15 - Validation: 100%|██████████| 183/183 [00:36<00:00,  5.04it/s]\n"
          ]
        },
        {
          "name": "stdout",
          "output_type": "stream",
          "text": [
            "Epoch 14/15 - Validation Loss: 0.6339818849766962\n",
            "Epoch 14/15 - Validation Accuracy: 0.8879781420765027\n",
            "Epoch 14/15 - Validation F1 Score: 0.8878089834096119\n",
            "Epoch 14/15 - Validation Error: 0.11202185792349728\n"
          ]
        },
        {
          "name": "stderr",
          "output_type": "stream",
          "text": [
            "Epoch 15/15 - Training: 100%|██████████| 733/733 [06:23<00:00,  1.91it/s]\n"
          ]
        },
        {
          "name": "stdout",
          "output_type": "stream",
          "text": [
            "Epoch 15/15 - Training Loss: 0.18326269983803184\n",
            "Epoch 15/15 - Training Accuracy: 0.9617616934107204\n",
            "Epoch 15/15 - Training F1 Score: 0.962403619073531\n",
            "Epoch 15/15 - Training Error: 0.038238306589279625\n"
          ]
        },
        {
          "name": "stderr",
          "output_type": "stream",
          "text": [
            "Epoch 15/15 - Validation: 100%|██████████| 183/183 [00:37<00:00,  4.87it/s]"
          ]
        },
        {
          "name": "stdout",
          "output_type": "stream",
          "text": [
            "Epoch 15/15 - Validation Loss: 0.6805671479629939\n",
            "Epoch 15/15 - Validation Accuracy: 0.8811475409836066\n",
            "Epoch 15/15 - Validation F1 Score: 0.8809292406062299\n",
            "Epoch 15/15 - Validation Error: 0.11885245901639341\n"
          ]
        },
        {
          "name": "stderr",
          "output_type": "stream",
          "text": [
            "\n"
          ]
        }
      ],
      "source": [
        "\n",
        "import torch\n",
        "from torch.utils.data import DataLoader, Dataset\n",
        "from transformers import AutoTokenizer, AutoModel\n",
        "from sklearn.metrics import accuracy_score, f1_score\n",
        "from collections import defaultdict\n",
        "from torch.optim import Adam\n",
        "from torch.nn import CrossEntropyLoss\n",
        "from tqdm import tqdm\n",
        "loss_fn = CrossEntropyLoss()\n",
        "\n",
        "\n",
        "device = torch.device('cuda' if torch.cuda.is_available() else 'cpu')\n",
        "model2.to(device)\n",
        "optimizer = Adam(model2.parameters(), lr=3e-6)  # Define the optimizer\n",
        "\n",
        "num_epochs = 15 # Adjust the number of epochs as needed\n",
        "history2 = defaultdict(list)\n",
        "\n",
        "for epoch in range(num_epochs):\n",
        "    epoch_loss = 0.0\n",
        "    all_predictions = []\n",
        "    all_labels = []\n",
        "    model2.train()\n",
        "\n",
        "    train_loader_tqdm = tqdm(train_loader, desc=f\"Epoch {epoch+1}/{num_epochs} - Training\")\n",
        "\n",
        "    for batch in train_loader_tqdm:\n",
        "        input_ids = batch[\"input_ids\"].to(device)\n",
        "        attention_mask = batch[\"attention_mask\"].to(device)\n",
        "        labels = batch[\"labels\"].to(device)\n",
        "\n",
        "        optimizer.zero_grad()\n",
        "\n",
        "        outputs = model2(input_ids=input_ids, attention_mask=attention_mask)\n",
        "        logits = outputs.last_hidden_state[:, 0, :]\n",
        "\n",
        "        loss = loss_fn(logits,labels)\n",
        "\n",
        "\n",
        "        epoch_loss += loss.item()\n",
        "\n",
        "        loss.backward()\n",
        "        optimizer.step()\n",
        "\n",
        "        predictions = torch.argmax(logits, dim=1).cpu().tolist()\n",
        "        all_predictions.extend(predictions)\n",
        "        all_labels.extend(labels.cpu().tolist())\n",
        "\n",
        "    train_accuracy = accuracy_score(all_labels, all_predictions)\n",
        "    train_f1_score = f1_score(all_labels, all_predictions, average='weighted')\n",
        "    train_error = 1 - train_accuracy\n",
        "\n",
        "    print(f\"Epoch {epoch+1}/{num_epochs} - Training Loss: {epoch_loss / len(train_loader)}\")\n",
        "    print(f\"Epoch {epoch+1}/{num_epochs} - Training Accuracy: {train_accuracy}\")\n",
        "    print(f\"Epoch {epoch+1}/{num_epochs} - Training F1 Score: {train_f1_score}\")\n",
        "    print(f\"Epoch {epoch+1}/{num_epochs} - Training Error: {train_error}\")\n",
        "\n",
        "    if valid_loader:\n",
        "        model2.eval()\n",
        "        validation_loss = 0.0\n",
        "        all_predictions = []\n",
        "        all_labels = []\n",
        "\n",
        "        valid_loader_tqdm = tqdm(valid_loader, desc=f\"Epoch {epoch+1}/{num_epochs} - Validation\")\n",
        "\n",
        "        with torch.no_grad():\n",
        "            for batch in valid_loader_tqdm:\n",
        "                input_ids = batch[\"input_ids\"].to(device)\n",
        "                attention_mask = batch[\"attention_mask\"].to(device)\n",
        "                labels = batch[\"labels\"].to(device)\n",
        "\n",
        "                outputs = model2(input_ids=input_ids, attention_mask=attention_mask)\n",
        "                logits = outputs.last_hidden_state[:, 0, :]\n",
        "\n",
        "                loss = loss_fn(logits,labels)\n",
        "                validation_loss += loss.item()\n",
        "\n",
        "                predictions = torch.argmax(logits, dim=1).cpu().tolist()\n",
        "                all_predictions.extend(predictions)\n",
        "                all_labels.extend(labels.cpu().tolist())\n",
        "\n",
        "        valid_accuracy = accuracy_score(all_labels, all_predictions)\n",
        "        valid_f1_score = f1_score(all_labels, all_predictions, average='weighted')\n",
        "        valid_error = 1 - valid_accuracy\n",
        "\n",
        "        print(f\"Epoch {epoch+1}/{num_epochs} - Validation Loss: {validation_loss / len(valid_loader)}\")\n",
        "        print(f\"Epoch {epoch+1}/{num_epochs} - Validation Accuracy: {valid_accuracy}\")\n",
        "        print(f\"Epoch {epoch+1}/{num_epochs} - Validation F1 Score: {valid_f1_score}\")\n",
        "        print(f\"Epoch {epoch+1}/{num_epochs} - Validation Error: {valid_error}\")\n",
        "\n",
        "    # Store metrics in history2\n",
        "    history2['train_loss'].append(epoch_loss / len(train_loader))\n",
        "    history2['train_accuracy'].append(train_accuracy)\n",
        "    history2['train_f1_score'].append(train_f1_score)\n",
        "    history2['train_error'].append(train_error)\n",
        "    history2['valid_loss'].append(validation_loss / len(valid_loader))\n",
        "    history2['valid_accuracy'].append(valid_accuracy)\n",
        "    history2['valid_f1_score'].append(valid_f1_score)\n",
        "    history2['valid_error'].append(valid_error)\n"
      ]
    },
    {
      "cell_type": "code",
      "execution_count": 20,
      "metadata": {},
      "outputs": [],
      "source": [
        "paths = r\"C:/Lomba/UNITY UNY/Data Mining/results/\"\n",
        "historyname = \"history_judul_laporan_baseline.pkl\"\n",
        "model_name = \"baseline_judul_laporan.pth\"\n",
        "\n",
        "def save_state(model,history,path,model_name,history_name) :\n",
        "    torch.save(model.state_dict(), path+model_name)\n",
        "    with open(path+historyname, 'wb') as f:\n",
        "        pickle.dump(history, f)"
      ]
    },
    {
      "cell_type": "code",
      "execution_count": 21,
      "metadata": {},
      "outputs": [],
      "source": [
        "save_state(model2,history2,paths,model_name,historyname) "
      ]
    },
    {
      "cell_type": "code",
      "execution_count": null,
      "metadata": {
        "execution": {
          "iopub.execute_input": "2023-09-07T15:12:20.999907Z",
          "iopub.status.busy": "2023-09-07T15:12:20.999528Z",
          "iopub.status.idle": "2023-09-07T15:12:21.009581Z",
          "shell.execute_reply": "2023-09-07T15:12:21.008470Z",
          "shell.execute_reply.started": "2023-09-07T15:12:20.999877Z"
        },
        "id": "HkrgaUsOMWI_",
        "outputId": "02952eae-c121-4e37-da41-48db24b517a6",
        "trusted": true
      },
      "outputs": [
        {
          "data": {
            "text/plain": [
              "defaultdict(list,\n",
              "            {'train_loss': [4.089868155809549,\n",
              "              2.079806110606744,\n",
              "              1.7510964133991644,\n",
              "              1.6237933670098965,\n",
              "              1.361299919967468,\n",
              "              1.222501840442419,\n",
              "              1.0995834077923343,\n",
              "              0.9885309957540952,\n",
              "              0.9514225972816348,\n",
              "              0.8947032405636631,\n",
              "              0.8389201891393616,\n",
              "              0.741444841457101,\n",
              "              0.7064142925306581,\n",
              "              0.6039942755148962,\n",
              "              0.563079375666208],\n",
              "             'train_accuracy': [0.2273411623005119,\n",
              "              0.37669376693766937,\n",
              "              0.5103884372177055,\n",
              "              0.5775368864799759,\n",
              "              0.6278229448961157,\n",
              "              0.6648599819331527,\n",
              "              0.694068051791629,\n",
              "              0.7241794640168624,\n",
              "              0.7383318277627221,\n",
              "              0.7557964468533575,\n",
              "              0.7675398976211985,\n",
              "              0.8000602228244504,\n",
              "              0.8054802770249925,\n",
              "              0.8292682926829268,\n",
              "              0.8440228846732912],\n",
              "             'train_f1_score': [0.21253221339939363,\n",
              "              0.3625084507470416,\n",
              "              0.5085454678691268,\n",
              "              0.5787511003576706,\n",
              "              0.6285064618402602,\n",
              "              0.6656833279092309,\n",
              "              0.6947345286967234,\n",
              "              0.7252992676318675,\n",
              "              0.7390868415346309,\n",
              "              0.756319633050308,\n",
              "              0.7687313124227481,\n",
              "              0.8007770290966577,\n",
              "              0.8062659279166005,\n",
              "              0.8299443317620271,\n",
              "              0.8446986674793961],\n",
              "             'train_error': [0.7726588376994881,\n",
              "              0.6233062330623307,\n",
              "              0.48961156278229445,\n",
              "              0.4224631135200241,\n",
              "              0.3721770551038843,\n",
              "              0.33514001806684734,\n",
              "              0.305931948208371,\n",
              "              0.2758205359831376,\n",
              "              0.2616681722372779,\n",
              "              0.24420355314664255,\n",
              "              0.23246010237880155,\n",
              "              0.19993977717554956,\n",
              "              0.19451972297500753,\n",
              "              0.1707317073170732,\n",
              "              0.15597711532670877],\n",
              "             'valid_loss': [1.6723946516330426,\n",
              "              1.291221335530281,\n",
              "              0.9963442356540606,\n",
              "              0.8853324224742559,\n",
              "              0.7936885259472407,\n",
              "              0.7576155871725999,\n",
              "              0.7941653989255428,\n",
              "              0.7723295129835606,\n",
              "              0.845006063580513,\n",
              "              0.7907843469427183,\n",
              "              0.8145827135214438,\n",
              "              0.9643556631814975,\n",
              "              0.8782972212021167,\n",
              "              0.9470122283181319,\n",
              "              0.9778514120441216],\n",
              "             'valid_accuracy': [0.3658243080625752,\n",
              "              0.5379061371841155,\n",
              "              0.6353790613718412,\n",
              "              0.6835138387484958,\n",
              "              0.7220216606498195,\n",
              "              0.7328519855595668,\n",
              "              0.7256317689530686,\n",
              "              0.7424789410348978,\n",
              "              0.7220216606498195,\n",
              "              0.7448856799037304,\n",
              "              0.7545126353790613,\n",
              "              0.7412755716004813,\n",
              "              0.7545126353790613,\n",
              "              0.7557160048134778,\n",
              "              0.7472924187725631],\n",
              "             'valid_f1_score': [0.3229143154509632,\n",
              "              0.5318281249168882,\n",
              "              0.6371953778011434,\n",
              "              0.6837674887123993,\n",
              "              0.7198554344721881,\n",
              "              0.7317688776037049,\n",
              "              0.7283634321334987,\n",
              "              0.7404844540569337,\n",
              "              0.7241442684527949,\n",
              "              0.7462309333678177,\n",
              "              0.7546320412690528,\n",
              "              0.7394322119326661,\n",
              "              0.7547977078976187,\n",
              "              0.7560732145672543,\n",
              "              0.7471614213725559],\n",
              "             'valid_error': [0.6341756919374248,\n",
              "              0.4620938628158845,\n",
              "              0.3646209386281588,\n",
              "              0.3164861612515042,\n",
              "              0.27797833935018046,\n",
              "              0.26714801444043323,\n",
              "              0.2743682310469314,\n",
              "              0.25752105896510225,\n",
              "              0.27797833935018046,\n",
              "              0.25511432009626955,\n",
              "              0.24548736462093868,\n",
              "              0.2587244283995187,\n",
              "              0.24548736462093868,\n",
              "              0.24428399518652222,\n",
              "              0.25270758122743686]})"
            ]
          },
          "execution_count": 32,
          "metadata": {},
          "output_type": "execute_result"
        }
      ],
      "source": [
        "history2"
      ]
    },
    {
      "cell_type": "code",
      "execution_count": null,
      "metadata": {
        "execution": {
          "iopub.execute_input": "2023-09-07T14:16:28.154105Z",
          "iopub.status.busy": "2023-09-07T14:16:28.153704Z",
          "iopub.status.idle": "2023-09-07T14:16:28.172101Z",
          "shell.execute_reply": "2023-09-07T14:16:28.171220Z",
          "shell.execute_reply.started": "2023-09-07T14:16:28.154072Z"
        },
        "id": "9GEzL4SHMWI_",
        "trusted": true
      },
      "outputs": [],
      "source": [
        "\n",
        "train_df=pd.read_csv(train_df_url_path,delimiter='\\t',names=['tweet','label'])\n",
        "test_df=pd.read_csv(valid_df_url_path,delimiter='\\t',names=['tweet','label'])"
      ]
    },
    {
      "cell_type": "code",
      "execution_count": null,
      "metadata": {
        "execution": {
          "iopub.execute_input": "2023-09-07T15:23:47.208229Z",
          "iopub.status.busy": "2023-09-07T15:23:47.207856Z",
          "iopub.status.idle": "2023-09-07T15:23:47.217532Z",
          "shell.execute_reply": "2023-09-07T15:23:47.216538Z",
          "shell.execute_reply.started": "2023-09-07T15:23:47.208200Z"
        },
        "id": "NH63IZ7CMWI_",
        "trusted": true
      },
      "outputs": [],
      "source": [
        "sadness_rows = test_df[test_df['label'] == 'sadness']\n"
      ]
    },
    {
      "cell_type": "code",
      "execution_count": null,
      "metadata": {
        "execution": {
          "iopub.execute_input": "2023-09-08T14:45:31.105449Z",
          "iopub.status.busy": "2023-09-08T14:45:31.105060Z",
          "iopub.status.idle": "2023-09-08T14:45:31.111541Z",
          "shell.execute_reply": "2023-09-08T14:45:31.110417Z",
          "shell.execute_reply.started": "2023-09-08T14:45:31.105419Z"
        },
        "id": "wpjifhOdMWI_",
        "trusted": true
      },
      "outputs": [],
      "source": [
        "# Save the dictionary to a file\n",
        "with open(\"Indobert_final.pickle\", \"wb\") as file:\n",
        "    pickle.dump(history2, file)"
      ]
    },
    {
      "cell_type": "code",
      "execution_count": null,
      "metadata": {
        "execution": {
          "iopub.execute_input": "2023-09-07T15:40:32.830000Z",
          "iopub.status.busy": "2023-09-07T15:40:32.829542Z",
          "iopub.status.idle": "2023-09-07T15:40:32.840421Z",
          "shell.execute_reply": "2023-09-07T15:40:32.839248Z",
          "shell.execute_reply.started": "2023-09-07T15:40:32.829960Z"
        },
        "id": "YypE55VTMWI_",
        "trusted": true
      },
      "outputs": [],
      "source": [
        "with open(\"my_dict.pickle\", \"rb\") as file:\n",
        "    loaded_dict = pickle.load(file)\n",
        "\n",
        "\n"
      ]
    },
    {
      "cell_type": "code",
      "execution_count": null,
      "metadata": {
        "execution": {
          "iopub.execute_input": "2023-09-07T15:40:36.398610Z",
          "iopub.status.busy": "2023-09-07T15:40:36.398246Z",
          "iopub.status.idle": "2023-09-07T15:40:36.407097Z",
          "shell.execute_reply": "2023-09-07T15:40:36.406037Z",
          "shell.execute_reply.started": "2023-09-07T15:40:36.398580Z"
        },
        "id": "DEfEYc86MWI_",
        "outputId": "fdde5f88-95dc-4285-e761-34bce1b69963",
        "trusted": true
      },
      "outputs": [
        {
          "data": {
            "text/plain": [
              "defaultdict(list,\n",
              "            {'train_loss': [4.089868155809549,\n",
              "              2.079806110606744,\n",
              "              1.7510964133991644,\n",
              "              1.6237933670098965,\n",
              "              1.361299919967468,\n",
              "              1.222501840442419,\n",
              "              1.0995834077923343,\n",
              "              0.9885309957540952,\n",
              "              0.9514225972816348,\n",
              "              0.8947032405636631,\n",
              "              0.8389201891393616,\n",
              "              0.741444841457101,\n",
              "              0.7064142925306581,\n",
              "              0.6039942755148962,\n",
              "              0.563079375666208],\n",
              "             'train_accuracy': [0.2273411623005119,\n",
              "              0.37669376693766937,\n",
              "              0.5103884372177055,\n",
              "              0.5775368864799759,\n",
              "              0.6278229448961157,\n",
              "              0.6648599819331527,\n",
              "              0.694068051791629,\n",
              "              0.7241794640168624,\n",
              "              0.7383318277627221,\n",
              "              0.7557964468533575,\n",
              "              0.7675398976211985,\n",
              "              0.8000602228244504,\n",
              "              0.8054802770249925,\n",
              "              0.8292682926829268,\n",
              "              0.8440228846732912],\n",
              "             'train_f1_score': [0.21253221339939363,\n",
              "              0.3625084507470416,\n",
              "              0.5085454678691268,\n",
              "              0.5787511003576706,\n",
              "              0.6285064618402602,\n",
              "              0.6656833279092309,\n",
              "              0.6947345286967234,\n",
              "              0.7252992676318675,\n",
              "              0.7390868415346309,\n",
              "              0.756319633050308,\n",
              "              0.7687313124227481,\n",
              "              0.8007770290966577,\n",
              "              0.8062659279166005,\n",
              "              0.8299443317620271,\n",
              "              0.8446986674793961],\n",
              "             'train_error': [0.7726588376994881,\n",
              "              0.6233062330623307,\n",
              "              0.48961156278229445,\n",
              "              0.4224631135200241,\n",
              "              0.3721770551038843,\n",
              "              0.33514001806684734,\n",
              "              0.305931948208371,\n",
              "              0.2758205359831376,\n",
              "              0.2616681722372779,\n",
              "              0.24420355314664255,\n",
              "              0.23246010237880155,\n",
              "              0.19993977717554956,\n",
              "              0.19451972297500753,\n",
              "              0.1707317073170732,\n",
              "              0.15597711532670877],\n",
              "             'valid_loss': [1.6723946516330426,\n",
              "              1.291221335530281,\n",
              "              0.9963442356540606,\n",
              "              0.8853324224742559,\n",
              "              0.7936885259472407,\n",
              "              0.7576155871725999,\n",
              "              0.7941653989255428,\n",
              "              0.7723295129835606,\n",
              "              0.845006063580513,\n",
              "              0.7907843469427183,\n",
              "              0.8145827135214438,\n",
              "              0.9643556631814975,\n",
              "              0.8782972212021167,\n",
              "              0.9470122283181319,\n",
              "              0.9778514120441216],\n",
              "             'valid_accuracy': [0.3658243080625752,\n",
              "              0.5379061371841155,\n",
              "              0.6353790613718412,\n",
              "              0.6835138387484958,\n",
              "              0.7220216606498195,\n",
              "              0.7328519855595668,\n",
              "              0.7256317689530686,\n",
              "              0.7424789410348978,\n",
              "              0.7220216606498195,\n",
              "              0.7448856799037304,\n",
              "              0.7545126353790613,\n",
              "              0.7412755716004813,\n",
              "              0.7545126353790613,\n",
              "              0.7557160048134778,\n",
              "              0.7472924187725631],\n",
              "             'valid_f1_score': [0.3229143154509632,\n",
              "              0.5318281249168882,\n",
              "              0.6371953778011434,\n",
              "              0.6837674887123993,\n",
              "              0.7198554344721881,\n",
              "              0.7317688776037049,\n",
              "              0.7283634321334987,\n",
              "              0.7404844540569337,\n",
              "              0.7241442684527949,\n",
              "              0.7462309333678177,\n",
              "              0.7546320412690528,\n",
              "              0.7394322119326661,\n",
              "              0.7547977078976187,\n",
              "              0.7560732145672543,\n",
              "              0.7471614213725559],\n",
              "             'valid_error': [0.6341756919374248,\n",
              "              0.4620938628158845,\n",
              "              0.3646209386281588,\n",
              "              0.3164861612515042,\n",
              "              0.27797833935018046,\n",
              "              0.26714801444043323,\n",
              "              0.2743682310469314,\n",
              "              0.25752105896510225,\n",
              "              0.27797833935018046,\n",
              "              0.25511432009626955,\n",
              "              0.24548736462093868,\n",
              "              0.2587244283995187,\n",
              "              0.24548736462093868,\n",
              "              0.24428399518652222,\n",
              "              0.25270758122743686]})"
            ]
          },
          "execution_count": 47,
          "metadata": {},
          "output_type": "execute_result"
        }
      ],
      "source": [
        " loaded_dict"
      ]
    },
    {
      "cell_type": "code",
      "execution_count": null,
      "metadata": {
        "execution": {
          "iopub.execute_input": "2023-09-08T14:47:41.577332Z",
          "iopub.status.busy": "2023-09-08T14:47:41.576940Z",
          "iopub.status.idle": "2023-09-08T14:47:42.864629Z",
          "shell.execute_reply": "2023-09-08T14:47:42.863622Z",
          "shell.execute_reply.started": "2023-09-08T14:47:41.577302Z"
        },
        "id": "8IC19XUbMWJA",
        "trusted": true
      },
      "outputs": [],
      "source": [
        "model2.save_pretrained(\"model_final_indoberttweet_emoji_space\")\n",
        "\n",
        "# Save the history to history2\n",
        "torch.save(history2, \"history_final_indobertweet_emoji_space\")\n",
        "torch.save(model2.state_dict(),'model_final_save_IndoBertTweet_emoji_space_fix.pth')"
      ]
    },
    {
      "cell_type": "code",
      "execution_count": null,
      "metadata": {
        "execution": {
          "iopub.execute_input": "2023-09-08T14:47:45.535465Z",
          "iopub.status.busy": "2023-09-08T14:47:45.535100Z",
          "iopub.status.idle": "2023-09-08T14:48:11.259344Z",
          "shell.execute_reply": "2023-09-08T14:48:11.258319Z",
          "shell.execute_reply.started": "2023-09-08T14:47:45.535435Z"
        },
        "id": "PgB8KstFMWJA",
        "outputId": "5f028498-1468-425d-f9de-ca1647a3d4a7",
        "trusted": true
      },
      "outputs": [
        {
          "name": "stdout",
          "output_type": "stream",
          "text": [
            "ZIP archive 'indoberttweet_final_archive_emoji.zip' created successfully.\n"
          ]
        }
      ],
      "source": [
        "import zipfile\n",
        "\n",
        "# Define the file paths for the model, history, and model weights\n",
        "model_path = \"/kaggle/working/model_final_indoberttweet_emoji_space\"\n",
        "history_path = \"/kaggle/working/history_final_indobertweet_emoji_space\"\n",
        "model_weights_path = \"/kaggle/working/model_final_save_IndoBertTweet_emoji_space_fix.pth\"\n",
        "output_zip_file = \"indoberttweet_final_archive_emoji.zip\"\n",
        "\n",
        "# Create a ZIP archive and add files to it\n",
        "with zipfile.ZipFile(output_zip_file, \"w\", zipfile.ZIP_DEFLATED) as archive:\n",
        "    archive.write(model_path, arcname=\"model_final_indoberttweet_emoji_space\")\n",
        "    archive.write(history_path, arcname=\"history_final_indoberttweet_emoji_space\")\n",
        "    archive.write(model_weights_path, arcname=\"model_final_save_IndoBertTweet_emoji_space_fix.pth\")\n",
        "\n",
        "print(f\"ZIP archive '{output_zip_file}' created successfully.\")\n"
      ]
    },
    {
      "cell_type": "code",
      "execution_count": 32,
      "metadata": {
        "execution": {
          "iopub.execute_input": "2023-09-08T14:57:36.878383Z",
          "iopub.status.busy": "2023-09-08T14:57:36.877784Z",
          "iopub.status.idle": "2023-09-08T14:57:37.333566Z",
          "shell.execute_reply": "2023-09-08T14:57:37.332617Z",
          "shell.execute_reply.started": "2023-09-08T14:57:36.878345Z"
        },
        "id": "YNl6_FQSMWJA",
        "outputId": "e703528f-f15c-4cc0-e26b-f395a556b5fc",
        "trusted": true
      },
      "outputs": [
        {
          "data": {
            "image/png": "[encoded data removed]",
            "text/plain": [
              "<Figure size 1000x600 with 1 Axes>"
            ]
          },
          "metadata": {},
          "output_type": "display_data"
        }
      ],
      "source": [
        "\n",
        "\n",
        "\n",
        "# Assuming you have a dictionary named history2 with your data\n",
        "# Create a figure and axis\n",
        "fig, ax = plt.subplots(figsize=(10, 6))\n",
        "\n",
        "# Plot each data series as a line with the desired label\n",
        "for key, values in history2.items():\n",
        "    if key == 'train_f1_score':\n",
        "        ax.plot(values, label='Skor F1 Pelatihan')\n",
        "    elif key == 'valid_f1_score':\n",
        "        ax.plot(values, label='Skor F1 Validasi')\n",
        "\n",
        "# Add a legend\n",
        "ax.legend()\n",
        "\n",
        "# Add labels and a title\n",
        "ax.set_xlabel('Epochs')\n",
        "ax.set_ylabel('Accuracy')\n",
        "ax.set_title('Epochs vs Akurasi')\n",
        "plt.savefig('f1.png')\n",
        "\n",
        "# Show the plot\n",
        "plt.show()"
      ]
    },
    {
      "cell_type": "code",
      "execution_count": 22,
      "metadata": {},
      "outputs": [],
      "source": [
        "original_dict = {\"Kementerian Sosial\": 1, \"Divisi Pemasaran dan Pelayanan Pelanggan\": 2, \"Kementerian Pendidikan, Kebudayaan, Riset, dan Teknologi\": 3,'Kepolisian Negara Republik Indonesia':4,'Direktorat Jenderal Perhubungan Darat':5, 'Kementerian Komunikasi dan Informatika' : 6, 'Direktorat Jenderal Tenaga Kesehatan' :7}\n",
        "\n",
        "reversed_dict = {value: key for key, value in original_dict.items()}"
      ]
    },
    {
      "cell_type": "code",
      "execution_count": 24,
      "metadata": {},
      "outputs": [
        {
          "data": {
            "text/plain": [
              "'Kementerian Sosial'"
            ]
          },
          "execution_count": 24,
          "metadata": {},
          "output_type": "execute_result"
        }
      ],
      "source": [
        "reversed_dict[1]"
      ]
    },
    {
      "cell_type": "code",
      "execution_count": 46,
      "metadata": {
        "execution": {
          "iopub.execute_input": "2023-09-07T15:50:30.311575Z",
          "iopub.status.busy": "2023-09-07T15:50:30.311194Z",
          "iopub.status.idle": "2023-09-07T15:50:30.340076Z",
          "shell.execute_reply": "2023-09-07T15:50:30.339199Z",
          "shell.execute_reply.started": "2023-09-07T15:50:30.311546Z"
        },
        "id": "gkIMQSi0MWJA",
        "outputId": "b450f1f9-6f85-49c0-b566-46b5b0206b9b",
        "trusted": true
      },
      "outputs": [
        {
          "name": "stdout",
          "output_type": "stream",
          "text": [
            "Predicted class: Kementerian Sosial\n"
          ]
        }
      ],
      "source": [
        "# Assuming you have already loaded your trained model 'model2' and tokenizer 'tokenizer'\n",
        "reverse_label=reversed_dict\n",
        "# Define the input text\n",
        "input_text = \"Perlu bantuan dana untuk bencana\"\n",
        "\n",
        "# Tokenize the input text\n",
        "inputs = tokenizer2(input_text, return_tensors=\"pt\", padding=True, truncation=True)\n",
        "\n",
        "# Move the input tensors to the same device as the model\n",
        "inputs = {key: val.to(device) for key, val in inputs.items()}\n",
        "\n",
        "# Set the model to evaluation mode\n",
        "model_loaded.eval()\n",
        "\n",
        "# Perform inference\n",
        "with torch.no_grad():\n",
        "    outputs = model2(**inputs)\n",
        "\n",
        "# Process the model's output as needed\n",
        "logits = outputs.last_hidden_state[:, 0, :]\n",
        "predicted_class = torch.argmax(logits, dim=1).item()\n",
        "\n",
        "# Optionally, you can map the predicted class to its corresponding label if you have label mapping\n",
        "# label_map = {0: 'ClassA', 1: 'ClassB', ...}\n",
        "# predicted_label = label_map[predicted_class]\n",
        "\n",
        "# Print the result\n",
        "print(f\"Predicted class: {reverse_label[predicted_class]}\")\n",
        "# print(f\"Predicted label: {predicted_label}\")\n"
      ]
    },
    {
      "cell_type": "code",
      "execution_count": null,
      "metadata": {
        "execution": {
          "iopub.execute_input": "2023-09-09T14:26:17.871728Z",
          "iopub.status.busy": "2023-09-09T14:26:17.871191Z",
          "iopub.status.idle": "2023-09-09T14:26:17.880866Z",
          "shell.execute_reply": "2023-09-09T14:26:17.879417Z",
          "shell.execute_reply.started": "2023-09-09T14:26:17.871694Z"
        },
        "id": "_yETBMwVMWJA",
        "trusted": true
      },
      "outputs": [],
      "source": [
        "def predict_emotion(input_text, model, tokenizer, label_mapping):\n",
        "    # Tokenize the input text\n",
        "    inputs = tokenizer(input_text, return_tensors=\"pt\", padding=True, truncation=True)\n",
        "\n",
        "    # Move the input tensors to the same device as the model\n",
        "\n",
        "\n",
        "    # Set the model to evaluation mode\n",
        "    model.eval()\n",
        "\n",
        "    # Perform inference\n",
        "    with torch.no_grad():\n",
        "        outputs = model(**inputs)\n",
        "\n",
        "    # Process the model's output as needed\n",
        "    logits = outputs.last_hidden_state[:, 0, :]\n",
        "    predicted_class = torch.argmax(logits, dim=1).item()\n",
        "\n",
        "    # Map the predicted class to its corresponding label\n",
        "    predicted_label = label_mapping.get(predicted_class, \"Unknown\")\n",
        "\n",
        "    return predicted_label\n",
        "\n",
        "# Define label mapping\n",
        "reverse_label = {\n",
        "    1: 'fear',\n",
        "    2: 'joy',\n",
        "    3: 'love',\n",
        "    4: 'sadness',\n",
        "    5: 'anger'\n",
        "}\n"
      ]
    },
    {
      "cell_type": "markdown",
      "metadata": {
        "id": "dv2tVVyXMWJB"
      },
      "source": [
        "## Loaded Model For Predicting"
      ]
    },
    {
      "cell_type": "code",
      "execution_count": 33,
      "metadata": {
        "execution": {
          "iopub.execute_input": "2023-09-09T14:22:36.265665Z",
          "iopub.status.busy": "2023-09-09T14:22:36.265172Z",
          "iopub.status.idle": "2023-09-09T14:22:38.334644Z",
          "shell.execute_reply": "2023-09-09T14:22:38.333593Z",
          "shell.execute_reply.started": "2023-09-09T14:22:36.265625Z"
        },
        "id": "puSCXz3wMWJB",
        "trusted": true
      },
      "outputs": [],
      "source": [
        "from transformers import AutoTokenizer, AutoModel\n",
        "tokenizer_loaded = AutoTokenizer.from_pretrained(\"indolem/indobertweet-base-uncased\")\n",
        "model_loaded = AutoModel.from_pretrained(\"indolem/indobertweet-base-uncased\")"
      ]
    },
    {
      "cell_type": "code",
      "execution_count": null,
      "metadata": {
        "execution": {
          "iopub.execute_input": "2023-09-09T14:25:18.672451Z",
          "iopub.status.busy": "2023-09-09T14:25:18.671979Z",
          "iopub.status.idle": "2023-09-09T14:25:23.338285Z",
          "shell.execute_reply": "2023-09-09T14:25:23.337391Z",
          "shell.execute_reply.started": "2023-09-09T14:25:18.672415Z"
        },
        "id": "okW75ml-MWJB",
        "outputId": "a3ee6394-4b8b-44cf-cecf-0c1abe16c501",
        "trusted": true
      },
      "outputs": [
        {
          "name": "stderr",
          "output_type": "stream",
          "text": [
            "Downloading...\n",
            "From: https://drive.google.com/uc?id=1wAWm5H5av1Gk8nHBR6T_eBivgzwL3i7k\n",
            "To: /kaggle/working/test_df.csv\n",
            "100%|██████████| 309k/309k [00:00<00:00, 81.9MB/s]\n",
            "Downloading...\n",
            "From (uriginal): https://drive.google.com/uc?id=1uTXqNiO4GCOEd1giyizIhRJG5G0Z-YVQ\n",
            "From (redirected): https://drive.google.com/uc?id=1uTXqNiO4GCOEd1giyizIhRJG5G0Z-YVQ&confirm=t&uuid=81ee29e8-4bd2-4d7c-b445-31346f393246\n",
            "To: /kaggle/working/weight\n",
            "100%|██████████| 442M/442M [00:02<00:00, 153MB/s]  \n"
          ]
        },
        {
          "data": {
            "text/plain": [
              "'weight'"
            ]
          },
          "execution_count": 14,
          "metadata": {},
          "output_type": "execute_result"
        }
      ],
      "source": [
        "import gdown\n",
        "test_df_url='https://drive.google.com/uc?id=1wAWm5H5av1Gk8nHBR6T_eBivgzwL3i7k'\n",
        "test_df_url_path='test_df.csv'\n",
        "gdown.download(test_df_url, test_df_url_path, quiet=False)\n",
        "weight='https://drive.google.com/uc?id=1uTXqNiO4GCOEd1giyizIhRJG5G0Z-YVQ'\n",
        "weight_path='weight'\n",
        "gdown.download(weight, weight_path, quiet=False)"
      ]
    },
    {
      "cell_type": "code",
      "execution_count": 34,
      "metadata": {
        "execution": {
          "iopub.execute_input": "2023-09-09T14:24:34.520953Z",
          "iopub.status.busy": "2023-09-09T14:24:34.520552Z",
          "iopub.status.idle": "2023-09-09T14:24:34.779441Z",
          "shell.execute_reply": "2023-09-09T14:24:34.778203Z",
          "shell.execute_reply.started": "2023-09-09T14:24:34.520921Z"
        },
        "id": "uz8KivjLMWJB",
        "outputId": "32230e8f-fd67-4f57-ac5c-3b133f998b59",
        "trusted": true
      },
      "outputs": [
        {
          "data": {
            "text/plain": [
              "<All keys matched successfully>"
            ]
          },
          "execution_count": 34,
          "metadata": {},
          "output_type": "execute_result"
        }
      ],
      "source": [
        "\n",
        "state_dict = torch.load(r'C:\\Lomba\\UNITY UNY\\Data Mining\\results\\baseline_judul_laporan.pth',map_location=torch.device('cpu')) #Hapus map_location=torch.device('cpu' jika gunakan GPU\n",
        "model_loaded.load_state_dict(state_dict)\n",
        "\n",
        "\n"
      ]
    },
    {
      "cell_type": "code",
      "execution_count": null,
      "metadata": {
        "execution": {
          "iopub.execute_input": "2023-09-09T14:25:26.522901Z",
          "iopub.status.busy": "2023-09-09T14:25:26.522456Z",
          "iopub.status.idle": "2023-09-09T14:25:26.543649Z",
          "shell.execute_reply": "2023-09-09T14:25:26.542325Z",
          "shell.execute_reply.started": "2023-09-09T14:25:26.522868Z"
        },
        "id": "3Ld4wecHMWJB",
        "trusted": true
      },
      "outputs": [],
      "source": [
        "test_df=pd.read_csv('test_df.csv')"
      ]
    },
    {
      "cell_type": "code",
      "execution_count": null,
      "metadata": {
        "execution": {
          "iopub.execute_input": "2023-09-09T14:25:28.788959Z",
          "iopub.status.busy": "2023-09-09T14:25:28.788505Z",
          "iopub.status.idle": "2023-09-09T14:25:28.819127Z",
          "shell.execute_reply": "2023-09-09T14:25:28.817967Z",
          "shell.execute_reply.started": "2023-09-09T14:25:28.788929Z"
        },
        "id": "Iz65tOvOMWJC",
        "outputId": "d7ee5545-54d2-41d9-da42-14cada2787ac",
        "trusted": true
      },
      "outputs": [
        {
          "data": {
            "text/html": [
              "<div>\n",
              "<style scoped>\n",
              "    .dataframe tbody tr th:only-of-type {\n",
              "        vertical-align: middle;\n",
              "    }\n",
              "\n",
              "    .dataframe tbody tr th {\n",
              "        vertical-align: top;\n",
              "    }\n",
              "\n",
              "    .dataframe thead th {\n",
              "        text-align: right;\n",
              "    }\n",
              "</style>\n",
              "<table border=\"1\" class=\"dataframe\">\n",
              "  <thead>\n",
              "    <tr style=\"text-align: right;\">\n",
              "      <th></th>\n",
              "      <th>Unnamed: 0</th>\n",
              "      <th>label</th>\n",
              "      <th>tweet</th>\n",
              "      <th>cleaned_tweet</th>\n",
              "    </tr>\n",
              "  </thead>\n",
              "  <tbody>\n",
              "    <tr>\n",
              "      <th>0</th>\n",
              "      <td>4153</td>\n",
              "      <td>NaN</td>\n",
              "      <td>Saya taKan raguKan besarNya kasih sayang Tuhan...</td>\n",
              "      <td>tak ragu besar kasih sayang tuhan beri sayawal...</td>\n",
              "    </tr>\n",
              "    <tr>\n",
              "      <th>1</th>\n",
              "      <td>4154</td>\n",
              "      <td>NaN</td>\n",
              "      <td>Cc in ke cebong2 dungu... Maksd hati pengen ca...</td>\n",
              "      <td>cc cebong dungu maksud hati pengin cari salah ...</td>\n",
              "    </tr>\n",
              "    <tr>\n",
              "      <th>2</th>\n",
              "      <td>4155</td>\n",
              "      <td>NaN</td>\n",
              "      <td>Nah, yg keterlaluan adl kalo ada pjbt eselon y...</td>\n",
              "      <td>nah terlalu adalah kalo pjbt eselon salah laks...</td>\n",
              "    </tr>\n",
              "    <tr>\n",
              "      <th>3</th>\n",
              "      <td>4156</td>\n",
              "      <td>NaN</td>\n",
              "      <td>Melody masih membatasi diri ala member ya? Yan...</td>\n",
              "      <td>melody batas diri ala member dibales mentionny...</td>\n",
              "    </tr>\n",
              "    <tr>\n",
              "      <th>4</th>\n",
              "      <td>4157</td>\n",
              "      <td>NaN</td>\n",
              "      <td>Rasa amarah ini membuatku merasa seperti aku a...</td>\n",
              "      <td>rasa amarah buat rasa seperti aku akan luap semua</td>\n",
              "    </tr>\n",
              "    <tr>\n",
              "      <th>...</th>\n",
              "      <td>...</td>\n",
              "      <td>...</td>\n",
              "      <td>...</td>\n",
              "      <td>...</td>\n",
              "    </tr>\n",
              "    <tr>\n",
              "      <th>995</th>\n",
              "      <td>5148</td>\n",
              "      <td>NaN</td>\n",
              "      <td>Aku termasuk orang yang tidak habis pikir deng...</td>\n",
              "      <td>aku masuk orang tidak habis pikir orang anggap...</td>\n",
              "    </tr>\n",
              "    <tr>\n",
              "      <th>996</th>\n",
              "      <td>5149</td>\n",
              "      <td>NaN</td>\n",
              "      <td>Melawan sibuk Selasamu, jangan patah semangat ...</td>\n",
              "      <td>lawan sibuk selasa jangan patah semangat yah</td>\n",
              "    </tr>\n",
              "    <tr>\n",
              "      <th>997</th>\n",
              "      <td>5150</td>\n",
              "      <td>NaN</td>\n",
              "      <td>Momen di mana kamu merasa begitu mendalam terh...</td>\n",
              "      <td>momen mana kamu rasa begitu dalam hubung energ...</td>\n",
              "    </tr>\n",
              "    <tr>\n",
              "      <th>998</th>\n",
              "      <td>5151</td>\n",
              "      <td>NaN</td>\n",
              "      <td>Tapi tentunya secara ini Bekasi ada hal-hal yg...</td>\n",
              "      <td>tentu bekas hal-hal sayang tidak elak bekas pa...</td>\n",
              "    </tr>\n",
              "    <tr>\n",
              "      <th>999</th>\n",
              "      <td>5152</td>\n",
              "      <td>NaN</td>\n",
              "      <td>Happy Mensive My Love makasih udh nemenin sela...</td>\n",
              "      <td>happy mensive my love terima kasih nemenin lam...</td>\n",
              "    </tr>\n",
              "  </tbody>\n",
              "</table>\n",
              "<p>1000 rows × 4 columns</p>\n",
              "</div>"
            ],
            "text/plain": [
              "     Unnamed: 0  label                                              tweet  \\\n",
              "0          4153    NaN  Saya taKan raguKan besarNya kasih sayang Tuhan...   \n",
              "1          4154    NaN  Cc in ke cebong2 dungu... Maksd hati pengen ca...   \n",
              "2          4155    NaN  Nah, yg keterlaluan adl kalo ada pjbt eselon y...   \n",
              "3          4156    NaN  Melody masih membatasi diri ala member ya? Yan...   \n",
              "4          4157    NaN  Rasa amarah ini membuatku merasa seperti aku a...   \n",
              "..          ...    ...                                                ...   \n",
              "995        5148    NaN  Aku termasuk orang yang tidak habis pikir deng...   \n",
              "996        5149    NaN  Melawan sibuk Selasamu, jangan patah semangat ...   \n",
              "997        5150    NaN  Momen di mana kamu merasa begitu mendalam terh...   \n",
              "998        5151    NaN  Tapi tentunya secara ini Bekasi ada hal-hal yg...   \n",
              "999        5152    NaN  Happy Mensive My Love makasih udh nemenin sela...   \n",
              "\n",
              "                                         cleaned_tweet  \n",
              "0    tak ragu besar kasih sayang tuhan beri sayawal...  \n",
              "1    cc cebong dungu maksud hati pengin cari salah ...  \n",
              "2    nah terlalu adalah kalo pjbt eselon salah laks...  \n",
              "3    melody batas diri ala member dibales mentionny...  \n",
              "4    rasa amarah buat rasa seperti aku akan luap semua  \n",
              "..                                                 ...  \n",
              "995  aku masuk orang tidak habis pikir orang anggap...  \n",
              "996       lawan sibuk selasa jangan patah semangat yah  \n",
              "997  momen mana kamu rasa begitu dalam hubung energ...  \n",
              "998  tentu bekas hal-hal sayang tidak elak bekas pa...  \n",
              "999  happy mensive my love terima kasih nemenin lam...  \n",
              "\n",
              "[1000 rows x 4 columns]"
            ]
          },
          "execution_count": 16,
          "metadata": {},
          "output_type": "execute_result"
        }
      ],
      "source": [
        "test_df"
      ]
    },
    {
      "cell_type": "markdown",
      "metadata": {
        "id": "f4hRotaaMWJC"
      },
      "source": [
        "## Prediksi Unlabeled Data"
      ]
    },
    {
      "cell_type": "code",
      "execution_count": null,
      "metadata": {
        "execution": {
          "iopub.execute_input": "2023-09-09T14:26:21.200467Z",
          "iopub.status.busy": "2023-09-09T14:26:21.198911Z",
          "iopub.status.idle": "2023-09-09T14:27:47.219862Z",
          "shell.execute_reply": "2023-09-09T14:27:47.218848Z",
          "shell.execute_reply.started": "2023-09-09T14:26:21.200414Z"
        },
        "id": "qPRnZsZaMWJC",
        "trusted": true
      },
      "outputs": [],
      "source": [
        "test_df[\"predicted_label\"] = test_df[\"cleaned_tweet\"].apply(lambda x: predict_emotion(str(x), model2, tokenizer2, reverse_label))"
      ]
    },
    {
      "cell_type": "code",
      "execution_count": null,
      "metadata": {
        "execution": {
          "iopub.execute_input": "2023-09-09T14:27:57.533177Z",
          "iopub.status.busy": "2023-09-09T14:27:57.532736Z",
          "iopub.status.idle": "2023-09-09T14:27:57.539210Z",
          "shell.execute_reply": "2023-09-09T14:27:57.538017Z",
          "shell.execute_reply.started": "2023-09-09T14:27:57.533129Z"
        },
        "id": "2QwPCLCIMWJC",
        "trusted": true
      },
      "outputs": [],
      "source": [
        "test_df['label']=test_df['predicted_label']"
      ]
    },
    {
      "cell_type": "code",
      "execution_count": null,
      "metadata": {
        "execution": {
          "iopub.execute_input": "2023-09-09T14:27:57.841995Z",
          "iopub.status.busy": "2023-09-09T14:27:57.841369Z",
          "iopub.status.idle": "2023-09-09T14:27:57.853358Z",
          "shell.execute_reply": "2023-09-09T14:27:57.851883Z",
          "shell.execute_reply.started": "2023-09-09T14:27:57.841964Z"
        },
        "id": "LJHm8hjGMWJC",
        "trusted": true
      },
      "outputs": [],
      "source": [
        "test_df = test_df[['label', 'tweet']]"
      ]
    },
    {
      "cell_type": "markdown",
      "metadata": {
        "id": "tlRR09vYMWJC"
      },
      "source": [
        "## File Akhir Prediksi Unlabeled Data"
      ]
    },
    {
      "cell_type": "code",
      "execution_count": null,
      "metadata": {
        "execution": {
          "iopub.execute_input": "2023-09-09T14:28:06.601941Z",
          "iopub.status.busy": "2023-09-09T14:28:06.601538Z",
          "iopub.status.idle": "2023-09-09T14:28:06.621351Z",
          "shell.execute_reply": "2023-09-09T14:28:06.620075Z",
          "shell.execute_reply.started": "2023-09-09T14:28:06.601911Z"
        },
        "id": "46pJFNXFMWJC",
        "trusted": true
      },
      "outputs": [],
      "source": [
        "test_df.to_csv('final_test_label_fix.csv',index=False)"
      ]
    },
    {
      "cell_type": "code",
      "execution_count": null,
      "metadata": {
        "execution": {
          "iopub.execute_input": "2023-09-09T14:28:13.536714Z",
          "iopub.status.busy": "2023-09-09T14:28:13.536303Z",
          "iopub.status.idle": "2023-09-09T14:28:13.552612Z",
          "shell.execute_reply": "2023-09-09T14:28:13.551303Z",
          "shell.execute_reply.started": "2023-09-09T14:28:13.536681Z"
        },
        "id": "tVRYDd3DMWJD",
        "outputId": "3edeb7c6-0652-478d-f5fc-7e49dd4a1dca",
        "trusted": true
      },
      "outputs": [
        {
          "data": {
            "text/html": [
              "<div>\n",
              "<style scoped>\n",
              "    .dataframe tbody tr th:only-of-type {\n",
              "        vertical-align: middle;\n",
              "    }\n",
              "\n",
              "    .dataframe tbody tr th {\n",
              "        vertical-align: top;\n",
              "    }\n",
              "\n",
              "    .dataframe thead th {\n",
              "        text-align: right;\n",
              "    }\n",
              "</style>\n",
              "<table border=\"1\" class=\"dataframe\">\n",
              "  <thead>\n",
              "    <tr style=\"text-align: right;\">\n",
              "      <th></th>\n",
              "      <th>label</th>\n",
              "      <th>tweet</th>\n",
              "    </tr>\n",
              "  </thead>\n",
              "  <tbody>\n",
              "    <tr>\n",
              "      <th>0</th>\n",
              "      <td>love</td>\n",
              "      <td>Saya taKan raguKan besarNya kasih sayang Tuhan...</td>\n",
              "    </tr>\n",
              "    <tr>\n",
              "      <th>1</th>\n",
              "      <td>anger</td>\n",
              "      <td>Cc in ke cebong2 dungu... Maksd hati pengen ca...</td>\n",
              "    </tr>\n",
              "    <tr>\n",
              "      <th>2</th>\n",
              "      <td>anger</td>\n",
              "      <td>Nah, yg keterlaluan adl kalo ada pjbt eselon y...</td>\n",
              "    </tr>\n",
              "    <tr>\n",
              "      <th>3</th>\n",
              "      <td>joy</td>\n",
              "      <td>Melody masih membatasi diri ala member ya? Yan...</td>\n",
              "    </tr>\n",
              "    <tr>\n",
              "      <th>4</th>\n",
              "      <td>anger</td>\n",
              "      <td>Rasa amarah ini membuatku merasa seperti aku a...</td>\n",
              "    </tr>\n",
              "    <tr>\n",
              "      <th>...</th>\n",
              "      <td>...</td>\n",
              "      <td>...</td>\n",
              "    </tr>\n",
              "    <tr>\n",
              "      <th>995</th>\n",
              "      <td>anger</td>\n",
              "      <td>Aku termasuk orang yang tidak habis pikir deng...</td>\n",
              "    </tr>\n",
              "    <tr>\n",
              "      <th>996</th>\n",
              "      <td>joy</td>\n",
              "      <td>Melawan sibuk Selasamu, jangan patah semangat ...</td>\n",
              "    </tr>\n",
              "    <tr>\n",
              "      <th>997</th>\n",
              "      <td>joy</td>\n",
              "      <td>Momen di mana kamu merasa begitu mendalam terh...</td>\n",
              "    </tr>\n",
              "    <tr>\n",
              "      <th>998</th>\n",
              "      <td>sadness</td>\n",
              "      <td>Tapi tentunya secara ini Bekasi ada hal-hal yg...</td>\n",
              "    </tr>\n",
              "    <tr>\n",
              "      <th>999</th>\n",
              "      <td>love</td>\n",
              "      <td>Happy Mensive My Love makasih udh nemenin sela...</td>\n",
              "    </tr>\n",
              "  </tbody>\n",
              "</table>\n",
              "<p>1000 rows × 2 columns</p>\n",
              "</div>"
            ],
            "text/plain": [
              "       label                                              tweet\n",
              "0       love  Saya taKan raguKan besarNya kasih sayang Tuhan...\n",
              "1      anger  Cc in ke cebong2 dungu... Maksd hati pengen ca...\n",
              "2      anger  Nah, yg keterlaluan adl kalo ada pjbt eselon y...\n",
              "3        joy  Melody masih membatasi diri ala member ya? Yan...\n",
              "4      anger  Rasa amarah ini membuatku merasa seperti aku a...\n",
              "..       ...                                                ...\n",
              "995    anger  Aku termasuk orang yang tidak habis pikir deng...\n",
              "996      joy  Melawan sibuk Selasamu, jangan patah semangat ...\n",
              "997      joy  Momen di mana kamu merasa begitu mendalam terh...\n",
              "998  sadness  Tapi tentunya secara ini Bekasi ada hal-hal yg...\n",
              "999     love  Happy Mensive My Love makasih udh nemenin sela...\n",
              "\n",
              "[1000 rows x 2 columns]"
            ]
          },
          "execution_count": 26,
          "metadata": {},
          "output_type": "execute_result"
        }
      ],
      "source": [
        "test_df"
      ]
    }
  ],
  "metadata": {
    "accelerator": "GPU",
    "colab": {
      "gpuType": "T4",
      "provenance": []
    },
    "kernelspec": {
      "display_name": "Python 3",
      "language": "python",
      "name": "python3"
    },
    "language_info": {
      "codemirror_mode": {
        "name": "ipython",
        "version": 3
      },
      "file_extension": ".py",
      "mimetype": "text/x-python",
      "name": "python",
      "nbconvert_exporter": "python",
      "pygments_lexer": "ipython3",
      "version": "3.10.13"
    },
    "widgets": {
      "application/vnd.jupyter.widget-state+json": {
        "01b404e5fbaf48e68f9305b5567fa1a1": {
          "model_module": "@jupyter-widgets/controls",
          "model_module_version": "1.5.0",
          "model_name": "DescriptionStyleModel",
          "state": {
            "_model_module": "@jupyter-widgets/controls",
            "_model_module_version": "1.5.0",
            "_model_name": "DescriptionStyleModel",
            "_view_count": null,
            "_view_module": "@jupyter-widgets/base",
            "_view_module_version": "1.2.0",
            "_view_name": "StyleView",
            "description_width": ""
          }
        },
        "08975a495f214c1387f2a36b43fe5525": {
          "model_module": "@jupyter-widgets/controls",
          "model_module_version": "1.5.0",
          "model_name": "FloatProgressModel",
          "state": {
            "_dom_classes": [],
            "_model_module": "@jupyter-widgets/controls",
            "_model_module_version": "1.5.0",
            "_model_name": "FloatProgressModel",
            "_view_count": null,
            "_view_module": "@jupyter-widgets/controls",
            "_view_module_version": "1.5.0",
            "_view_name": "ProgressView",
            "bar_style": "success",
            "description": "",
            "description_tooltip": null,
            "layout": "IPY_MODEL_d272fa5c66894ebd86758707fcab6f4b",
            "max": 2,
            "min": 0,
            "orientation": "horizontal",
            "style": "IPY_MODEL_0f2d30beb6a64af48bd413e6ad2457ed",
            "value": 2
          }
        },
        "0d0aa8a0c93b403fb07686294588ebfe": {
          "model_module": "@jupyter-widgets/controls",
          "model_module_version": "1.5.0",
          "model_name": "DescriptionStyleModel",
          "state": {
            "_model_module": "@jupyter-widgets/controls",
            "_model_module_version": "1.5.0",
            "_model_name": "DescriptionStyleModel",
            "_view_count": null,
            "_view_module": "@jupyter-widgets/base",
            "_view_module_version": "1.2.0",
            "_view_name": "StyleView",
            "description_width": ""
          }
        },
        "0f2d30beb6a64af48bd413e6ad2457ed": {
          "model_module": "@jupyter-widgets/controls",
          "model_module_version": "1.5.0",
          "model_name": "ProgressStyleModel",
          "state": {
            "_model_module": "@jupyter-widgets/controls",
            "_model_module_version": "1.5.0",
            "_model_name": "ProgressStyleModel",
            "_view_count": null,
            "_view_module": "@jupyter-widgets/base",
            "_view_module_version": "1.2.0",
            "_view_name": "StyleView",
            "bar_color": null,
            "description_width": ""
          }
        },
        "13753ac6e872487e8faa15a39d76d950": {
          "model_module": "@jupyter-widgets/base",
          "model_module_version": "1.2.0",
          "model_name": "LayoutModel",
          "state": {
            "_model_module": "@jupyter-widgets/base",
            "_model_module_version": "1.2.0",
            "_model_name": "LayoutModel",
            "_view_count": null,
            "_view_module": "@jupyter-widgets/base",
            "_view_module_version": "1.2.0",
            "_view_name": "LayoutView",
            "align_content": null,
            "align_items": null,
            "align_self": null,
            "border": null,
            "bottom": null,
            "display": null,
            "flex": null,
            "flex_flow": null,
            "grid_area": null,
            "grid_auto_columns": null,
            "grid_auto_flow": null,
            "grid_auto_rows": null,
            "grid_column": null,
            "grid_gap": null,
            "grid_row": null,
            "grid_template_areas": null,
            "grid_template_columns": null,
            "grid_template_rows": null,
            "height": null,
            "justify_content": null,
            "justify_items": null,
            "left": null,
            "margin": null,
            "max_height": null,
            "max_width": null,
            "min_height": null,
            "min_width": null,
            "object_fit": null,
            "object_position": null,
            "order": null,
            "overflow": null,
            "overflow_x": null,
            "overflow_y": null,
            "padding": null,
            "right": null,
            "top": null,
            "visibility": null,
            "width": null
          }
        },
        "14b469c49a824d298b9849a8bcf7ffe6": {
          "model_module": "@jupyter-widgets/base",
          "model_module_version": "1.2.0",
          "model_name": "LayoutModel",
          "state": {
            "_model_module": "@jupyter-widgets/base",
            "_model_module_version": "1.2.0",
            "_model_name": "LayoutModel",
            "_view_count": null,
            "_view_module": "@jupyter-widgets/base",
            "_view_module_version": "1.2.0",
            "_view_name": "LayoutView",
            "align_content": null,
            "align_items": null,
            "align_self": null,
            "border": null,
            "bottom": null,
            "display": null,
            "flex": null,
            "flex_flow": null,
            "grid_area": null,
            "grid_auto_columns": null,
            "grid_auto_flow": null,
            "grid_auto_rows": null,
            "grid_column": null,
            "grid_gap": null,
            "grid_row": null,
            "grid_template_areas": null,
            "grid_template_columns": null,
            "grid_template_rows": null,
            "height": null,
            "justify_content": null,
            "justify_items": null,
            "left": null,
            "margin": null,
            "max_height": null,
            "max_width": null,
            "min_height": null,
            "min_width": null,
            "object_fit": null,
            "object_position": null,
            "order": null,
            "overflow": null,
            "overflow_x": null,
            "overflow_y": null,
            "padding": null,
            "right": null,
            "top": null,
            "visibility": null,
            "width": null
          }
        },
        "16ed92aabf8247ea8b8d753893e15349": {
          "model_module": "@jupyter-widgets/controls",
          "model_module_version": "1.5.0",
          "model_name": "ProgressStyleModel",
          "state": {
            "_model_module": "@jupyter-widgets/controls",
            "_model_module_version": "1.5.0",
            "_model_name": "ProgressStyleModel",
            "_view_count": null,
            "_view_module": "@jupyter-widgets/base",
            "_view_module_version": "1.2.0",
            "_view_name": "StyleView",
            "bar_color": null,
            "description_width": ""
          }
        },
        "27bf7418e164465a8dd37f9dbb74702b": {
          "model_module": "@jupyter-widgets/base",
          "model_module_version": "1.2.0",
          "model_name": "LayoutModel",
          "state": {
            "_model_module": "@jupyter-widgets/base",
            "_model_module_version": "1.2.0",
            "_model_name": "LayoutModel",
            "_view_count": null,
            "_view_module": "@jupyter-widgets/base",
            "_view_module_version": "1.2.0",
            "_view_name": "LayoutView",
            "align_content": null,
            "align_items": null,
            "align_self": null,
            "border": null,
            "bottom": null,
            "display": null,
            "flex": null,
            "flex_flow": null,
            "grid_area": null,
            "grid_auto_columns": null,
            "grid_auto_flow": null,
            "grid_auto_rows": null,
            "grid_column": null,
            "grid_gap": null,
            "grid_row": null,
            "grid_template_areas": null,
            "grid_template_columns": null,
            "grid_template_rows": null,
            "height": null,
            "justify_content": null,
            "justify_items": null,
            "left": null,
            "margin": null,
            "max_height": null,
            "max_width": null,
            "min_height": null,
            "min_width": null,
            "object_fit": null,
            "object_position": null,
            "order": null,
            "overflow": null,
            "overflow_x": null,
            "overflow_y": null,
            "padding": null,
            "right": null,
            "top": null,
            "visibility": null,
            "width": null
          }
        },
        "2c75b55c89c94af3b32fb5df251e461a": {
          "model_module": "@jupyter-widgets/controls",
          "model_module_version": "1.5.0",
          "model_name": "HTMLModel",
          "state": {
            "_dom_classes": [],
            "_model_module": "@jupyter-widgets/controls",
            "_model_module_version": "1.5.0",
            "_model_name": "HTMLModel",
            "_view_count": null,
            "_view_module": "@jupyter-widgets/controls",
            "_view_module_version": "1.5.0",
            "_view_name": "HTMLView",
            "description": "",
            "description_tooltip": null,
            "layout": "IPY_MODEL_8944fa1916e74faf9f1db2ec1b579058",
            "placeholder": "​",
            "style": "IPY_MODEL_cbb96aed3d70479e8ac0c46717e92d87",
            "value": "Downloading (…)solve/main/vocab.txt: 100%"
          }
        },
        "2dc8de283a294a608a30defa16c495a1": {
          "model_module": "@jupyter-widgets/controls",
          "model_module_version": "1.5.0",
          "model_name": "DescriptionStyleModel",
          "state": {
            "_model_module": "@jupyter-widgets/controls",
            "_model_module_version": "1.5.0",
            "_model_name": "DescriptionStyleModel",
            "_view_count": null,
            "_view_module": "@jupyter-widgets/base",
            "_view_module_version": "1.2.0",
            "_view_name": "StyleView",
            "description_width": ""
          }
        },
        "2e2e5b0affe745df8c0bd68838e84d3a": {
          "model_module": "@jupyter-widgets/base",
          "model_module_version": "1.2.0",
          "model_name": "LayoutModel",
          "state": {
            "_model_module": "@jupyter-widgets/base",
            "_model_module_version": "1.2.0",
            "_model_name": "LayoutModel",
            "_view_count": null,
            "_view_module": "@jupyter-widgets/base",
            "_view_module_version": "1.2.0",
            "_view_name": "LayoutView",
            "align_content": null,
            "align_items": null,
            "align_self": null,
            "border": null,
            "bottom": null,
            "display": null,
            "flex": null,
            "flex_flow": null,
            "grid_area": null,
            "grid_auto_columns": null,
            "grid_auto_flow": null,
            "grid_auto_rows": null,
            "grid_column": null,
            "grid_gap": null,
            "grid_row": null,
            "grid_template_areas": null,
            "grid_template_columns": null,
            "grid_template_rows": null,
            "height": null,
            "justify_content": null,
            "justify_items": null,
            "left": null,
            "margin": null,
            "max_height": null,
            "max_width": null,
            "min_height": null,
            "min_width": null,
            "object_fit": null,
            "object_position": null,
            "order": null,
            "overflow": null,
            "overflow_x": null,
            "overflow_y": null,
            "padding": null,
            "right": null,
            "top": null,
            "visibility": null,
            "width": null
          }
        },
        "324e3503a15f4a8c9bb4a3995ebbc003": {
          "model_module": "@jupyter-widgets/controls",
          "model_module_version": "1.5.0",
          "model_name": "HTMLModel",
          "state": {
            "_dom_classes": [],
            "_model_module": "@jupyter-widgets/controls",
            "_model_module_version": "1.5.0",
            "_model_name": "HTMLModel",
            "_view_count": null,
            "_view_module": "@jupyter-widgets/controls",
            "_view_module_version": "1.5.0",
            "_view_name": "HTMLView",
            "description": "",
            "description_tooltip": null,
            "layout": "IPY_MODEL_14b469c49a824d298b9849a8bcf7ffe6",
            "placeholder": "​",
            "style": "IPY_MODEL_af5f507659e3415e92534ba94b547a4f",
            "value": " 2.00/2.00 [00:00&lt;00:00, 63.1B/s]"
          }
        },
        "34b0b12bc00e4512b8b4458a6e427f58": {
          "model_module": "@jupyter-widgets/base",
          "model_module_version": "1.2.0",
          "model_name": "LayoutModel",
          "state": {
            "_model_module": "@jupyter-widgets/base",
            "_model_module_version": "1.2.0",
            "_model_name": "LayoutModel",
            "_view_count": null,
            "_view_module": "@jupyter-widgets/base",
            "_view_module_version": "1.2.0",
            "_view_name": "LayoutView",
            "align_content": null,
            "align_items": null,
            "align_self": null,
            "border": null,
            "bottom": null,
            "display": null,
            "flex": null,
            "flex_flow": null,
            "grid_area": null,
            "grid_auto_columns": null,
            "grid_auto_flow": null,
            "grid_auto_rows": null,
            "grid_column": null,
            "grid_gap": null,
            "grid_row": null,
            "grid_template_areas": null,
            "grid_template_columns": null,
            "grid_template_rows": null,
            "height": null,
            "justify_content": null,
            "justify_items": null,
            "left": null,
            "margin": null,
            "max_height": null,
            "max_width": null,
            "min_height": null,
            "min_width": null,
            "object_fit": null,
            "object_position": null,
            "order": null,
            "overflow": null,
            "overflow_x": null,
            "overflow_y": null,
            "padding": null,
            "right": null,
            "top": null,
            "visibility": null,
            "width": null
          }
        },
        "35812bcae8d14725abbcda27c4c894ec": {
          "model_module": "@jupyter-widgets/controls",
          "model_module_version": "1.5.0",
          "model_name": "HBoxModel",
          "state": {
            "_dom_classes": [],
            "_model_module": "@jupyter-widgets/controls",
            "_model_module_version": "1.5.0",
            "_model_name": "HBoxModel",
            "_view_count": null,
            "_view_module": "@jupyter-widgets/controls",
            "_view_module_version": "1.5.0",
            "_view_name": "HBoxView",
            "box_style": "",
            "children": [
              "IPY_MODEL_d34adbf8c5514ed6b82b32ab0957d144",
              "IPY_MODEL_9375709bfb1f4eae99bed770f423ac83",
              "IPY_MODEL_69ac1cedcaa34b96bd7b78d3d90fcd3d"
            ],
            "layout": "IPY_MODEL_13753ac6e872487e8faa15a39d76d950"
          }
        },
        "4450716dad90472c8f51b07d7ec5aecf": {
          "model_module": "@jupyter-widgets/controls",
          "model_module_version": "1.5.0",
          "model_name": "HTMLModel",
          "state": {
            "_dom_classes": [],
            "_model_module": "@jupyter-widgets/controls",
            "_model_module_version": "1.5.0",
            "_model_name": "HTMLModel",
            "_view_count": null,
            "_view_module": "@jupyter-widgets/controls",
            "_view_module_version": "1.5.0",
            "_view_name": "HTMLView",
            "description": "",
            "description_tooltip": null,
            "layout": "IPY_MODEL_87943d0829c84b02bb57c31cfd81596d",
            "placeholder": "​",
            "style": "IPY_MODEL_ad23a06bb41843269fc31ddbfe3d6b09",
            "value": "Downloading pytorch_model.bin: 100%"
          }
        },
        "480db6b365b34a9bac6c35fa34a86913": {
          "model_module": "@jupyter-widgets/base",
          "model_module_version": "1.2.0",
          "model_name": "LayoutModel",
          "state": {
            "_model_module": "@jupyter-widgets/base",
            "_model_module_version": "1.2.0",
            "_model_name": "LayoutModel",
            "_view_count": null,
            "_view_module": "@jupyter-widgets/base",
            "_view_module_version": "1.2.0",
            "_view_name": "LayoutView",
            "align_content": null,
            "align_items": null,
            "align_self": null,
            "border": null,
            "bottom": null,
            "display": null,
            "flex": null,
            "flex_flow": null,
            "grid_area": null,
            "grid_auto_columns": null,
            "grid_auto_flow": null,
            "grid_auto_rows": null,
            "grid_column": null,
            "grid_gap": null,
            "grid_row": null,
            "grid_template_areas": null,
            "grid_template_columns": null,
            "grid_template_rows": null,
            "height": null,
            "justify_content": null,
            "justify_items": null,
            "left": null,
            "margin": null,
            "max_height": null,
            "max_width": null,
            "min_height": null,
            "min_width": null,
            "object_fit": null,
            "object_position": null,
            "order": null,
            "overflow": null,
            "overflow_x": null,
            "overflow_y": null,
            "padding": null,
            "right": null,
            "top": null,
            "visibility": null,
            "width": null
          }
        },
        "48ca9c300d79403a9e40d0b38ad9d386": {
          "model_module": "@jupyter-widgets/controls",
          "model_module_version": "1.5.0",
          "model_name": "ProgressStyleModel",
          "state": {
            "_model_module": "@jupyter-widgets/controls",
            "_model_module_version": "1.5.0",
            "_model_name": "ProgressStyleModel",
            "_view_count": null,
            "_view_module": "@jupyter-widgets/base",
            "_view_module_version": "1.2.0",
            "_view_name": "StyleView",
            "bar_color": null,
            "description_width": ""
          }
        },
        "48db847607104d1cb82d9f9ee05cf23a": {
          "model_module": "@jupyter-widgets/controls",
          "model_module_version": "1.5.0",
          "model_name": "DescriptionStyleModel",
          "state": {
            "_model_module": "@jupyter-widgets/controls",
            "_model_module_version": "1.5.0",
            "_model_name": "DescriptionStyleModel",
            "_view_count": null,
            "_view_module": "@jupyter-widgets/base",
            "_view_module_version": "1.2.0",
            "_view_name": "StyleView",
            "description_width": ""
          }
        },
        "4e09ccd9fe7e4b788d6fe19872626689": {
          "model_module": "@jupyter-widgets/controls",
          "model_module_version": "1.5.0",
          "model_name": "HTMLModel",
          "state": {
            "_dom_classes": [],
            "_model_module": "@jupyter-widgets/controls",
            "_model_module_version": "1.5.0",
            "_model_name": "HTMLModel",
            "_view_count": null,
            "_view_module": "@jupyter-widgets/controls",
            "_view_module_version": "1.5.0",
            "_view_name": "HTMLView",
            "description": "",
            "description_tooltip": null,
            "layout": "IPY_MODEL_b31f107009f641b4a244da708c866467",
            "placeholder": "​",
            "style": "IPY_MODEL_2dc8de283a294a608a30defa16c495a1",
            "value": " 112/112 [00:00&lt;00:00, 4.02kB/s]"
          }
        },
        "5e4fa712064348a5989066127d953625": {
          "model_module": "@jupyter-widgets/controls",
          "model_module_version": "1.5.0",
          "model_name": "HBoxModel",
          "state": {
            "_dom_classes": [],
            "_model_module": "@jupyter-widgets/controls",
            "_model_module_version": "1.5.0",
            "_model_name": "HBoxModel",
            "_view_count": null,
            "_view_module": "@jupyter-widgets/controls",
            "_view_module_version": "1.5.0",
            "_view_name": "HBoxView",
            "box_style": "",
            "children": [
              "IPY_MODEL_2c75b55c89c94af3b32fb5df251e461a",
              "IPY_MODEL_9387f4695cd84d7586b2d1e9e499d1ce",
              "IPY_MODEL_f3cc503d6bf84635a95cf7b1ca5201ef"
            ],
            "layout": "IPY_MODEL_27bf7418e164465a8dd37f9dbb74702b"
          }
        },
        "5fc132e271a5412da5ebd7c3bf7db8c6": {
          "model_module": "@jupyter-widgets/base",
          "model_module_version": "1.2.0",
          "model_name": "LayoutModel",
          "state": {
            "_model_module": "@jupyter-widgets/base",
            "_model_module_version": "1.2.0",
            "_model_name": "LayoutModel",
            "_view_count": null,
            "_view_module": "@jupyter-widgets/base",
            "_view_module_version": "1.2.0",
            "_view_name": "LayoutView",
            "align_content": null,
            "align_items": null,
            "align_self": null,
            "border": null,
            "bottom": null,
            "display": null,
            "flex": null,
            "flex_flow": null,
            "grid_area": null,
            "grid_auto_columns": null,
            "grid_auto_flow": null,
            "grid_auto_rows": null,
            "grid_column": null,
            "grid_gap": null,
            "grid_row": null,
            "grid_template_areas": null,
            "grid_template_columns": null,
            "grid_template_rows": null,
            "height": null,
            "justify_content": null,
            "justify_items": null,
            "left": null,
            "margin": null,
            "max_height": null,
            "max_width": null,
            "min_height": null,
            "min_width": null,
            "object_fit": null,
            "object_position": null,
            "order": null,
            "overflow": null,
            "overflow_x": null,
            "overflow_y": null,
            "padding": null,
            "right": null,
            "top": null,
            "visibility": null,
            "width": null
          }
        },
        "69ac1cedcaa34b96bd7b78d3d90fcd3d": {
          "model_module": "@jupyter-widgets/controls",
          "model_module_version": "1.5.0",
          "model_name": "HTMLModel",
          "state": {
            "_dom_classes": [],
            "_model_module": "@jupyter-widgets/controls",
            "_model_module_version": "1.5.0",
            "_model_name": "HTMLModel",
            "_view_count": null,
            "_view_module": "@jupyter-widgets/controls",
            "_view_module_version": "1.5.0",
            "_view_name": "HTMLView",
            "description": "",
            "description_tooltip": null,
            "layout": "IPY_MODEL_97522ec6ae3c4c27a8bb2ad5089f32f9",
            "placeholder": "​",
            "style": "IPY_MODEL_b6f293cec1ac4245836ef3085b6db41b",
            "value": " 1.10k/1.10k [00:00&lt;00:00, 32.9kB/s]"
          }
        },
        "6e8a8d9f2b574c3986aa43f3aa013009": {
          "model_module": "@jupyter-widgets/controls",
          "model_module_version": "1.5.0",
          "model_name": "FloatProgressModel",
          "state": {
            "_dom_classes": [],
            "_model_module": "@jupyter-widgets/controls",
            "_model_module_version": "1.5.0",
            "_model_name": "FloatProgressModel",
            "_view_count": null,
            "_view_module": "@jupyter-widgets/controls",
            "_view_module_version": "1.5.0",
            "_view_name": "ProgressView",
            "bar_style": "success",
            "description": "",
            "description_tooltip": null,
            "layout": "IPY_MODEL_5fc132e271a5412da5ebd7c3bf7db8c6",
            "max": 444780374,
            "min": 0,
            "orientation": "horizontal",
            "style": "IPY_MODEL_16ed92aabf8247ea8b8d753893e15349",
            "value": 444780374
          }
        },
        "82ded40066d9441399fbec115222bb1b": {
          "model_module": "@jupyter-widgets/base",
          "model_module_version": "1.2.0",
          "model_name": "LayoutModel",
          "state": {
            "_model_module": "@jupyter-widgets/base",
            "_model_module_version": "1.2.0",
            "_model_name": "LayoutModel",
            "_view_count": null,
            "_view_module": "@jupyter-widgets/base",
            "_view_module_version": "1.2.0",
            "_view_name": "LayoutView",
            "align_content": null,
            "align_items": null,
            "align_self": null,
            "border": null,
            "bottom": null,
            "display": null,
            "flex": null,
            "flex_flow": null,
            "grid_area": null,
            "grid_auto_columns": null,
            "grid_auto_flow": null,
            "grid_auto_rows": null,
            "grid_column": null,
            "grid_gap": null,
            "grid_row": null,
            "grid_template_areas": null,
            "grid_template_columns": null,
            "grid_template_rows": null,
            "height": null,
            "justify_content": null,
            "justify_items": null,
            "left": null,
            "margin": null,
            "max_height": null,
            "max_width": null,
            "min_height": null,
            "min_width": null,
            "object_fit": null,
            "object_position": null,
            "order": null,
            "overflow": null,
            "overflow_x": null,
            "overflow_y": null,
            "padding": null,
            "right": null,
            "top": null,
            "visibility": null,
            "width": null
          }
        },
        "87943d0829c84b02bb57c31cfd81596d": {
          "model_module": "@jupyter-widgets/base",
          "model_module_version": "1.2.0",
          "model_name": "LayoutModel",
          "state": {
            "_model_module": "@jupyter-widgets/base",
            "_model_module_version": "1.2.0",
            "_model_name": "LayoutModel",
            "_view_count": null,
            "_view_module": "@jupyter-widgets/base",
            "_view_module_version": "1.2.0",
            "_view_name": "LayoutView",
            "align_content": null,
            "align_items": null,
            "align_self": null,
            "border": null,
            "bottom": null,
            "display": null,
            "flex": null,
            "flex_flow": null,
            "grid_area": null,
            "grid_auto_columns": null,
            "grid_auto_flow": null,
            "grid_auto_rows": null,
            "grid_column": null,
            "grid_gap": null,
            "grid_row": null,
            "grid_template_areas": null,
            "grid_template_columns": null,
            "grid_template_rows": null,
            "height": null,
            "justify_content": null,
            "justify_items": null,
            "left": null,
            "margin": null,
            "max_height": null,
            "max_width": null,
            "min_height": null,
            "min_width": null,
            "object_fit": null,
            "object_position": null,
            "order": null,
            "overflow": null,
            "overflow_x": null,
            "overflow_y": null,
            "padding": null,
            "right": null,
            "top": null,
            "visibility": null,
            "width": null
          }
        },
        "8944fa1916e74faf9f1db2ec1b579058": {
          "model_module": "@jupyter-widgets/base",
          "model_module_version": "1.2.0",
          "model_name": "LayoutModel",
          "state": {
            "_model_module": "@jupyter-widgets/base",
            "_model_module_version": "1.2.0",
            "_model_name": "LayoutModel",
            "_view_count": null,
            "_view_module": "@jupyter-widgets/base",
            "_view_module_version": "1.2.0",
            "_view_name": "LayoutView",
            "align_content": null,
            "align_items": null,
            "align_self": null,
            "border": null,
            "bottom": null,
            "display": null,
            "flex": null,
            "flex_flow": null,
            "grid_area": null,
            "grid_auto_columns": null,
            "grid_auto_flow": null,
            "grid_auto_rows": null,
            "grid_column": null,
            "grid_gap": null,
            "grid_row": null,
            "grid_template_areas": null,
            "grid_template_columns": null,
            "grid_template_rows": null,
            "height": null,
            "justify_content": null,
            "justify_items": null,
            "left": null,
            "margin": null,
            "max_height": null,
            "max_width": null,
            "min_height": null,
            "min_width": null,
            "object_fit": null,
            "object_position": null,
            "order": null,
            "overflow": null,
            "overflow_x": null,
            "overflow_y": null,
            "padding": null,
            "right": null,
            "top": null,
            "visibility": null,
            "width": null
          }
        },
        "8a4e7b07045e4992915ad7cb826b2419": {
          "model_module": "@jupyter-widgets/controls",
          "model_module_version": "1.5.0",
          "model_name": "HTMLModel",
          "state": {
            "_dom_classes": [],
            "_model_module": "@jupyter-widgets/controls",
            "_model_module_version": "1.5.0",
            "_model_name": "HTMLModel",
            "_view_count": null,
            "_view_module": "@jupyter-widgets/controls",
            "_view_module_version": "1.5.0",
            "_view_name": "HTMLView",
            "description": "",
            "description_tooltip": null,
            "layout": "IPY_MODEL_96129e77dc0c476b8e41476863c3418f",
            "placeholder": "​",
            "style": "IPY_MODEL_0d0aa8a0c93b403fb07686294588ebfe",
            "value": "Downloading (…)okenizer_config.json: 100%"
          }
        },
        "8b45b82014104d5892124a41401ed2ab": {
          "model_module": "@jupyter-widgets/controls",
          "model_module_version": "1.5.0",
          "model_name": "ProgressStyleModel",
          "state": {
            "_model_module": "@jupyter-widgets/controls",
            "_model_module_version": "1.5.0",
            "_model_name": "ProgressStyleModel",
            "_view_count": null,
            "_view_module": "@jupyter-widgets/base",
            "_view_module_version": "1.2.0",
            "_view_name": "StyleView",
            "bar_color": null,
            "description_width": ""
          }
        },
        "9375709bfb1f4eae99bed770f423ac83": {
          "model_module": "@jupyter-widgets/controls",
          "model_module_version": "1.5.0",
          "model_name": "FloatProgressModel",
          "state": {
            "_dom_classes": [],
            "_model_module": "@jupyter-widgets/controls",
            "_model_module_version": "1.5.0",
            "_model_name": "FloatProgressModel",
            "_view_count": null,
            "_view_module": "@jupyter-widgets/controls",
            "_view_module_version": "1.5.0",
            "_view_name": "ProgressView",
            "bar_style": "success",
            "description": "",
            "description_tooltip": null,
            "layout": "IPY_MODEL_d08ace5b11324f83ab3a25abf5820af1",
            "max": 1101,
            "min": 0,
            "orientation": "horizontal",
            "style": "IPY_MODEL_8b45b82014104d5892124a41401ed2ab",
            "value": 1101
          }
        },
        "9387f4695cd84d7586b2d1e9e499d1ce": {
          "model_module": "@jupyter-widgets/controls",
          "model_module_version": "1.5.0",
          "model_name": "FloatProgressModel",
          "state": {
            "_dom_classes": [],
            "_model_module": "@jupyter-widgets/controls",
            "_model_module_version": "1.5.0",
            "_model_name": "FloatProgressModel",
            "_view_count": null,
            "_view_module": "@jupyter-widgets/controls",
            "_view_module_version": "1.5.0",
            "_view_name": "ProgressView",
            "bar_style": "success",
            "description": "",
            "description_tooltip": null,
            "layout": "IPY_MODEL_2e2e5b0affe745df8c0bd68838e84d3a",
            "max": 235395,
            "min": 0,
            "orientation": "horizontal",
            "style": "IPY_MODEL_bf8c8b79e5d54c65b8162f22d95e376d",
            "value": 235395
          }
        },
        "96129e77dc0c476b8e41476863c3418f": {
          "model_module": "@jupyter-widgets/base",
          "model_module_version": "1.2.0",
          "model_name": "LayoutModel",
          "state": {
            "_model_module": "@jupyter-widgets/base",
            "_model_module_version": "1.2.0",
            "_model_name": "LayoutModel",
            "_view_count": null,
            "_view_module": "@jupyter-widgets/base",
            "_view_module_version": "1.2.0",
            "_view_name": "LayoutView",
            "align_content": null,
            "align_items": null,
            "align_self": null,
            "border": null,
            "bottom": null,
            "display": null,
            "flex": null,
            "flex_flow": null,
            "grid_area": null,
            "grid_auto_columns": null,
            "grid_auto_flow": null,
            "grid_auto_rows": null,
            "grid_column": null,
            "grid_gap": null,
            "grid_row": null,
            "grid_template_areas": null,
            "grid_template_columns": null,
            "grid_template_rows": null,
            "height": null,
            "justify_content": null,
            "justify_items": null,
            "left": null,
            "margin": null,
            "max_height": null,
            "max_width": null,
            "min_height": null,
            "min_width": null,
            "object_fit": null,
            "object_position": null,
            "order": null,
            "overflow": null,
            "overflow_x": null,
            "overflow_y": null,
            "padding": null,
            "right": null,
            "top": null,
            "visibility": null,
            "width": null
          }
        },
        "97522ec6ae3c4c27a8bb2ad5089f32f9": {
          "model_module": "@jupyter-widgets/base",
          "model_module_version": "1.2.0",
          "model_name": "LayoutModel",
          "state": {
            "_model_module": "@jupyter-widgets/base",
            "_model_module_version": "1.2.0",
            "_model_name": "LayoutModel",
            "_view_count": null,
            "_view_module": "@jupyter-widgets/base",
            "_view_module_version": "1.2.0",
            "_view_name": "LayoutView",
            "align_content": null,
            "align_items": null,
            "align_self": null,
            "border": null,
            "bottom": null,
            "display": null,
            "flex": null,
            "flex_flow": null,
            "grid_area": null,
            "grid_auto_columns": null,
            "grid_auto_flow": null,
            "grid_auto_rows": null,
            "grid_column": null,
            "grid_gap": null,
            "grid_row": null,
            "grid_template_areas": null,
            "grid_template_columns": null,
            "grid_template_rows": null,
            "height": null,
            "justify_content": null,
            "justify_items": null,
            "left": null,
            "margin": null,
            "max_height": null,
            "max_width": null,
            "min_height": null,
            "min_width": null,
            "object_fit": null,
            "object_position": null,
            "order": null,
            "overflow": null,
            "overflow_x": null,
            "overflow_y": null,
            "padding": null,
            "right": null,
            "top": null,
            "visibility": null,
            "width": null
          }
        },
        "a52ec15c3f9140b99083f0343d02edd2": {
          "model_module": "@jupyter-widgets/controls",
          "model_module_version": "1.5.0",
          "model_name": "DescriptionStyleModel",
          "state": {
            "_model_module": "@jupyter-widgets/controls",
            "_model_module_version": "1.5.0",
            "_model_name": "DescriptionStyleModel",
            "_view_count": null,
            "_view_module": "@jupyter-widgets/base",
            "_view_module_version": "1.2.0",
            "_view_name": "StyleView",
            "description_width": ""
          }
        },
        "a7a69a63902940af8ffa414608c9c94a": {
          "model_module": "@jupyter-widgets/base",
          "model_module_version": "1.2.0",
          "model_name": "LayoutModel",
          "state": {
            "_model_module": "@jupyter-widgets/base",
            "_model_module_version": "1.2.0",
            "_model_name": "LayoutModel",
            "_view_count": null,
            "_view_module": "@jupyter-widgets/base",
            "_view_module_version": "1.2.0",
            "_view_name": "LayoutView",
            "align_content": null,
            "align_items": null,
            "align_self": null,
            "border": null,
            "bottom": null,
            "display": null,
            "flex": null,
            "flex_flow": null,
            "grid_area": null,
            "grid_auto_columns": null,
            "grid_auto_flow": null,
            "grid_auto_rows": null,
            "grid_column": null,
            "grid_gap": null,
            "grid_row": null,
            "grid_template_areas": null,
            "grid_template_columns": null,
            "grid_template_rows": null,
            "height": null,
            "justify_content": null,
            "justify_items": null,
            "left": null,
            "margin": null,
            "max_height": null,
            "max_width": null,
            "min_height": null,
            "min_width": null,
            "object_fit": null,
            "object_position": null,
            "order": null,
            "overflow": null,
            "overflow_x": null,
            "overflow_y": null,
            "padding": null,
            "right": null,
            "top": null,
            "visibility": null,
            "width": null
          }
        },
        "ace6993e3bda4fd7b65257657d34d94f": {
          "model_module": "@jupyter-widgets/base",
          "model_module_version": "1.2.0",
          "model_name": "LayoutModel",
          "state": {
            "_model_module": "@jupyter-widgets/base",
            "_model_module_version": "1.2.0",
            "_model_name": "LayoutModel",
            "_view_count": null,
            "_view_module": "@jupyter-widgets/base",
            "_view_module_version": "1.2.0",
            "_view_name": "LayoutView",
            "align_content": null,
            "align_items": null,
            "align_self": null,
            "border": null,
            "bottom": null,
            "display": null,
            "flex": null,
            "flex_flow": null,
            "grid_area": null,
            "grid_auto_columns": null,
            "grid_auto_flow": null,
            "grid_auto_rows": null,
            "grid_column": null,
            "grid_gap": null,
            "grid_row": null,
            "grid_template_areas": null,
            "grid_template_columns": null,
            "grid_template_rows": null,
            "height": null,
            "justify_content": null,
            "justify_items": null,
            "left": null,
            "margin": null,
            "max_height": null,
            "max_width": null,
            "min_height": null,
            "min_width": null,
            "object_fit": null,
            "object_position": null,
            "order": null,
            "overflow": null,
            "overflow_x": null,
            "overflow_y": null,
            "padding": null,
            "right": null,
            "top": null,
            "visibility": null,
            "width": null
          }
        },
        "ad23a06bb41843269fc31ddbfe3d6b09": {
          "model_module": "@jupyter-widgets/controls",
          "model_module_version": "1.5.0",
          "model_name": "DescriptionStyleModel",
          "state": {
            "_model_module": "@jupyter-widgets/controls",
            "_model_module_version": "1.5.0",
            "_model_name": "DescriptionStyleModel",
            "_view_count": null,
            "_view_module": "@jupyter-widgets/base",
            "_view_module_version": "1.2.0",
            "_view_name": "StyleView",
            "description_width": ""
          }
        },
        "af5f507659e3415e92534ba94b547a4f": {
          "model_module": "@jupyter-widgets/controls",
          "model_module_version": "1.5.0",
          "model_name": "DescriptionStyleModel",
          "state": {
            "_model_module": "@jupyter-widgets/controls",
            "_model_module_version": "1.5.0",
            "_model_name": "DescriptionStyleModel",
            "_view_count": null,
            "_view_module": "@jupyter-widgets/base",
            "_view_module_version": "1.2.0",
            "_view_name": "StyleView",
            "description_width": ""
          }
        },
        "b31f107009f641b4a244da708c866467": {
          "model_module": "@jupyter-widgets/base",
          "model_module_version": "1.2.0",
          "model_name": "LayoutModel",
          "state": {
            "_model_module": "@jupyter-widgets/base",
            "_model_module_version": "1.2.0",
            "_model_name": "LayoutModel",
            "_view_count": null,
            "_view_module": "@jupyter-widgets/base",
            "_view_module_version": "1.2.0",
            "_view_name": "LayoutView",
            "align_content": null,
            "align_items": null,
            "align_self": null,
            "border": null,
            "bottom": null,
            "display": null,
            "flex": null,
            "flex_flow": null,
            "grid_area": null,
            "grid_auto_columns": null,
            "grid_auto_flow": null,
            "grid_auto_rows": null,
            "grid_column": null,
            "grid_gap": null,
            "grid_row": null,
            "grid_template_areas": null,
            "grid_template_columns": null,
            "grid_template_rows": null,
            "height": null,
            "justify_content": null,
            "justify_items": null,
            "left": null,
            "margin": null,
            "max_height": null,
            "max_width": null,
            "min_height": null,
            "min_width": null,
            "object_fit": null,
            "object_position": null,
            "order": null,
            "overflow": null,
            "overflow_x": null,
            "overflow_y": null,
            "padding": null,
            "right": null,
            "top": null,
            "visibility": null,
            "width": null
          }
        },
        "b38a73ae5ee74614bf5ce5fe72744b24": {
          "model_module": "@jupyter-widgets/controls",
          "model_module_version": "1.5.0",
          "model_name": "DescriptionStyleModel",
          "state": {
            "_model_module": "@jupyter-widgets/controls",
            "_model_module_version": "1.5.0",
            "_model_name": "DescriptionStyleModel",
            "_view_count": null,
            "_view_module": "@jupyter-widgets/base",
            "_view_module_version": "1.2.0",
            "_view_name": "StyleView",
            "description_width": ""
          }
        },
        "b6f293cec1ac4245836ef3085b6db41b": {
          "model_module": "@jupyter-widgets/controls",
          "model_module_version": "1.5.0",
          "model_name": "DescriptionStyleModel",
          "state": {
            "_model_module": "@jupyter-widgets/controls",
            "_model_module_version": "1.5.0",
            "_model_name": "DescriptionStyleModel",
            "_view_count": null,
            "_view_module": "@jupyter-widgets/base",
            "_view_module_version": "1.2.0",
            "_view_name": "StyleView",
            "description_width": ""
          }
        },
        "bb3dd85d2c184d169b471d592ce25950": {
          "model_module": "@jupyter-widgets/controls",
          "model_module_version": "1.5.0",
          "model_name": "FloatProgressModel",
          "state": {
            "_dom_classes": [],
            "_model_module": "@jupyter-widgets/controls",
            "_model_module_version": "1.5.0",
            "_model_name": "FloatProgressModel",
            "_view_count": null,
            "_view_module": "@jupyter-widgets/controls",
            "_view_module_version": "1.5.0",
            "_view_name": "ProgressView",
            "bar_style": "success",
            "description": "",
            "description_tooltip": null,
            "layout": "IPY_MODEL_480db6b365b34a9bac6c35fa34a86913",
            "max": 112,
            "min": 0,
            "orientation": "horizontal",
            "style": "IPY_MODEL_48ca9c300d79403a9e40d0b38ad9d386",
            "value": 112
          }
        },
        "bf8c8b79e5d54c65b8162f22d95e376d": {
          "model_module": "@jupyter-widgets/controls",
          "model_module_version": "1.5.0",
          "model_name": "ProgressStyleModel",
          "state": {
            "_model_module": "@jupyter-widgets/controls",
            "_model_module_version": "1.5.0",
            "_model_name": "ProgressStyleModel",
            "_view_count": null,
            "_view_module": "@jupyter-widgets/base",
            "_view_module_version": "1.2.0",
            "_view_name": "StyleView",
            "bar_color": null,
            "description_width": ""
          }
        },
        "bfcaa76597b94c2588f0cbf12f2222e6": {
          "model_module": "@jupyter-widgets/controls",
          "model_module_version": "1.5.0",
          "model_name": "HTMLModel",
          "state": {
            "_dom_classes": [],
            "_model_module": "@jupyter-widgets/controls",
            "_model_module_version": "1.5.0",
            "_model_name": "HTMLModel",
            "_view_count": null,
            "_view_module": "@jupyter-widgets/controls",
            "_view_module_version": "1.5.0",
            "_view_name": "HTMLView",
            "description": "",
            "description_tooltip": null,
            "layout": "IPY_MODEL_34b0b12bc00e4512b8b4458a6e427f58",
            "placeholder": "​",
            "style": "IPY_MODEL_a52ec15c3f9140b99083f0343d02edd2",
            "value": "Downloading (…)cial_tokens_map.json: 100%"
          }
        },
        "c20583b17f9449a3b4d968d543ae5c78": {
          "model_module": "@jupyter-widgets/base",
          "model_module_version": "1.2.0",
          "model_name": "LayoutModel",
          "state": {
            "_model_module": "@jupyter-widgets/base",
            "_model_module_version": "1.2.0",
            "_model_name": "LayoutModel",
            "_view_count": null,
            "_view_module": "@jupyter-widgets/base",
            "_view_module_version": "1.2.0",
            "_view_name": "LayoutView",
            "align_content": null,
            "align_items": null,
            "align_self": null,
            "border": null,
            "bottom": null,
            "display": null,
            "flex": null,
            "flex_flow": null,
            "grid_area": null,
            "grid_auto_columns": null,
            "grid_auto_flow": null,
            "grid_auto_rows": null,
            "grid_column": null,
            "grid_gap": null,
            "grid_row": null,
            "grid_template_areas": null,
            "grid_template_columns": null,
            "grid_template_rows": null,
            "height": null,
            "justify_content": null,
            "justify_items": null,
            "left": null,
            "margin": null,
            "max_height": null,
            "max_width": null,
            "min_height": null,
            "min_width": null,
            "object_fit": null,
            "object_position": null,
            "order": null,
            "overflow": null,
            "overflow_x": null,
            "overflow_y": null,
            "padding": null,
            "right": null,
            "top": null,
            "visibility": null,
            "width": null
          }
        },
        "c6f7a18c98724e8ea4cfdeaf07c6ff4c": {
          "model_module": "@jupyter-widgets/controls",
          "model_module_version": "1.5.0",
          "model_name": "HBoxModel",
          "state": {
            "_dom_classes": [],
            "_model_module": "@jupyter-widgets/controls",
            "_model_module_version": "1.5.0",
            "_model_name": "HBoxModel",
            "_view_count": null,
            "_view_module": "@jupyter-widgets/controls",
            "_view_module_version": "1.5.0",
            "_view_name": "HBoxView",
            "box_style": "",
            "children": [
              "IPY_MODEL_4450716dad90472c8f51b07d7ec5aecf",
              "IPY_MODEL_6e8a8d9f2b574c3986aa43f3aa013009",
              "IPY_MODEL_df7fbc8cebc64ed3aa52b3ab20d5e7fc"
            ],
            "layout": "IPY_MODEL_ace6993e3bda4fd7b65257657d34d94f"
          }
        },
        "cacc0be4012344358e69522280cea675": {
          "model_module": "@jupyter-widgets/controls",
          "model_module_version": "1.5.0",
          "model_name": "HBoxModel",
          "state": {
            "_dom_classes": [],
            "_model_module": "@jupyter-widgets/controls",
            "_model_module_version": "1.5.0",
            "_model_name": "HBoxModel",
            "_view_count": null,
            "_view_module": "@jupyter-widgets/controls",
            "_view_module_version": "1.5.0",
            "_view_name": "HBoxView",
            "box_style": "",
            "children": [
              "IPY_MODEL_8a4e7b07045e4992915ad7cb826b2419",
              "IPY_MODEL_08975a495f214c1387f2a36b43fe5525",
              "IPY_MODEL_324e3503a15f4a8c9bb4a3995ebbc003"
            ],
            "layout": "IPY_MODEL_82ded40066d9441399fbec115222bb1b"
          }
        },
        "cbb96aed3d70479e8ac0c46717e92d87": {
          "model_module": "@jupyter-widgets/controls",
          "model_module_version": "1.5.0",
          "model_name": "DescriptionStyleModel",
          "state": {
            "_model_module": "@jupyter-widgets/controls",
            "_model_module_version": "1.5.0",
            "_model_name": "DescriptionStyleModel",
            "_view_count": null,
            "_view_module": "@jupyter-widgets/base",
            "_view_module_version": "1.2.0",
            "_view_name": "StyleView",
            "description_width": ""
          }
        },
        "d08ace5b11324f83ab3a25abf5820af1": {
          "model_module": "@jupyter-widgets/base",
          "model_module_version": "1.2.0",
          "model_name": "LayoutModel",
          "state": {
            "_model_module": "@jupyter-widgets/base",
            "_model_module_version": "1.2.0",
            "_model_name": "LayoutModel",
            "_view_count": null,
            "_view_module": "@jupyter-widgets/base",
            "_view_module_version": "1.2.0",
            "_view_name": "LayoutView",
            "align_content": null,
            "align_items": null,
            "align_self": null,
            "border": null,
            "bottom": null,
            "display": null,
            "flex": null,
            "flex_flow": null,
            "grid_area": null,
            "grid_auto_columns": null,
            "grid_auto_flow": null,
            "grid_auto_rows": null,
            "grid_column": null,
            "grid_gap": null,
            "grid_row": null,
            "grid_template_areas": null,
            "grid_template_columns": null,
            "grid_template_rows": null,
            "height": null,
            "justify_content": null,
            "justify_items": null,
            "left": null,
            "margin": null,
            "max_height": null,
            "max_width": null,
            "min_height": null,
            "min_width": null,
            "object_fit": null,
            "object_position": null,
            "order": null,
            "overflow": null,
            "overflow_x": null,
            "overflow_y": null,
            "padding": null,
            "right": null,
            "top": null,
            "visibility": null,
            "width": null
          }
        },
        "d272fa5c66894ebd86758707fcab6f4b": {
          "model_module": "@jupyter-widgets/base",
          "model_module_version": "1.2.0",
          "model_name": "LayoutModel",
          "state": {
            "_model_module": "@jupyter-widgets/base",
            "_model_module_version": "1.2.0",
            "_model_name": "LayoutModel",
            "_view_count": null,
            "_view_module": "@jupyter-widgets/base",
            "_view_module_version": "1.2.0",
            "_view_name": "LayoutView",
            "align_content": null,
            "align_items": null,
            "align_self": null,
            "border": null,
            "bottom": null,
            "display": null,
            "flex": null,
            "flex_flow": null,
            "grid_area": null,
            "grid_auto_columns": null,
            "grid_auto_flow": null,
            "grid_auto_rows": null,
            "grid_column": null,
            "grid_gap": null,
            "grid_row": null,
            "grid_template_areas": null,
            "grid_template_columns": null,
            "grid_template_rows": null,
            "height": null,
            "justify_content": null,
            "justify_items": null,
            "left": null,
            "margin": null,
            "max_height": null,
            "max_width": null,
            "min_height": null,
            "min_width": null,
            "object_fit": null,
            "object_position": null,
            "order": null,
            "overflow": null,
            "overflow_x": null,
            "overflow_y": null,
            "padding": null,
            "right": null,
            "top": null,
            "visibility": null,
            "width": null
          }
        },
        "d34adbf8c5514ed6b82b32ab0957d144": {
          "model_module": "@jupyter-widgets/controls",
          "model_module_version": "1.5.0",
          "model_name": "HTMLModel",
          "state": {
            "_dom_classes": [],
            "_model_module": "@jupyter-widgets/controls",
            "_model_module_version": "1.5.0",
            "_model_name": "HTMLModel",
            "_view_count": null,
            "_view_module": "@jupyter-widgets/controls",
            "_view_module_version": "1.5.0",
            "_view_name": "HTMLView",
            "description": "",
            "description_tooltip": null,
            "layout": "IPY_MODEL_a7a69a63902940af8ffa414608c9c94a",
            "placeholder": "​",
            "style": "IPY_MODEL_b38a73ae5ee74614bf5ce5fe72744b24",
            "value": "Downloading (…)lve/main/config.json: 100%"
          }
        },
        "d900130263ea46989d69a1c1060534df": {
          "model_module": "@jupyter-widgets/controls",
          "model_module_version": "1.5.0",
          "model_name": "HBoxModel",
          "state": {
            "_dom_classes": [],
            "_model_module": "@jupyter-widgets/controls",
            "_model_module_version": "1.5.0",
            "_model_name": "HBoxModel",
            "_view_count": null,
            "_view_module": "@jupyter-widgets/controls",
            "_view_module_version": "1.5.0",
            "_view_name": "HBoxView",
            "box_style": "",
            "children": [
              "IPY_MODEL_bfcaa76597b94c2588f0cbf12f2222e6",
              "IPY_MODEL_bb3dd85d2c184d169b471d592ce25950",
              "IPY_MODEL_4e09ccd9fe7e4b788d6fe19872626689"
            ],
            "layout": "IPY_MODEL_dfabdcbc4c224d8ab9ccf644cb432584"
          }
        },
        "df7fbc8cebc64ed3aa52b3ab20d5e7fc": {
          "model_module": "@jupyter-widgets/controls",
          "model_module_version": "1.5.0",
          "model_name": "HTMLModel",
          "state": {
            "_dom_classes": [],
            "_model_module": "@jupyter-widgets/controls",
            "_model_module_version": "1.5.0",
            "_model_name": "HTMLModel",
            "_view_count": null,
            "_view_module": "@jupyter-widgets/controls",
            "_view_module_version": "1.5.0",
            "_view_name": "HTMLView",
            "description": "",
            "description_tooltip": null,
            "layout": "IPY_MODEL_c20583b17f9449a3b4d968d543ae5c78",
            "placeholder": "​",
            "style": "IPY_MODEL_01b404e5fbaf48e68f9305b5567fa1a1",
            "value": " 445M/445M [00:08&lt;00:00, 47.1MB/s]"
          }
        },
        "dfabdcbc4c224d8ab9ccf644cb432584": {
          "model_module": "@jupyter-widgets/base",
          "model_module_version": "1.2.0",
          "model_name": "LayoutModel",
          "state": {
            "_model_module": "@jupyter-widgets/base",
            "_model_module_version": "1.2.0",
            "_model_name": "LayoutModel",
            "_view_count": null,
            "_view_module": "@jupyter-widgets/base",
            "_view_module_version": "1.2.0",
            "_view_name": "LayoutView",
            "align_content": null,
            "align_items": null,
            "align_self": null,
            "border": null,
            "bottom": null,
            "display": null,
            "flex": null,
            "flex_flow": null,
            "grid_area": null,
            "grid_auto_columns": null,
            "grid_auto_flow": null,
            "grid_auto_rows": null,
            "grid_column": null,
            "grid_gap": null,
            "grid_row": null,
            "grid_template_areas": null,
            "grid_template_columns": null,
            "grid_template_rows": null,
            "height": null,
            "justify_content": null,
            "justify_items": null,
            "left": null,
            "margin": null,
            "max_height": null,
            "max_width": null,
            "min_height": null,
            "min_width": null,
            "object_fit": null,
            "object_position": null,
            "order": null,
            "overflow": null,
            "overflow_x": null,
            "overflow_y": null,
            "padding": null,
            "right": null,
            "top": null,
            "visibility": null,
            "width": null
          }
        },
        "f3cc503d6bf84635a95cf7b1ca5201ef": {
          "model_module": "@jupyter-widgets/controls",
          "model_module_version": "1.5.0",
          "model_name": "HTMLModel",
          "state": {
            "_dom_classes": [],
            "_model_module": "@jupyter-widgets/controls",
            "_model_module_version": "1.5.0",
            "_model_name": "HTMLModel",
            "_view_count": null,
            "_view_module": "@jupyter-widgets/controls",
            "_view_module_version": "1.5.0",
            "_view_name": "HTMLView",
            "description": "",
            "description_tooltip": null,
            "layout": "IPY_MODEL_fbf501130116434495d9c20b14e7d319",
            "placeholder": "​",
            "style": "IPY_MODEL_48db847607104d1cb82d9f9ee05cf23a",
            "value": " 235k/235k [00:00&lt;00:00, 3.49MB/s]"
          }
        },
        "fbf501130116434495d9c20b14e7d319": {
          "model_module": "@jupyter-widgets/base",
          "model_module_version": "1.2.0",
          "model_name": "LayoutModel",
          "state": {
            "_model_module": "@jupyter-widgets/base",
            "_model_module_version": "1.2.0",
            "_model_name": "LayoutModel",
            "_view_count": null,
            "_view_module": "@jupyter-widgets/base",
            "_view_module_version": "1.2.0",
            "_view_name": "LayoutView",
            "align_content": null,
            "align_items": null,
            "align_self": null,
            "border": null,
            "bottom": null,
            "display": null,
            "flex": null,
            "flex_flow": null,
            "grid_area": null,
            "grid_auto_columns": null,
            "grid_auto_flow": null,
            "grid_auto_rows": null,
            "grid_column": null,
            "grid_gap": null,
            "grid_row": null,
            "grid_template_areas": null,
            "grid_template_columns": null,
            "grid_template_rows": null,
            "height": null,
            "justify_content": null,
            "justify_items": null,
            "left": null,
            "margin": null,
            "max_height": null,
            "max_width": null,
            "min_height": null,
            "min_width": null,
            "object_fit": null,
            "object_position": null,
            "order": null,
            "overflow": null,
            "overflow_x": null,
            "overflow_y": null,
            "padding": null,
            "right": null,
            "top": null,
            "visibility": null,
            "width": null
          }
        }
      }
    }
  },
  "nbformat": 4,
  "nbformat_minor": 0
}
